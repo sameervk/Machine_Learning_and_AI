{
 "cells": [
  {
   "cell_type": "markdown",
   "metadata": {
    "colab_type": "text",
    "id": "BlmQIFSLZDdc"
   },
   "source": [
    "# DSfIOT: Machine Learning End to End Tutorial "
   ]
  },
  {
   "cell_type": "markdown",
   "metadata": {
    "colab_type": "text",
    "id": "kSI9uEem9zvX"
   },
   "source": [
    "\n",
    "## Aims and Structure of the session\n"
   ]
  },
  {
   "cell_type": "markdown",
   "metadata": {
    "colab_type": "text",
    "id": "NAUFltle9zyP"
   },
   "source": [
    "### Aims\n",
    "\n",
    "* Provide an overview and end-to-end implementation of a machine learning problem, using supervised learning methods \n",
    "* Provide code and exercises to develop learning \n",
    "* Provide links to further reading and ideas for future exercises that enable you to continue learning\n",
    "* We are limited on time, and therefore *won't* cover:\n",
    "  * *Machine Learning Theory* in any great detail, other than to enable you to understand the code we are implementing \n",
    "  * *Exploratory Data Analysis*, which is often undertaken prior to building models to understand the data and what features might be useful in our model\n",
    "  * *Feature Engineering*, which is about developing new features from the data that might better serve how our model predicts output variable\n",
    "  * *Visualisations* of the modelling and data, which can be helpful in understanding model performance (and are also used for exploratory data analysis)\n",
    "* We can look to cover these topics at future sessions or via Slack with the same or a different dataset - it would be good to understand what your priorities are"
   ]
  },
  {
   "cell_type": "markdown",
   "metadata": {
    "colab_type": "text",
    "id": "WDRYcGBW-jfG"
   },
   "source": [
    "### Structure of session \n",
    "\n",
    "* **Part 1: Machine Learning:** \n",
    "  1. Introduction to ML and ML approach, Introduction to problem\n",
    "  2. Load data, preprocess and split data\n",
    "  3. Build model,  train and predict \n",
    "  4. Refine model \n",
    "\n",
    "* **Part 2: Deep Learning** \n",
    "  1. Introduction to Deep Learning and Keras \n",
    "  2. Build DL model, train and predict \n",
    "  3. Refine model \n",
    " "
   ]
  },
  {
   "cell_type": "markdown",
   "metadata": {
    "colab_type": "text",
    "id": "D6AaSHgVAX8P"
   },
   "source": [
    "## Part 1: Machine Learning \n"
   ]
  },
  {
   "cell_type": "markdown",
   "metadata": {
    "colab_type": "text",
    "id": "SkHyqybY_05Q"
   },
   "source": [
    "### 1. Introduction to Machine Learning, Machine Learning Approach and Introduction to the problem "
   ]
  },
  {
   "cell_type": "markdown",
   "metadata": {
    "colab_type": "text",
    "id": "fC4WN8OfBfKM"
   },
   "source": [
    "#### 1.1 Introduction to Machine Learning\n",
    "**Aim:** \n",
    "* To introduce the concept of machine learning \n",
    "* Introduce the different types of machine learning\n",
    "\n",
    "---\n",
    "\n",
    "\n",
    "**Machine Learning**\n",
    "* From ['Python Data Science Handbook'](https://jakevdp.github.io/PythonDataScienceHandbook/) by Jake VanderPlass:\n",
    "\n",
    "*Machine learning is often categorized as a subfield of artificial intelligence, but I find that categorization can often be misleading at first brush. The study of machine learning certainly arose from research in this context, but in the data science application of machine learning methods, it’s more helpful to think of **machine learning as a means of building models of data**.*\n",
    "\n",
    "\n",
    "*Fundamentally, **machine learning involves building mathematical models to help understand data**. “Learning” enters the fray when we give these models tunable parameters that can be adapted to observed data; in this way the program can be considered to be “learning” from the data. Once these models have been fit to previously seen data, they can be used to predict and understand aspects of newly observed data.*\n",
    "\n",
    "* Chapter 2 of *Introduction to Statistical Learning* (available free [here](http://www-bcf.usc.edu/~gareth/ISL/)) has an excellent overview of topics relating to Machine Learning.\n",
    "\n",
    "\n",
    "**Different types of Machine Learning**\n",
    "\n",
    "* *Supervised learning* is about modeling the relationship between features of data and a label associated with the data. Once this model is determined, it can be used to apply labels to new, unknown data. \n",
    "* Supervised learning can either be a *classification* task (where our labels are in discrete categories) or *regression* task (where our labels are continuous quantities). \n",
    "* *Unsupervised learning* models the features of a dataset without reference to any label. These models include tasks such as clustering and dimensionality reduction. We can use unsupervised learning rechnqiues to preprocess data prior to running supervised learning models. \n",
    "* *Semi-supervised learning* can also be used when we only have incomplete labels for our data.\n",
    "* We will cover *deep learning* on Day 2, but it can be thought of as a way of implementimg  *supervised*, *unsupervised* and *semi-supervised* learning. \n"
   ]
  },
  {
   "cell_type": "markdown",
   "metadata": {
    "colab_type": "text",
    "id": "MDCEfRksBe7D"
   },
   "source": [
    "#### 1.2 Approaching an ML problem \n",
    "**Aim:** \n",
    "* To introduce an approach to tackling a machine learning problem, which we will then follow in this tutorial. \n",
    "\n",
    "---\n",
    "\n",
    "**Outline approach** \n",
    "\n",
    "* From '*Python Machine Learning*', by Sebastian Raschka (see [here](https://sebastianraschka.com/books.html) for details)\n",
    "\n",
    "![alt text](https://www.safaribooksonline.com/library/view/python-machine-learning/9781787125933/graphics/B07030_01_09.jpg)\n",
    "\n"
   ]
  },
  {
   "cell_type": "markdown",
   "metadata": {
    "colab_type": "text",
    "id": "VnPU_Nu5Ypw9"
   },
   "source": [
    "#### 1.3 Introduction to the problem \n",
    "**Aim:** \n",
    "* To introduce how we might structure problem statements for machine learning problems\n",
    "* Determine how we are going to approach this problem \n",
    "\n",
    "\n",
    "---\n",
    "* A problem statement for a machine learning problem might include:\n",
    "  * a problem statement, defining the problem(s) that we are trying to solve\n",
    "  * the dataset and any other inputs we might be able to draw upon (e.g. domain knowledge)\n",
    "  * a solution statement, setting out how we intend to solve the problem using the data and other inputs available \n",
    "  * whether we have a benchmark model to compare our work against\n",
    "  * the evaluation metrics we intend to use to score our models\n",
    "  * we might also define upfront what our target variable is, what platform or hardware considerations need to be taken into account, and any risks we might have to success\n",
    "  \n",
    "* For this tutorial, we have a dataset provided, which is covered in more detail below."
   ]
  },
  {
   "cell_type": "markdown",
   "metadata": {
    "colab_type": "text",
    "id": "0iFv8xiPAEym"
   },
   "source": [
    "**Black Friday Dataset**\n",
    "* We will work on the Black Friday dataset in this article. The dataset and problem are from Kaggle\n",
    "also adapted from this [post](https://medium.com/analytics-vidhya/build-your-first-neural-network-model-on-a-structured-dataset-using-keras-d9e7de5c6724)\n",
    "* We have been provided with various information about customer demographics (age, gender, marital status, city_type, stay_in_current_city) and product details (product_id and product category). \n",
    "\n",
    "Below is the data dictionary (`Variable`          |                  *Definition*)\n",
    "\n",
    "* `User_ID`       |    *User ID*\n",
    "\n",
    "* `Product_ID` |   *Product ID*\n",
    "    \n",
    "* `Gender` |   *Sex of User*\n",
    "\n",
    "* `Age` |  *Age in bins*\n",
    "\n",
    "* `Occupation` |   *Occupation ( Masked)*\n",
    "\n",
    "* `City_Category` |    *Category of the city (A, B, C)*\n",
    "\n",
    "* `Stay_In_Current_City_Years` |  *Number of years stay in current city*\n",
    "\n",
    "* `Marital_Status` |  *Marital Status*\n",
    "\n",
    "* `Product_Category_1` |   *Product Category (Masked)*\n",
    "\n",
    "* `Product_Category_2` |  *Product may belong to other category also (Masked)*\n",
    "\n",
    "* `Product_Category_3` |  *Product  may belong to other category also (Masked)*\n",
    "\n",
    "* `Purchase` |  *Purchase Amount*\n"
   ]
  },
  {
   "cell_type": "markdown",
   "metadata": {
    "colab_type": "text",
    "id": "lqkIjlq7BswL"
   },
   "source": [
    "**EXERCISE 1.3:** Can you define the problem statement and determine the target variable? What type of machine learning problem is this?\n",
    "\n",
    "---\n",
    "\n",
    "**ANSWER:** Inferring which features primarily determine the target, which is Purchase, and forming a model for prediction. This is a supervised learning problem. Using regression to determine the inference and prediction.\n",
    "\n",
    "\n",
    "\n"
   ]
  },
  {
   "cell_type": "markdown",
   "metadata": {
    "colab_type": "text",
    "id": "Nryq6GB-_srJ"
   },
   "source": [
    "### 2. Load, preprocess and split the data\n",
    "**Aim:** \n",
    "* To undersand the dataset better\n",
    "* To understand why and how we preprocess the data in preparation for it being modelled \n",
    "* To understand why and how we split the data into training and testing sets\n"
   ]
  },
  {
   "cell_type": "markdown",
   "metadata": {
    "colab_type": "text",
    "id": "5y2DGKw5E5j-"
   },
   "source": [
    "#### 2.1 Loading the data \n",
    "\n",
    "  \n"
   ]
  },
  {
   "cell_type": "code",
   "execution_count": 1,
   "metadata": {
    "colab": {},
    "colab_type": "code",
    "id": "t9ALbbpmY9rm"
   },
   "outputs": [],
   "source": [
    "import numpy as np\n",
    "import pandas as pd\n",
    "\n",
    "# Read Necessary files - because we are loading a provided dataset, we are loading both files \n",
    "fullData = pd.read_csv(\"https://raw.githubusercontent.com/dsiot/wearables/master/course/bf_train.csv\")"
   ]
  },
  {
   "cell_type": "code",
   "execution_count": 2,
   "metadata": {
    "colab": {},
    "colab_type": "code",
    "id": "TlBBuUWIdjU5"
   },
   "outputs": [],
   "source": [
    "#from jupyterthemes import jtplot\n",
    "#jtplot.style()"
   ]
  },
  {
   "cell_type": "markdown",
   "metadata": {
    "colab_type": "text",
    "id": "xZsHwhBrMYz3"
   },
   "source": [
    "##### Get a feel for the data "
   ]
  },
  {
   "cell_type": "code",
   "execution_count": 3,
   "metadata": {
    "colab": {
     "base_uri": "https://localhost:8080/",
     "height": 308
    },
    "colab_type": "code",
    "id": "JoZituJ7McYC",
    "outputId": "e1f10752-b277-4f88-ffe0-a3c3e48588c6"
   },
   "outputs": [
    {
     "name": "stdout",
     "output_type": "stream",
     "text": [
      "Top 5 lines of dataset:\n"
     ]
    },
    {
     "data": {
      "text/html": [
       "<div>\n",
       "<style scoped>\n",
       "    .dataframe tbody tr th:only-of-type {\n",
       "        vertical-align: middle;\n",
       "    }\n",
       "\n",
       "    .dataframe tbody tr th {\n",
       "        vertical-align: top;\n",
       "    }\n",
       "\n",
       "    .dataframe thead th {\n",
       "        text-align: right;\n",
       "    }\n",
       "</style>\n",
       "<table border=\"1\" class=\"dataframe\">\n",
       "  <thead>\n",
       "    <tr style=\"text-align: right;\">\n",
       "      <th></th>\n",
       "      <th>User_ID</th>\n",
       "      <th>Product_ID</th>\n",
       "      <th>Gender</th>\n",
       "      <th>Age</th>\n",
       "      <th>Occupation</th>\n",
       "      <th>City_Category</th>\n",
       "      <th>Stay_In_Current_City_Years</th>\n",
       "      <th>Marital_Status</th>\n",
       "      <th>Product_Category_1</th>\n",
       "      <th>Product_Category_2</th>\n",
       "      <th>Product_Category_3</th>\n",
       "      <th>Purchase</th>\n",
       "    </tr>\n",
       "  </thead>\n",
       "  <tbody>\n",
       "    <tr>\n",
       "      <th>0</th>\n",
       "      <td>1000001</td>\n",
       "      <td>P00069042</td>\n",
       "      <td>F</td>\n",
       "      <td>0-17</td>\n",
       "      <td>10</td>\n",
       "      <td>A</td>\n",
       "      <td>2</td>\n",
       "      <td>0</td>\n",
       "      <td>3</td>\n",
       "      <td>NaN</td>\n",
       "      <td>NaN</td>\n",
       "      <td>8370</td>\n",
       "    </tr>\n",
       "    <tr>\n",
       "      <th>1</th>\n",
       "      <td>1000001</td>\n",
       "      <td>P00248942</td>\n",
       "      <td>F</td>\n",
       "      <td>0-17</td>\n",
       "      <td>10</td>\n",
       "      <td>A</td>\n",
       "      <td>2</td>\n",
       "      <td>0</td>\n",
       "      <td>1</td>\n",
       "      <td>6.0</td>\n",
       "      <td>14.0</td>\n",
       "      <td>15200</td>\n",
       "    </tr>\n",
       "    <tr>\n",
       "      <th>2</th>\n",
       "      <td>1000001</td>\n",
       "      <td>P00087842</td>\n",
       "      <td>F</td>\n",
       "      <td>0-17</td>\n",
       "      <td>10</td>\n",
       "      <td>A</td>\n",
       "      <td>2</td>\n",
       "      <td>0</td>\n",
       "      <td>12</td>\n",
       "      <td>NaN</td>\n",
       "      <td>NaN</td>\n",
       "      <td>1422</td>\n",
       "    </tr>\n",
       "    <tr>\n",
       "      <th>3</th>\n",
       "      <td>1000001</td>\n",
       "      <td>P00085442</td>\n",
       "      <td>F</td>\n",
       "      <td>0-17</td>\n",
       "      <td>10</td>\n",
       "      <td>A</td>\n",
       "      <td>2</td>\n",
       "      <td>0</td>\n",
       "      <td>12</td>\n",
       "      <td>14.0</td>\n",
       "      <td>NaN</td>\n",
       "      <td>1057</td>\n",
       "    </tr>\n",
       "    <tr>\n",
       "      <th>4</th>\n",
       "      <td>1000002</td>\n",
       "      <td>P00285442</td>\n",
       "      <td>M</td>\n",
       "      <td>55+</td>\n",
       "      <td>16</td>\n",
       "      <td>C</td>\n",
       "      <td>4+</td>\n",
       "      <td>0</td>\n",
       "      <td>8</td>\n",
       "      <td>NaN</td>\n",
       "      <td>NaN</td>\n",
       "      <td>7969</td>\n",
       "    </tr>\n",
       "  </tbody>\n",
       "</table>\n",
       "</div>"
      ],
      "text/plain": [
       "   User_ID Product_ID Gender   Age  Occupation City_Category  \\\n",
       "0  1000001  P00069042      F  0-17          10             A   \n",
       "1  1000001  P00248942      F  0-17          10             A   \n",
       "2  1000001  P00087842      F  0-17          10             A   \n",
       "3  1000001  P00085442      F  0-17          10             A   \n",
       "4  1000002  P00285442      M   55+          16             C   \n",
       "\n",
       "  Stay_In_Current_City_Years  Marital_Status  Product_Category_1  \\\n",
       "0                          2               0                   3   \n",
       "1                          2               0                   1   \n",
       "2                          2               0                  12   \n",
       "3                          2               0                  12   \n",
       "4                         4+               0                   8   \n",
       "\n",
       "   Product_Category_2  Product_Category_3  Purchase  \n",
       "0                 NaN                 NaN      8370  \n",
       "1                 6.0                14.0     15200  \n",
       "2                 NaN                 NaN      1422  \n",
       "3                14.0                 NaN      1057  \n",
       "4                 NaN                 NaN      7969  "
      ]
     },
     "execution_count": 3,
     "metadata": {},
     "output_type": "execute_result"
    }
   ],
   "source": [
    "# here we can see the top n lines of the dataset:\n",
    "rows = 5\n",
    "print(\"Top {} lines of dataset:\".format(rows))\n",
    "fullData.head(rows)"
   ]
  },
  {
   "cell_type": "code",
   "execution_count": 4,
   "metadata": {
    "colab": {},
    "colab_type": "code",
    "id": "G-odzVmLd0Yo"
   },
   "outputs": [],
   "source": [
    "# size of the loaded data\n",
    "from sys import getsizeof"
   ]
  },
  {
   "cell_type": "code",
   "execution_count": 5,
   "metadata": {
    "colab": {
     "base_uri": "https://localhost:8080/",
     "height": 35
    },
    "colab_type": "code",
    "id": "EXNmym9Ud8fw",
    "outputId": "083ca1ab-a938-4859-ac65-3a26155cca3f"
   },
   "outputs": [
    {
     "data": {
      "text/plain": [
       "209465388"
      ]
     },
     "execution_count": 5,
     "metadata": {},
     "output_type": "execute_result"
    }
   ],
   "source": [
    "getsizeof(fullData)"
   ]
  },
  {
   "cell_type": "code",
   "execution_count": 6,
   "metadata": {
    "colab": {
     "base_uri": "https://localhost:8080/",
     "height": 35
    },
    "colab_type": "code",
    "id": "J8-thUa0eJvR",
    "outputId": "0c3cb772-6d52-4443-8406-9715249bbc3d"
   },
   "outputs": [
    {
     "data": {
      "text/plain": [
       "204556.04296875"
      ]
     },
     "execution_count": 6,
     "metadata": {},
     "output_type": "execute_result"
    }
   ],
   "source": [
    "# in kB\n",
    "getsizeof(fullData)/1024"
   ]
  },
  {
   "cell_type": "code",
   "execution_count": 7,
   "metadata": {
    "colab": {
     "base_uri": "https://localhost:8080/",
     "height": 52
    },
    "colab_type": "code",
    "id": "dQlj2wv5MLmd",
    "outputId": "aaf38e28-edbc-41f3-d618-d47eaefbedba"
   },
   "outputs": [
    {
     "name": "stdout",
     "output_type": "stream",
     "text": [
      "The dataset has 550068 entries\n",
      "The dataset has 12 columns\n"
     ]
    }
   ],
   "source": [
    "# lets get the shape of the data \n",
    "print('The dataset has {} entries'.format(fullData.shape[0]))\n",
    "print('The dataset has {} columns'.format(fullData.shape[1]))"
   ]
  },
  {
   "cell_type": "code",
   "execution_count": 8,
   "metadata": {
    "colab": {
     "base_uri": "https://localhost:8080/",
     "height": 247
    },
    "colab_type": "code",
    "id": "D_cVphydX9Ea",
    "outputId": "428af92b-5778-4047-82ba-773647b36af3"
   },
   "outputs": [
    {
     "data": {
      "text/plain": [
       "User_ID                            0\n",
       "Product_ID                         0\n",
       "Gender                             0\n",
       "Age                                0\n",
       "Occupation                         0\n",
       "City_Category                      0\n",
       "Stay_In_Current_City_Years         0\n",
       "Marital_Status                     0\n",
       "Product_Category_1                 0\n",
       "Product_Category_2            173638\n",
       "Product_Category_3            383247\n",
       "Purchase                           0\n",
       "dtype: int64"
      ]
     },
     "execution_count": 8,
     "metadata": {},
     "output_type": "execute_result"
    }
   ],
   "source": [
    "# understand what values are missing - here we sum the null values for each column \n",
    "# isnull returns a boolean, which we sum\n",
    "fullData.isnull().sum()"
   ]
  },
  {
   "cell_type": "code",
   "execution_count": 9,
   "metadata": {
    "colab": {
     "base_uri": "https://localhost:8080/",
     "height": 247
    },
    "colab_type": "code",
    "id": "bV18TKbSYEP2",
    "outputId": "220e07c3-d42d-4180-bca2-f408d76e9c22"
   },
   "outputs": [
    {
     "data": {
      "text/plain": [
       "User_ID                       550068\n",
       "Product_ID                    550068\n",
       "Gender                        550068\n",
       "Age                           550068\n",
       "Occupation                    550068\n",
       "City_Category                 550068\n",
       "Stay_In_Current_City_Years    550068\n",
       "Marital_Status                550068\n",
       "Product_Category_1            550068\n",
       "Product_Category_2            376430\n",
       "Product_Category_3            166821\n",
       "Purchase                      550068\n",
       "dtype: int64"
      ]
     },
     "execution_count": 9,
     "metadata": {},
     "output_type": "execute_result"
    }
   ],
   "source": [
    "fullData.notnull().sum()"
   ]
  },
  {
   "cell_type": "code",
   "execution_count": 10,
   "metadata": {
    "colab": {
     "base_uri": "https://localhost:8080/",
     "height": 265
    },
    "colab_type": "code",
    "id": "DqoCZ_gsVNaH",
    "outputId": "8210a608-ae8e-4e11-f032-c1e790b3052c"
   },
   "outputs": [
    {
     "name": "stdout",
     "output_type": "stream",
     "text": [
      "Percentage of Not Null Values per column/feature:\n"
     ]
    },
    {
     "data": {
      "text/plain": [
       "User_ID                       100.0\n",
       "Product_ID                    100.0\n",
       "Gender                        100.0\n",
       "Age                           100.0\n",
       "Occupation                    100.0\n",
       "City_Category                 100.0\n",
       "Stay_In_Current_City_Years    100.0\n",
       "Marital_Status                100.0\n",
       "Product_Category_1            100.0\n",
       "Product_Category_2             68.4\n",
       "Product_Category_3             30.3\n",
       "Purchase                      100.0\n",
       "dtype: float64"
      ]
     },
     "execution_count": 10,
     "metadata": {},
     "output_type": "execute_result"
    }
   ],
   "source": [
    "# percentage of entries per column type \n",
    "print('Percentage of Not Null Values per column/feature:')\n",
    "np.around((fullData.notnull().sum() / len(fullData)*100), decimals=1)"
   ]
  },
  {
   "cell_type": "markdown",
   "metadata": {
    "colab_type": "text",
    "id": "_oAsKavc0Zws"
   },
   "source": [
    "##### Get a feel for the target variable"
   ]
  },
  {
   "cell_type": "code",
   "execution_count": 11,
   "metadata": {
    "colab": {
     "base_uri": "https://localhost:8080/",
     "height": 176
    },
    "colab_type": "code",
    "id": "cV5cDgYu0dXf",
    "outputId": "0a5c88e9-dca7-4a28-a555-fa711bc56973"
   },
   "outputs": [
    {
     "data": {
      "text/plain": [
       "count    550068.000000\n",
       "mean       9263.968713\n",
       "std        5023.065394\n",
       "min          12.000000\n",
       "25%        5823.000000\n",
       "50%        8047.000000\n",
       "75%       12054.000000\n",
       "max       23961.000000\n",
       "Name: Purchase, dtype: float64"
      ]
     },
     "execution_count": 11,
     "metadata": {},
     "output_type": "execute_result"
    }
   ],
   "source": [
    "# code regarding purchase column\n",
    "fullData['Purchase'].describe()"
   ]
  },
  {
   "cell_type": "markdown",
   "metadata": {
    "colab_type": "text",
    "id": "mQniHMeOAX_J"
   },
   "source": [
    "**EXERCISE 2.1:** Given our exploration of the data above, do you feel confident there is suitable data to solve your problem statement? Do you have any thoughts about whether some features are better than others? \n",
    "\n",
    "---\n",
    "\n",
    "**ANSWER:** UserID and ProductID not relevant. Product categories 2 and 3 have several Null values. Imputation is necessary here.\n",
    "\n"
   ]
  },
  {
   "cell_type": "code",
   "execution_count": 12,
   "metadata": {
    "colab": {
     "base_uri": "https://localhost:8080/",
     "height": 233
    },
    "colab_type": "code",
    "id": "DMm3J1mMgaNj",
    "outputId": "1b7e4cd3-77ab-44e7-a574-5bb9620c6945"
   },
   "outputs": [
    {
     "data": {
      "text/html": [
       "<div>\n",
       "<style scoped>\n",
       "    .dataframe tbody tr th:only-of-type {\n",
       "        vertical-align: middle;\n",
       "    }\n",
       "\n",
       "    .dataframe tbody tr th {\n",
       "        vertical-align: top;\n",
       "    }\n",
       "\n",
       "    .dataframe thead th {\n",
       "        text-align: right;\n",
       "    }\n",
       "</style>\n",
       "<table border=\"1\" class=\"dataframe\">\n",
       "  <thead>\n",
       "    <tr style=\"text-align: right;\">\n",
       "      <th></th>\n",
       "      <th>Occupation</th>\n",
       "      <th>Marital_Status</th>\n",
       "      <th>Product_Category_1</th>\n",
       "      <th>Product_Category_2</th>\n",
       "      <th>Product_Category_3</th>\n",
       "      <th>Purchase</th>\n",
       "    </tr>\n",
       "  </thead>\n",
       "  <tbody>\n",
       "    <tr>\n",
       "      <th>Occupation</th>\n",
       "      <td>1.000000</td>\n",
       "      <td>0.024280</td>\n",
       "      <td>-0.007618</td>\n",
       "      <td>-0.000384</td>\n",
       "      <td>0.013263</td>\n",
       "      <td>0.020833</td>\n",
       "    </tr>\n",
       "    <tr>\n",
       "      <th>Marital_Status</th>\n",
       "      <td>0.024280</td>\n",
       "      <td>1.000000</td>\n",
       "      <td>0.019888</td>\n",
       "      <td>0.015138</td>\n",
       "      <td>0.019473</td>\n",
       "      <td>-0.000463</td>\n",
       "    </tr>\n",
       "    <tr>\n",
       "      <th>Product_Category_1</th>\n",
       "      <td>-0.007618</td>\n",
       "      <td>0.019888</td>\n",
       "      <td>1.000000</td>\n",
       "      <td>0.540583</td>\n",
       "      <td>0.229678</td>\n",
       "      <td>-0.343703</td>\n",
       "    </tr>\n",
       "    <tr>\n",
       "      <th>Product_Category_2</th>\n",
       "      <td>-0.000384</td>\n",
       "      <td>0.015138</td>\n",
       "      <td>0.540583</td>\n",
       "      <td>1.000000</td>\n",
       "      <td>0.543649</td>\n",
       "      <td>-0.209918</td>\n",
       "    </tr>\n",
       "    <tr>\n",
       "      <th>Product_Category_3</th>\n",
       "      <td>0.013263</td>\n",
       "      <td>0.019473</td>\n",
       "      <td>0.229678</td>\n",
       "      <td>0.543649</td>\n",
       "      <td>1.000000</td>\n",
       "      <td>-0.022006</td>\n",
       "    </tr>\n",
       "    <tr>\n",
       "      <th>Purchase</th>\n",
       "      <td>0.020833</td>\n",
       "      <td>-0.000463</td>\n",
       "      <td>-0.343703</td>\n",
       "      <td>-0.209918</td>\n",
       "      <td>-0.022006</td>\n",
       "      <td>1.000000</td>\n",
       "    </tr>\n",
       "  </tbody>\n",
       "</table>\n",
       "</div>"
      ],
      "text/plain": [
       "                    Occupation  Marital_Status  Product_Category_1  \\\n",
       "Occupation            1.000000        0.024280           -0.007618   \n",
       "Marital_Status        0.024280        1.000000            0.019888   \n",
       "Product_Category_1   -0.007618        0.019888            1.000000   \n",
       "Product_Category_2   -0.000384        0.015138            0.540583   \n",
       "Product_Category_3    0.013263        0.019473            0.229678   \n",
       "Purchase              0.020833       -0.000463           -0.343703   \n",
       "\n",
       "                    Product_Category_2  Product_Category_3  Purchase  \n",
       "Occupation                   -0.000384            0.013263  0.020833  \n",
       "Marital_Status                0.015138            0.019473 -0.000463  \n",
       "Product_Category_1            0.540583            0.229678 -0.343703  \n",
       "Product_Category_2            1.000000            0.543649 -0.209918  \n",
       "Product_Category_3            0.543649            1.000000 -0.022006  \n",
       "Purchase                     -0.209918           -0.022006  1.000000  "
      ]
     },
     "execution_count": 12,
     "metadata": {},
     "output_type": "execute_result"
    }
   ],
   "source": [
    "# Look at Correlation Matrix\n",
    "fullData.drop(labels = ['User_ID', 'Product_ID'], axis=1).corr()"
   ]
  },
  {
   "cell_type": "markdown",
   "metadata": {
    "colab_type": "text",
    "id": "Hhy6KT6TIjns"
   },
   "source": [
    "#### 2.2 Preprocessing the data\n",
    "* We proprocess the data to ensure it is a suitable state for modelling. The sort of things that we do to preprocess the data includes:\n",
    "  * *Dealing with missing values*, where we identify what, if, any missing data we have and how to deal with it. For example, we may replace missing values with the mean value for that feature, or by the average of the neighbouring values. \n",
    "    * `pandas` has a number of options for filling in missing data that is worth exploring\n",
    "    * We can also use `k-nearest neighbour`to help us predict what the missing values should be, or `sklearn Imputer` function (amongst other ways)\n",
    "  * *Treat categorical values*, by converting them into a numerical representation that can be modelled.\n",
    "    * There are a number of different ways to do this in `sklearn` and `pandas`\n",
    "  * *Normalise the data*, for example by ensuring the data is, for example all on the scale (such as within two defined values); normally distributed; has a zero-mean, etc. This is sometimes necessary for the ML models to work, and can also help speed up the time it takes for the models to run.  \n",
    "    * Again, `sklearn` and `pandas` have in-built functions to help you do this."
   ]
  },
  {
   "cell_type": "markdown",
   "metadata": {
    "colab_type": "text",
    "id": "tD-M_cNjKaNU"
   },
   "source": [
    "##### Prepare for preprocessing"
   ]
  },
  {
   "cell_type": "code",
   "execution_count": 13,
   "metadata": {
    "colab": {
     "base_uri": "https://localhost:8080/",
     "height": 70
    },
    "colab_type": "code",
    "id": "cz-EyuZkfL44",
    "outputId": "07bc08d6-9322-4191-9d3d-21ec63c3fa21"
   },
   "outputs": [
    {
     "name": "stdout",
     "output_type": "stream",
     "text": [
      "Check that the copy dataset has the same shape:\n",
      "The dataset copy has 550068 entries\n",
      "The dataset copy has 12 columns\n"
     ]
    }
   ],
   "source": [
    "# create a new version of dataset\n",
    "fullData_preprocessed = fullData.copy()\n",
    "\n",
    "# check that all is well\n",
    "print(\"Check that the copy dataset has the same shape:\")\n",
    "print('The dataset copy has {} entries'.format(fullData.shape[0]))\n",
    "print('The dataset copy has {} columns'.format(fullData.shape[1]))"
   ]
  },
  {
   "cell_type": "code",
   "execution_count": 14,
   "metadata": {
    "colab": {
     "base_uri": "https://localhost:8080/",
     "height": 318
    },
    "colab_type": "code",
    "id": "q8QBaUVIhXXs",
    "outputId": "adf93029-165b-40db-bad4-1cede26b02b3"
   },
   "outputs": [
    {
     "name": "stdout",
     "output_type": "stream",
     "text": [
      "<class 'pandas.core.frame.DataFrame'>\n",
      "RangeIndex: 550068 entries, 0 to 550067\n",
      "Data columns (total 12 columns):\n",
      "User_ID                       550068 non-null int64\n",
      "Product_ID                    550068 non-null object\n",
      "Gender                        550068 non-null object\n",
      "Age                           550068 non-null object\n",
      "Occupation                    550068 non-null int64\n",
      "City_Category                 550068 non-null object\n",
      "Stay_In_Current_City_Years    550068 non-null object\n",
      "Marital_Status                550068 non-null int64\n",
      "Product_Category_1            550068 non-null int64\n",
      "Product_Category_2            376430 non-null float64\n",
      "Product_Category_3            166821 non-null float64\n",
      "Purchase                      550068 non-null int64\n",
      "dtypes: float64(2), int64(5), object(5)\n",
      "memory usage: 50.4+ MB\n"
     ]
    }
   ],
   "source": [
    "fullData_preprocessed.info()"
   ]
  },
  {
   "cell_type": "code",
   "execution_count": 15,
   "metadata": {
    "colab": {},
    "colab_type": "code",
    "id": "ahLw72fYAYFl"
   },
   "outputs": [],
   "source": [
    "#Identifying ID, Categorical, and numerical data, which we will treat differently \n",
    "ID_col = ['User_ID','Product_ID']\n",
    "cat_cols= ['Gender','Age','City_Category','Stay_In_Current_City_Years']\n",
    "num_cols= ['Marital_Status','Occupation','Product_Category_1','Product_Category_2','Product_Category_3']\n",
    "\n",
    "# Combined numerical and Categorical variables\n",
    "# num_cat_cols = num_cols+cat_cols"
   ]
  },
  {
   "cell_type": "markdown",
   "metadata": {
    "colab_type": "text",
    "id": "8teR6X82_ic8"
   },
   "source": [
    "##### Alternate approach"
   ]
  },
  {
   "cell_type": "code",
   "execution_count": 16,
   "metadata": {
    "colab": {
     "base_uri": "https://localhost:8080/",
     "height": 247
    },
    "colab_type": "code",
    "id": "rW1KjtfO99Rj",
    "outputId": "6a353529-b7b5-45cd-fe0d-43616207238a"
   },
   "outputs": [
    {
     "data": {
      "text/plain": [
       "User_ID                         int64\n",
       "Product_ID                     object\n",
       "Gender                         object\n",
       "Age                            object\n",
       "Occupation                      int64\n",
       "City_Category                  object\n",
       "Stay_In_Current_City_Years     object\n",
       "Marital_Status                  int64\n",
       "Product_Category_1              int64\n",
       "Product_Category_2            float64\n",
       "Product_Category_3            float64\n",
       "Purchase                        int64\n",
       "dtype: object"
      ]
     },
     "execution_count": 16,
     "metadata": {},
     "output_type": "execute_result"
    }
   ],
   "source": [
    "## here is an alternative to manually defining the columns.\n",
    "# lets take a look at the data types of the columns\n",
    "fullData_preprocessed.dtypes"
   ]
  },
  {
   "cell_type": "code",
   "execution_count": 17,
   "metadata": {
    "colab": {
     "base_uri": "https://localhost:8080/",
     "height": 35
    },
    "colab_type": "code",
    "id": "5vGVs7Ag9uRL",
    "outputId": "365e0368-09dd-4a6f-c71d-bb4acca80c5b"
   },
   "outputs": [
    {
     "data": {
      "text/plain": [
       "['Product_ID', 'Gender', 'Age', 'City_Category', 'Stay_In_Current_City_Years']"
      ]
     },
     "execution_count": 17,
     "metadata": {},
     "output_type": "execute_result"
    }
   ],
   "source": [
    "# here we can use a list comprehension to create a list of all the object columns\n",
    "cat_cols_alt = [f for f in fullData_preprocessed.columns if fullData_preprocessed.dtypes[f] == 'object']\n",
    "cat_cols_alt"
   ]
  },
  {
   "cell_type": "code",
   "execution_count": 18,
   "metadata": {
    "colab": {
     "base_uri": "https://localhost:8080/",
     "height": 141
    },
    "colab_type": "code",
    "id": "I5UkaAxGD8kf",
    "outputId": "7ff96d95-7748-44d0-9117-1976f39f049d"
   },
   "outputs": [
    {
     "data": {
      "text/plain": [
       "['User_ID',\n",
       " 'Occupation',\n",
       " 'Marital_Status',\n",
       " 'Product_Category_1',\n",
       " 'Product_Category_2',\n",
       " 'Product_Category_3',\n",
       " 'Purchase']"
      ]
     },
     "execution_count": 18,
     "metadata": {},
     "output_type": "execute_result"
    }
   ],
   "source": [
    "# and do the same for number cols\n",
    "num_cols_alt = [f for f in fullData_preprocessed.columns if fullData_preprocessed.dtypes[f] != 'object']\n",
    "num_cols_alt"
   ]
  },
  {
   "cell_type": "code",
   "execution_count": 19,
   "metadata": {
    "colab": {
     "base_uri": "https://localhost:8080/",
     "height": 70
    },
    "colab_type": "code",
    "id": "cteWr8HwAc2c",
    "outputId": "cecb10ad-300c-4175-e095-a006c9dad8cc"
   },
   "outputs": [
    {
     "name": "stdout",
     "output_type": "stream",
     "text": [
      "['Gender', 'Age', 'City_Category', 'Stay_In_Current_City_Years']\n",
      "['Occupation', 'Marital_Status', 'Product_Category_1', 'Product_Category_2', 'Product_Category_3', 'Purchase']\n",
      "['User_ID', 'Product_ID']\n"
     ]
    }
   ],
   "source": [
    "## this is the same as doing a for loop\n",
    "## here i have added an extra condition so that we \n",
    "\n",
    "# create empty list\n",
    "cat_cols_alt2 = []\n",
    "num_cols_alt2 = []\n",
    "ID_cols_alt2 = []\n",
    "\n",
    "# create for loop\n",
    "for cols in fullData_preprocessed.columns:\n",
    "  if fullData_preprocessed.dtypes[cols] == 'object':\n",
    "    if cols != 'Product_ID':\n",
    "      cat_cols_alt2.append(cols)\n",
    "  elif fullData_preprocessed.dtypes[cols] != 'object':\n",
    "    if cols !=  'User_ID':\n",
    "      num_cols_alt2.append(cols)\n",
    "  if cols not in cat_cols_alt2 and cols not in num_cols_alt2:\n",
    "        ID_cols_alt2.append(cols)\n",
    "\n",
    "print(cat_cols_alt2)\n",
    "print(num_cols_alt2)\n",
    "print(ID_cols_alt2)\n",
    "\n",
    "## it may be easier to define the columns manually!"
   ]
  },
  {
   "cell_type": "markdown",
   "metadata": {
    "colab_type": "text",
    "id": "kqdErGmqAlUU"
   },
   "source": [
    "##### Dealing with Missing Values"
   ]
  },
  {
   "cell_type": "code",
   "execution_count": 20,
   "metadata": {
    "colab": {
     "base_uri": "https://localhost:8080/",
     "height": 356
    },
    "colab_type": "code",
    "id": "suj30jCQKj_a",
    "outputId": "9d71a7e8-269c-403c-dd38-36249d98de14"
   },
   "outputs": [
    {
     "data": {
      "text/html": [
       "<div>\n",
       "<style scoped>\n",
       "    .dataframe tbody tr th:only-of-type {\n",
       "        vertical-align: middle;\n",
       "    }\n",
       "\n",
       "    .dataframe tbody tr th {\n",
       "        vertical-align: top;\n",
       "    }\n",
       "\n",
       "    .dataframe thead th {\n",
       "        text-align: right;\n",
       "    }\n",
       "</style>\n",
       "<table border=\"1\" class=\"dataframe\">\n",
       "  <thead>\n",
       "    <tr style=\"text-align: right;\">\n",
       "      <th></th>\n",
       "      <th>Marital_Status</th>\n",
       "      <th>Occupation</th>\n",
       "      <th>Product_Category_1</th>\n",
       "      <th>Product_Category_2</th>\n",
       "      <th>Product_Category_3</th>\n",
       "    </tr>\n",
       "  </thead>\n",
       "  <tbody>\n",
       "    <tr>\n",
       "      <th>0</th>\n",
       "      <td>0</td>\n",
       "      <td>10</td>\n",
       "      <td>3</td>\n",
       "      <td>NaN</td>\n",
       "      <td>NaN</td>\n",
       "    </tr>\n",
       "    <tr>\n",
       "      <th>1</th>\n",
       "      <td>0</td>\n",
       "      <td>10</td>\n",
       "      <td>1</td>\n",
       "      <td>6.0</td>\n",
       "      <td>14.0</td>\n",
       "    </tr>\n",
       "    <tr>\n",
       "      <th>2</th>\n",
       "      <td>0</td>\n",
       "      <td>10</td>\n",
       "      <td>12</td>\n",
       "      <td>NaN</td>\n",
       "      <td>NaN</td>\n",
       "    </tr>\n",
       "    <tr>\n",
       "      <th>3</th>\n",
       "      <td>0</td>\n",
       "      <td>10</td>\n",
       "      <td>12</td>\n",
       "      <td>14.0</td>\n",
       "      <td>NaN</td>\n",
       "    </tr>\n",
       "    <tr>\n",
       "      <th>4</th>\n",
       "      <td>0</td>\n",
       "      <td>16</td>\n",
       "      <td>8</td>\n",
       "      <td>NaN</td>\n",
       "      <td>NaN</td>\n",
       "    </tr>\n",
       "    <tr>\n",
       "      <th>5</th>\n",
       "      <td>0</td>\n",
       "      <td>15</td>\n",
       "      <td>1</td>\n",
       "      <td>2.0</td>\n",
       "      <td>NaN</td>\n",
       "    </tr>\n",
       "    <tr>\n",
       "      <th>6</th>\n",
       "      <td>1</td>\n",
       "      <td>7</td>\n",
       "      <td>1</td>\n",
       "      <td>8.0</td>\n",
       "      <td>17.0</td>\n",
       "    </tr>\n",
       "    <tr>\n",
       "      <th>7</th>\n",
       "      <td>1</td>\n",
       "      <td>7</td>\n",
       "      <td>1</td>\n",
       "      <td>15.0</td>\n",
       "      <td>NaN</td>\n",
       "    </tr>\n",
       "    <tr>\n",
       "      <th>8</th>\n",
       "      <td>1</td>\n",
       "      <td>7</td>\n",
       "      <td>1</td>\n",
       "      <td>16.0</td>\n",
       "      <td>NaN</td>\n",
       "    </tr>\n",
       "    <tr>\n",
       "      <th>9</th>\n",
       "      <td>1</td>\n",
       "      <td>20</td>\n",
       "      <td>8</td>\n",
       "      <td>NaN</td>\n",
       "      <td>NaN</td>\n",
       "    </tr>\n",
       "  </tbody>\n",
       "</table>\n",
       "</div>"
      ],
      "text/plain": [
       "   Marital_Status  Occupation  Product_Category_1  Product_Category_2  \\\n",
       "0               0          10                   3                 NaN   \n",
       "1               0          10                   1                 6.0   \n",
       "2               0          10                  12                 NaN   \n",
       "3               0          10                  12                14.0   \n",
       "4               0          16                   8                 NaN   \n",
       "5               0          15                   1                 2.0   \n",
       "6               1           7                   1                 8.0   \n",
       "7               1           7                   1                15.0   \n",
       "8               1           7                   1                16.0   \n",
       "9               1          20                   8                 NaN   \n",
       "\n",
       "   Product_Category_3  \n",
       "0                 NaN  \n",
       "1                14.0  \n",
       "2                 NaN  \n",
       "3                 NaN  \n",
       "4                 NaN  \n",
       "5                 NaN  \n",
       "6                17.0  \n",
       "7                 NaN  \n",
       "8                 NaN  \n",
       "9                 NaN  "
      ]
     },
     "execution_count": 20,
     "metadata": {},
     "output_type": "execute_result"
    }
   ],
   "source": [
    "# Look at data before\n",
    "fullData_preprocessed[num_cols][0:10]"
   ]
  },
  {
   "cell_type": "code",
   "execution_count": 21,
   "metadata": {
    "colab": {},
    "colab_type": "code",
    "id": "Fd3dK7hxWRMh"
   },
   "outputs": [],
   "source": [
    "# Impute numerical missing values with 0 instead of mean\n",
    "fullData_preprocessed[num_cols] = fullData_preprocessed[num_cols].fillna(0)"
   ]
  },
  {
   "cell_type": "code",
   "execution_count": 22,
   "metadata": {
    "colab": {
     "base_uri": "https://localhost:8080/",
     "height": 356
    },
    "colab_type": "code",
    "id": "6PgEmWvQYOBj",
    "outputId": "e0c9d69a-c99b-4c13-b588-4b3b4dffd9d8"
   },
   "outputs": [
    {
     "data": {
      "text/html": [
       "<div>\n",
       "<style scoped>\n",
       "    .dataframe tbody tr th:only-of-type {\n",
       "        vertical-align: middle;\n",
       "    }\n",
       "\n",
       "    .dataframe tbody tr th {\n",
       "        vertical-align: top;\n",
       "    }\n",
       "\n",
       "    .dataframe thead th {\n",
       "        text-align: right;\n",
       "    }\n",
       "</style>\n",
       "<table border=\"1\" class=\"dataframe\">\n",
       "  <thead>\n",
       "    <tr style=\"text-align: right;\">\n",
       "      <th></th>\n",
       "      <th>Marital_Status</th>\n",
       "      <th>Occupation</th>\n",
       "      <th>Product_Category_1</th>\n",
       "      <th>Product_Category_2</th>\n",
       "      <th>Product_Category_3</th>\n",
       "    </tr>\n",
       "  </thead>\n",
       "  <tbody>\n",
       "    <tr>\n",
       "      <th>0</th>\n",
       "      <td>0</td>\n",
       "      <td>10</td>\n",
       "      <td>3</td>\n",
       "      <td>0.0</td>\n",
       "      <td>0.0</td>\n",
       "    </tr>\n",
       "    <tr>\n",
       "      <th>1</th>\n",
       "      <td>0</td>\n",
       "      <td>10</td>\n",
       "      <td>1</td>\n",
       "      <td>6.0</td>\n",
       "      <td>14.0</td>\n",
       "    </tr>\n",
       "    <tr>\n",
       "      <th>2</th>\n",
       "      <td>0</td>\n",
       "      <td>10</td>\n",
       "      <td>12</td>\n",
       "      <td>0.0</td>\n",
       "      <td>0.0</td>\n",
       "    </tr>\n",
       "    <tr>\n",
       "      <th>3</th>\n",
       "      <td>0</td>\n",
       "      <td>10</td>\n",
       "      <td>12</td>\n",
       "      <td>14.0</td>\n",
       "      <td>0.0</td>\n",
       "    </tr>\n",
       "    <tr>\n",
       "      <th>4</th>\n",
       "      <td>0</td>\n",
       "      <td>16</td>\n",
       "      <td>8</td>\n",
       "      <td>0.0</td>\n",
       "      <td>0.0</td>\n",
       "    </tr>\n",
       "    <tr>\n",
       "      <th>5</th>\n",
       "      <td>0</td>\n",
       "      <td>15</td>\n",
       "      <td>1</td>\n",
       "      <td>2.0</td>\n",
       "      <td>0.0</td>\n",
       "    </tr>\n",
       "    <tr>\n",
       "      <th>6</th>\n",
       "      <td>1</td>\n",
       "      <td>7</td>\n",
       "      <td>1</td>\n",
       "      <td>8.0</td>\n",
       "      <td>17.0</td>\n",
       "    </tr>\n",
       "    <tr>\n",
       "      <th>7</th>\n",
       "      <td>1</td>\n",
       "      <td>7</td>\n",
       "      <td>1</td>\n",
       "      <td>15.0</td>\n",
       "      <td>0.0</td>\n",
       "    </tr>\n",
       "    <tr>\n",
       "      <th>8</th>\n",
       "      <td>1</td>\n",
       "      <td>7</td>\n",
       "      <td>1</td>\n",
       "      <td>16.0</td>\n",
       "      <td>0.0</td>\n",
       "    </tr>\n",
       "    <tr>\n",
       "      <th>9</th>\n",
       "      <td>1</td>\n",
       "      <td>20</td>\n",
       "      <td>8</td>\n",
       "      <td>0.0</td>\n",
       "      <td>0.0</td>\n",
       "    </tr>\n",
       "  </tbody>\n",
       "</table>\n",
       "</div>"
      ],
      "text/plain": [
       "   Marital_Status  Occupation  Product_Category_1  Product_Category_2  \\\n",
       "0               0          10                   3                 0.0   \n",
       "1               0          10                   1                 6.0   \n",
       "2               0          10                  12                 0.0   \n",
       "3               0          10                  12                14.0   \n",
       "4               0          16                   8                 0.0   \n",
       "5               0          15                   1                 2.0   \n",
       "6               1           7                   1                 8.0   \n",
       "7               1           7                   1                15.0   \n",
       "8               1           7                   1                16.0   \n",
       "9               1          20                   8                 0.0   \n",
       "\n",
       "   Product_Category_3  \n",
       "0                 0.0  \n",
       "1                14.0  \n",
       "2                 0.0  \n",
       "3                 0.0  \n",
       "4                 0.0  \n",
       "5                 0.0  \n",
       "6                17.0  \n",
       "7                 0.0  \n",
       "8                 0.0  \n",
       "9                 0.0  "
      ]
     },
     "execution_count": 22,
     "metadata": {},
     "output_type": "execute_result"
    }
   ],
   "source": [
    "# Look at what we have done\n",
    "fullData_preprocessed[num_cols][0:10]"
   ]
  },
  {
   "cell_type": "markdown",
   "metadata": {
    "colab_type": "text",
    "id": "ZyO94eIDa5H5"
   },
   "source": [
    "**EXERCISE:** What are the advantages and disadvanatges of the methods used here to deal with missing data? Are you aware of other approaches that might be better suited to this dataset?\n",
    "\n",
    "---\n",
    "\n",
    "**ANSWER:** Replacing the null values with 0 seems apt in this case. However, without domain knowledge, this could turn out to not be correct. Other values which can be used to impute are mean, median, mode. Again, having domain knowledge will help in determining the most appropriate method.\n",
    "\n"
   ]
  },
  {
   "cell_type": "markdown",
   "metadata": {
    "colab_type": "text",
    "id": "8CLL_1HkBNbF"
   },
   "source": [
    "##### Normalise the data"
   ]
  },
  {
   "cell_type": "code",
   "execution_count": 23,
   "metadata": {
    "colab": {
     "base_uri": "https://localhost:8080/",
     "height": 123
    },
    "colab_type": "code",
    "id": "nhLCdXvGW6tn",
    "outputId": "8ffb7ea3-b507-41c2-ee0d-70a862b3fcf9"
   },
   "outputs": [
    {
     "data": {
      "text/plain": [
       "Marital_Status         1.0\n",
       "Occupation            20.0\n",
       "Product_Category_1    20.0\n",
       "Product_Category_2    18.0\n",
       "Product_Category_3    18.0\n",
       "dtype: float64"
      ]
     },
     "execution_count": 23,
     "metadata": {},
     "output_type": "execute_result"
    }
   ],
   "source": [
    "## we normalise the data by dividing each value in the column by the max value of that column - a way of resclaing the data between (0,1) and keeping their relative weights \n",
    "## lets see what our denominator is \n",
    "fullData_preprocessed[num_cols].max()"
   ]
  },
  {
   "cell_type": "code",
   "execution_count": 24,
   "metadata": {
    "colab": {},
    "colab_type": "code",
    "id": "oFQIvuvdBMkO"
   },
   "outputs": [],
   "source": [
    "## pandas is built on numpy and therefore we can perform this operation on each of the columns as follows\n",
    "fullData_preprocessed[num_cols] = fullData_preprocessed[num_cols]/fullData_preprocessed[num_cols].max()"
   ]
  },
  {
   "cell_type": "code",
   "execution_count": 25,
   "metadata": {
    "colab": {
     "base_uri": "https://localhost:8080/",
     "height": 356
    },
    "colab_type": "code",
    "id": "b1AHUzxaT4qd",
    "outputId": "48a6a093-32d0-4a09-fd6a-547a7d9b50b6"
   },
   "outputs": [
    {
     "data": {
      "text/html": [
       "<div>\n",
       "<style scoped>\n",
       "    .dataframe tbody tr th:only-of-type {\n",
       "        vertical-align: middle;\n",
       "    }\n",
       "\n",
       "    .dataframe tbody tr th {\n",
       "        vertical-align: top;\n",
       "    }\n",
       "\n",
       "    .dataframe thead th {\n",
       "        text-align: right;\n",
       "    }\n",
       "</style>\n",
       "<table border=\"1\" class=\"dataframe\">\n",
       "  <thead>\n",
       "    <tr style=\"text-align: right;\">\n",
       "      <th></th>\n",
       "      <th>Marital_Status</th>\n",
       "      <th>Occupation</th>\n",
       "      <th>Product_Category_1</th>\n",
       "      <th>Product_Category_2</th>\n",
       "      <th>Product_Category_3</th>\n",
       "    </tr>\n",
       "  </thead>\n",
       "  <tbody>\n",
       "    <tr>\n",
       "      <th>0</th>\n",
       "      <td>0.0</td>\n",
       "      <td>0.50</td>\n",
       "      <td>0.15</td>\n",
       "      <td>0.000000</td>\n",
       "      <td>0.000000</td>\n",
       "    </tr>\n",
       "    <tr>\n",
       "      <th>1</th>\n",
       "      <td>0.0</td>\n",
       "      <td>0.50</td>\n",
       "      <td>0.05</td>\n",
       "      <td>0.333333</td>\n",
       "      <td>0.777778</td>\n",
       "    </tr>\n",
       "    <tr>\n",
       "      <th>2</th>\n",
       "      <td>0.0</td>\n",
       "      <td>0.50</td>\n",
       "      <td>0.60</td>\n",
       "      <td>0.000000</td>\n",
       "      <td>0.000000</td>\n",
       "    </tr>\n",
       "    <tr>\n",
       "      <th>3</th>\n",
       "      <td>0.0</td>\n",
       "      <td>0.50</td>\n",
       "      <td>0.60</td>\n",
       "      <td>0.777778</td>\n",
       "      <td>0.000000</td>\n",
       "    </tr>\n",
       "    <tr>\n",
       "      <th>4</th>\n",
       "      <td>0.0</td>\n",
       "      <td>0.80</td>\n",
       "      <td>0.40</td>\n",
       "      <td>0.000000</td>\n",
       "      <td>0.000000</td>\n",
       "    </tr>\n",
       "    <tr>\n",
       "      <th>5</th>\n",
       "      <td>0.0</td>\n",
       "      <td>0.75</td>\n",
       "      <td>0.05</td>\n",
       "      <td>0.111111</td>\n",
       "      <td>0.000000</td>\n",
       "    </tr>\n",
       "    <tr>\n",
       "      <th>6</th>\n",
       "      <td>1.0</td>\n",
       "      <td>0.35</td>\n",
       "      <td>0.05</td>\n",
       "      <td>0.444444</td>\n",
       "      <td>0.944444</td>\n",
       "    </tr>\n",
       "    <tr>\n",
       "      <th>7</th>\n",
       "      <td>1.0</td>\n",
       "      <td>0.35</td>\n",
       "      <td>0.05</td>\n",
       "      <td>0.833333</td>\n",
       "      <td>0.000000</td>\n",
       "    </tr>\n",
       "    <tr>\n",
       "      <th>8</th>\n",
       "      <td>1.0</td>\n",
       "      <td>0.35</td>\n",
       "      <td>0.05</td>\n",
       "      <td>0.888889</td>\n",
       "      <td>0.000000</td>\n",
       "    </tr>\n",
       "    <tr>\n",
       "      <th>9</th>\n",
       "      <td>1.0</td>\n",
       "      <td>1.00</td>\n",
       "      <td>0.40</td>\n",
       "      <td>0.000000</td>\n",
       "      <td>0.000000</td>\n",
       "    </tr>\n",
       "  </tbody>\n",
       "</table>\n",
       "</div>"
      ],
      "text/plain": [
       "   Marital_Status  Occupation  Product_Category_1  Product_Category_2  \\\n",
       "0             0.0        0.50                0.15            0.000000   \n",
       "1             0.0        0.50                0.05            0.333333   \n",
       "2             0.0        0.50                0.60            0.000000   \n",
       "3             0.0        0.50                0.60            0.777778   \n",
       "4             0.0        0.80                0.40            0.000000   \n",
       "5             0.0        0.75                0.05            0.111111   \n",
       "6             1.0        0.35                0.05            0.444444   \n",
       "7             1.0        0.35                0.05            0.833333   \n",
       "8             1.0        0.35                0.05            0.888889   \n",
       "9             1.0        1.00                0.40            0.000000   \n",
       "\n",
       "   Product_Category_3  \n",
       "0            0.000000  \n",
       "1            0.777778  \n",
       "2            0.000000  \n",
       "3            0.000000  \n",
       "4            0.000000  \n",
       "5            0.000000  \n",
       "6            0.944444  \n",
       "7            0.000000  \n",
       "8            0.000000  \n",
       "9            0.000000  "
      ]
     },
     "execution_count": 25,
     "metadata": {},
     "output_type": "execute_result"
    }
   ],
   "source": [
    "# and lets check out the cols now\n",
    "fullData_preprocessed[num_cols][0:10]"
   ]
  },
  {
   "cell_type": "code",
   "execution_count": 26,
   "metadata": {
    "colab": {
     "base_uri": "https://localhost:8080/",
     "height": 229
    },
    "colab_type": "code",
    "id": "SN5Dh4lGMDUk",
    "outputId": "362ab04c-022b-48bf-8bf2-62fd0e4129b8"
   },
   "outputs": [
    {
     "name": "stdout",
     "output_type": "stream",
     "text": [
      "Marital_Status        1.0\n",
      "Occupation            1.0\n",
      "Product_Category_1    1.0\n",
      "Product_Category_2    1.0\n",
      "Product_Category_3    1.0\n",
      "dtype: float64\n",
      "Marital_Status        0.00\n",
      "Occupation            0.00\n",
      "Product_Category_1    0.05\n",
      "Product_Category_2    0.00\n",
      "Product_Category_3    0.00\n",
      "dtype: float64\n"
     ]
    }
   ],
   "source": [
    "# and look at the min and max values after the normalise operation\n",
    "print(fullData_preprocessed[num_cols].max())\n",
    "print(fullData_preprocessed[num_cols].min())"
   ]
  },
  {
   "cell_type": "markdown",
   "metadata": {
    "colab_type": "text",
    "id": "UDOBDTaiA53B"
   },
   "source": [
    "##### Treat Categorical Values"
   ]
  },
  {
   "cell_type": "code",
   "execution_count": 27,
   "metadata": {
    "colab": {
     "base_uri": "https://localhost:8080/",
     "height": 356
    },
    "colab_type": "code",
    "id": "2A_q_AxALVUx",
    "outputId": "00d36b5d-d3bb-45c6-c20c-6027ef6e2386"
   },
   "outputs": [
    {
     "data": {
      "text/html": [
       "<div>\n",
       "<style scoped>\n",
       "    .dataframe tbody tr th:only-of-type {\n",
       "        vertical-align: middle;\n",
       "    }\n",
       "\n",
       "    .dataframe tbody tr th {\n",
       "        vertical-align: top;\n",
       "    }\n",
       "\n",
       "    .dataframe thead th {\n",
       "        text-align: right;\n",
       "    }\n",
       "</style>\n",
       "<table border=\"1\" class=\"dataframe\">\n",
       "  <thead>\n",
       "    <tr style=\"text-align: right;\">\n",
       "      <th></th>\n",
       "      <th>Gender</th>\n",
       "      <th>Age</th>\n",
       "      <th>City_Category</th>\n",
       "      <th>Stay_In_Current_City_Years</th>\n",
       "    </tr>\n",
       "  </thead>\n",
       "  <tbody>\n",
       "    <tr>\n",
       "      <th>0</th>\n",
       "      <td>F</td>\n",
       "      <td>0-17</td>\n",
       "      <td>A</td>\n",
       "      <td>2</td>\n",
       "    </tr>\n",
       "    <tr>\n",
       "      <th>1</th>\n",
       "      <td>F</td>\n",
       "      <td>0-17</td>\n",
       "      <td>A</td>\n",
       "      <td>2</td>\n",
       "    </tr>\n",
       "    <tr>\n",
       "      <th>2</th>\n",
       "      <td>F</td>\n",
       "      <td>0-17</td>\n",
       "      <td>A</td>\n",
       "      <td>2</td>\n",
       "    </tr>\n",
       "    <tr>\n",
       "      <th>3</th>\n",
       "      <td>F</td>\n",
       "      <td>0-17</td>\n",
       "      <td>A</td>\n",
       "      <td>2</td>\n",
       "    </tr>\n",
       "    <tr>\n",
       "      <th>4</th>\n",
       "      <td>M</td>\n",
       "      <td>55+</td>\n",
       "      <td>C</td>\n",
       "      <td>4+</td>\n",
       "    </tr>\n",
       "    <tr>\n",
       "      <th>5</th>\n",
       "      <td>M</td>\n",
       "      <td>26-35</td>\n",
       "      <td>A</td>\n",
       "      <td>3</td>\n",
       "    </tr>\n",
       "    <tr>\n",
       "      <th>6</th>\n",
       "      <td>M</td>\n",
       "      <td>46-50</td>\n",
       "      <td>B</td>\n",
       "      <td>2</td>\n",
       "    </tr>\n",
       "    <tr>\n",
       "      <th>7</th>\n",
       "      <td>M</td>\n",
       "      <td>46-50</td>\n",
       "      <td>B</td>\n",
       "      <td>2</td>\n",
       "    </tr>\n",
       "    <tr>\n",
       "      <th>8</th>\n",
       "      <td>M</td>\n",
       "      <td>46-50</td>\n",
       "      <td>B</td>\n",
       "      <td>2</td>\n",
       "    </tr>\n",
       "    <tr>\n",
       "      <th>9</th>\n",
       "      <td>M</td>\n",
       "      <td>26-35</td>\n",
       "      <td>A</td>\n",
       "      <td>1</td>\n",
       "    </tr>\n",
       "  </tbody>\n",
       "</table>\n",
       "</div>"
      ],
      "text/plain": [
       "  Gender    Age City_Category Stay_In_Current_City_Years\n",
       "0      F   0-17             A                          2\n",
       "1      F   0-17             A                          2\n",
       "2      F   0-17             A                          2\n",
       "3      F   0-17             A                          2\n",
       "4      M    55+             C                         4+\n",
       "5      M  26-35             A                          3\n",
       "6      M  46-50             B                          2\n",
       "7      M  46-50             B                          2\n",
       "8      M  46-50             B                          2\n",
       "9      M  26-35             A                          1"
      ]
     },
     "execution_count": 27,
     "metadata": {},
     "output_type": "execute_result"
    }
   ],
   "source": [
    "# see dataset after treating categorical variables\n",
    "fullData_preprocessed[cat_cols][0:10]"
   ]
  },
  {
   "cell_type": "code",
   "execution_count": 28,
   "metadata": {
    "colab": {},
    "colab_type": "code",
    "id": "Bf9gH7fRA1ZP"
   },
   "outputs": [],
   "source": [
    "#use label encoders for categorical features\n",
    "from sklearn.preprocessing import LabelEncoder\n",
    "\n",
    "for col in cat_cols:\n",
    "    # instantiate Label Encoder, which encodes labels with value between 0 and n_classes-1 \n",
    "    number = LabelEncoder()\n",
    "    # fit_transform fit label encoder and return encoded labels. Here we updated the cat_cols with the new labels\n",
    "    fullData_preprocessed[col] = number.fit_transform(fullData_preprocessed[col])#.astype('str'))"
   ]
  },
  {
   "cell_type": "code",
   "execution_count": 29,
   "metadata": {
    "colab": {
     "base_uri": "https://localhost:8080/",
     "height": 356
    },
    "colab_type": "code",
    "id": "u5ZiwJ4OTtCF",
    "outputId": "3ee882c8-20fa-4104-9370-86b1389a4b11"
   },
   "outputs": [
    {
     "data": {
      "text/html": [
       "<div>\n",
       "<style scoped>\n",
       "    .dataframe tbody tr th:only-of-type {\n",
       "        vertical-align: middle;\n",
       "    }\n",
       "\n",
       "    .dataframe tbody tr th {\n",
       "        vertical-align: top;\n",
       "    }\n",
       "\n",
       "    .dataframe thead th {\n",
       "        text-align: right;\n",
       "    }\n",
       "</style>\n",
       "<table border=\"1\" class=\"dataframe\">\n",
       "  <thead>\n",
       "    <tr style=\"text-align: right;\">\n",
       "      <th></th>\n",
       "      <th>Gender</th>\n",
       "      <th>Age</th>\n",
       "      <th>City_Category</th>\n",
       "      <th>Stay_In_Current_City_Years</th>\n",
       "    </tr>\n",
       "  </thead>\n",
       "  <tbody>\n",
       "    <tr>\n",
       "      <th>0</th>\n",
       "      <td>0</td>\n",
       "      <td>0</td>\n",
       "      <td>0</td>\n",
       "      <td>2</td>\n",
       "    </tr>\n",
       "    <tr>\n",
       "      <th>1</th>\n",
       "      <td>0</td>\n",
       "      <td>0</td>\n",
       "      <td>0</td>\n",
       "      <td>2</td>\n",
       "    </tr>\n",
       "    <tr>\n",
       "      <th>2</th>\n",
       "      <td>0</td>\n",
       "      <td>0</td>\n",
       "      <td>0</td>\n",
       "      <td>2</td>\n",
       "    </tr>\n",
       "    <tr>\n",
       "      <th>3</th>\n",
       "      <td>0</td>\n",
       "      <td>0</td>\n",
       "      <td>0</td>\n",
       "      <td>2</td>\n",
       "    </tr>\n",
       "    <tr>\n",
       "      <th>4</th>\n",
       "      <td>1</td>\n",
       "      <td>6</td>\n",
       "      <td>2</td>\n",
       "      <td>4</td>\n",
       "    </tr>\n",
       "    <tr>\n",
       "      <th>5</th>\n",
       "      <td>1</td>\n",
       "      <td>2</td>\n",
       "      <td>0</td>\n",
       "      <td>3</td>\n",
       "    </tr>\n",
       "    <tr>\n",
       "      <th>6</th>\n",
       "      <td>1</td>\n",
       "      <td>4</td>\n",
       "      <td>1</td>\n",
       "      <td>2</td>\n",
       "    </tr>\n",
       "    <tr>\n",
       "      <th>7</th>\n",
       "      <td>1</td>\n",
       "      <td>4</td>\n",
       "      <td>1</td>\n",
       "      <td>2</td>\n",
       "    </tr>\n",
       "    <tr>\n",
       "      <th>8</th>\n",
       "      <td>1</td>\n",
       "      <td>4</td>\n",
       "      <td>1</td>\n",
       "      <td>2</td>\n",
       "    </tr>\n",
       "    <tr>\n",
       "      <th>9</th>\n",
       "      <td>1</td>\n",
       "      <td>2</td>\n",
       "      <td>0</td>\n",
       "      <td>1</td>\n",
       "    </tr>\n",
       "  </tbody>\n",
       "</table>\n",
       "</div>"
      ],
      "text/plain": [
       "   Gender  Age  City_Category  Stay_In_Current_City_Years\n",
       "0       0    0              0                           2\n",
       "1       0    0              0                           2\n",
       "2       0    0              0                           2\n",
       "3       0    0              0                           2\n",
       "4       1    6              2                           4\n",
       "5       1    2              0                           3\n",
       "6       1    4              1                           2\n",
       "7       1    4              1                           2\n",
       "8       1    4              1                           2\n",
       "9       1    2              0                           1"
      ]
     },
     "execution_count": 29,
     "metadata": {},
     "output_type": "execute_result"
    }
   ],
   "source": [
    "# see dataset after treating categorical variables\n",
    "fullData_preprocessed[cat_cols][0:10]"
   ]
  },
  {
   "cell_type": "markdown",
   "metadata": {
    "colab_type": "text",
    "id": "G7uaHU5HgJXG"
   },
   "source": [
    "##### Take a view of dataset after preprocessing"
   ]
  },
  {
   "cell_type": "code",
   "execution_count": 30,
   "metadata": {
    "colab": {
     "base_uri": "https://localhost:8080/",
     "height": 222
    },
    "colab_type": "code",
    "id": "-n24k8nRUNoR",
    "outputId": "ce351b88-896a-4657-f114-e906eaadccd0"
   },
   "outputs": [
    {
     "data": {
      "text/html": [
       "<div>\n",
       "<style scoped>\n",
       "    .dataframe tbody tr th:only-of-type {\n",
       "        vertical-align: middle;\n",
       "    }\n",
       "\n",
       "    .dataframe tbody tr th {\n",
       "        vertical-align: top;\n",
       "    }\n",
       "\n",
       "    .dataframe thead th {\n",
       "        text-align: right;\n",
       "    }\n",
       "</style>\n",
       "<table border=\"1\" class=\"dataframe\">\n",
       "  <thead>\n",
       "    <tr style=\"text-align: right;\">\n",
       "      <th></th>\n",
       "      <th>User_ID</th>\n",
       "      <th>Product_ID</th>\n",
       "      <th>Gender</th>\n",
       "      <th>Age</th>\n",
       "      <th>Occupation</th>\n",
       "      <th>City_Category</th>\n",
       "      <th>Stay_In_Current_City_Years</th>\n",
       "      <th>Marital_Status</th>\n",
       "      <th>Product_Category_1</th>\n",
       "      <th>Product_Category_2</th>\n",
       "      <th>Product_Category_3</th>\n",
       "      <th>Purchase</th>\n",
       "    </tr>\n",
       "  </thead>\n",
       "  <tbody>\n",
       "    <tr>\n",
       "      <th>0</th>\n",
       "      <td>1000001</td>\n",
       "      <td>P00069042</td>\n",
       "      <td>0</td>\n",
       "      <td>0</td>\n",
       "      <td>0.5</td>\n",
       "      <td>0</td>\n",
       "      <td>2</td>\n",
       "      <td>0.0</td>\n",
       "      <td>0.15</td>\n",
       "      <td>0.000000</td>\n",
       "      <td>0.000000</td>\n",
       "      <td>8370</td>\n",
       "    </tr>\n",
       "    <tr>\n",
       "      <th>1</th>\n",
       "      <td>1000001</td>\n",
       "      <td>P00248942</td>\n",
       "      <td>0</td>\n",
       "      <td>0</td>\n",
       "      <td>0.5</td>\n",
       "      <td>0</td>\n",
       "      <td>2</td>\n",
       "      <td>0.0</td>\n",
       "      <td>0.05</td>\n",
       "      <td>0.333333</td>\n",
       "      <td>0.777778</td>\n",
       "      <td>15200</td>\n",
       "    </tr>\n",
       "    <tr>\n",
       "      <th>2</th>\n",
       "      <td>1000001</td>\n",
       "      <td>P00087842</td>\n",
       "      <td>0</td>\n",
       "      <td>0</td>\n",
       "      <td>0.5</td>\n",
       "      <td>0</td>\n",
       "      <td>2</td>\n",
       "      <td>0.0</td>\n",
       "      <td>0.60</td>\n",
       "      <td>0.000000</td>\n",
       "      <td>0.000000</td>\n",
       "      <td>1422</td>\n",
       "    </tr>\n",
       "    <tr>\n",
       "      <th>3</th>\n",
       "      <td>1000001</td>\n",
       "      <td>P00085442</td>\n",
       "      <td>0</td>\n",
       "      <td>0</td>\n",
       "      <td>0.5</td>\n",
       "      <td>0</td>\n",
       "      <td>2</td>\n",
       "      <td>0.0</td>\n",
       "      <td>0.60</td>\n",
       "      <td>0.777778</td>\n",
       "      <td>0.000000</td>\n",
       "      <td>1057</td>\n",
       "    </tr>\n",
       "    <tr>\n",
       "      <th>4</th>\n",
       "      <td>1000002</td>\n",
       "      <td>P00285442</td>\n",
       "      <td>1</td>\n",
       "      <td>6</td>\n",
       "      <td>0.8</td>\n",
       "      <td>2</td>\n",
       "      <td>4</td>\n",
       "      <td>0.0</td>\n",
       "      <td>0.40</td>\n",
       "      <td>0.000000</td>\n",
       "      <td>0.000000</td>\n",
       "      <td>7969</td>\n",
       "    </tr>\n",
       "  </tbody>\n",
       "</table>\n",
       "</div>"
      ],
      "text/plain": [
       "   User_ID Product_ID  Gender  Age  Occupation  City_Category  \\\n",
       "0  1000001  P00069042       0    0         0.5              0   \n",
       "1  1000001  P00248942       0    0         0.5              0   \n",
       "2  1000001  P00087842       0    0         0.5              0   \n",
       "3  1000001  P00085442       0    0         0.5              0   \n",
       "4  1000002  P00285442       1    6         0.8              2   \n",
       "\n",
       "   Stay_In_Current_City_Years  Marital_Status  Product_Category_1  \\\n",
       "0                           2             0.0                0.15   \n",
       "1                           2             0.0                0.05   \n",
       "2                           2             0.0                0.60   \n",
       "3                           2             0.0                0.60   \n",
       "4                           4             0.0                0.40   \n",
       "\n",
       "   Product_Category_2  Product_Category_3  Purchase  \n",
       "0            0.000000            0.000000      8370  \n",
       "1            0.333333            0.777778     15200  \n",
       "2            0.000000            0.000000      1422  \n",
       "3            0.777778            0.000000      1057  \n",
       "4            0.000000            0.000000      7969  "
      ]
     },
     "execution_count": 30,
     "metadata": {},
     "output_type": "execute_result"
    }
   ],
   "source": [
    "fullData_preprocessed.head()"
   ]
  },
  {
   "cell_type": "code",
   "execution_count": 31,
   "metadata": {
    "colab": {
     "base_uri": "https://localhost:8080/",
     "height": 265
    },
    "colab_type": "code",
    "id": "AW2ObG48VUlB",
    "outputId": "1cf1f62c-1ed7-4420-efd7-83609a5e3623"
   },
   "outputs": [
    {
     "name": "stdout",
     "output_type": "stream",
     "text": [
      "Percentage of Not Null Values per column/feature after preprocessing:\n"
     ]
    },
    {
     "data": {
      "text/plain": [
       "User_ID                       100.0\n",
       "Product_ID                    100.0\n",
       "Gender                        100.0\n",
       "Age                           100.0\n",
       "Occupation                    100.0\n",
       "City_Category                 100.0\n",
       "Stay_In_Current_City_Years    100.0\n",
       "Marital_Status                100.0\n",
       "Product_Category_1            100.0\n",
       "Product_Category_2            100.0\n",
       "Product_Category_3            100.0\n",
       "Purchase                      100.0\n",
       "dtype: float64"
      ]
     },
     "execution_count": 31,
     "metadata": {},
     "output_type": "execute_result"
    }
   ],
   "source": [
    "# percentage of entries per column type \n",
    "print('Percentage of Not Null Values per column/feature after preprocessing:')\n",
    "np.around((fullData_preprocessed.notnull().sum() / len(fullData_preprocessed)*100), decimals=1)"
   ]
  },
  {
   "cell_type": "code",
   "execution_count": 32,
   "metadata": {
    "colab": {},
    "colab_type": "code",
    "id": "K8LrxGdT0pFp"
   },
   "outputs": [],
   "source": [
    "# and finally, we need to drop redudant ID columns\n",
    "fullData_preprocessed.drop(ID_col,axis=1, inplace=True)"
   ]
  },
  {
   "cell_type": "code",
   "execution_count": 33,
   "metadata": {
    "colab": {
     "base_uri": "https://localhost:8080/",
     "height": 211
    },
    "colab_type": "code",
    "id": "rxweZ_pCxxa5",
    "outputId": "c5dc1cd6-ee8f-4c27-b276-957186a877d4"
   },
   "outputs": [
    {
     "data": {
      "text/plain": [
       "Gender                          int64\n",
       "Age                             int64\n",
       "Occupation                    float64\n",
       "City_Category                   int64\n",
       "Stay_In_Current_City_Years      int64\n",
       "Marital_Status                float64\n",
       "Product_Category_1            float64\n",
       "Product_Category_2            float64\n",
       "Product_Category_3            float64\n",
       "Purchase                        int64\n",
       "dtype: object"
      ]
     },
     "execution_count": 33,
     "metadata": {},
     "output_type": "execute_result"
    }
   ],
   "source": [
    "# and a check on the different datatypes we now have \n",
    "fullData_preprocessed.dtypes"
   ]
  },
  {
   "cell_type": "code",
   "execution_count": 34,
   "metadata": {
    "colab": {
     "base_uri": "https://localhost:8080/",
     "height": 315
    },
    "colab_type": "code",
    "id": "OzoIUV1G1rbu",
    "outputId": "3d216e6b-b559-4b2a-b8be-d7de356e9840"
   },
   "outputs": [
    {
     "data": {
      "text/html": [
       "<div>\n",
       "<style scoped>\n",
       "    .dataframe tbody tr th:only-of-type {\n",
       "        vertical-align: middle;\n",
       "    }\n",
       "\n",
       "    .dataframe tbody tr th {\n",
       "        vertical-align: top;\n",
       "    }\n",
       "\n",
       "    .dataframe thead th {\n",
       "        text-align: right;\n",
       "    }\n",
       "</style>\n",
       "<table border=\"1\" class=\"dataframe\">\n",
       "  <thead>\n",
       "    <tr style=\"text-align: right;\">\n",
       "      <th></th>\n",
       "      <th>Gender</th>\n",
       "      <th>Age</th>\n",
       "      <th>Occupation</th>\n",
       "      <th>City_Category</th>\n",
       "      <th>Stay_In_Current_City_Years</th>\n",
       "      <th>Marital_Status</th>\n",
       "      <th>Product_Category_1</th>\n",
       "      <th>Product_Category_2</th>\n",
       "      <th>Product_Category_3</th>\n",
       "      <th>Purchase</th>\n",
       "    </tr>\n",
       "  </thead>\n",
       "  <tbody>\n",
       "    <tr>\n",
       "      <th>count</th>\n",
       "      <td>550068.000000</td>\n",
       "      <td>550068.000000</td>\n",
       "      <td>550068.000000</td>\n",
       "      <td>550068.000000</td>\n",
       "      <td>550068.000000</td>\n",
       "      <td>550068.000000</td>\n",
       "      <td>550068.000000</td>\n",
       "      <td>550068.000000</td>\n",
       "      <td>550068.000000</td>\n",
       "      <td>550068.000000</td>\n",
       "    </tr>\n",
       "    <tr>\n",
       "      <th>mean</th>\n",
       "      <td>0.753105</td>\n",
       "      <td>2.496430</td>\n",
       "      <td>0.403835</td>\n",
       "      <td>1.042640</td>\n",
       "      <td>1.858418</td>\n",
       "      <td>0.409653</td>\n",
       "      <td>0.270214</td>\n",
       "      <td>0.374191</td>\n",
       "      <td>0.213441</td>\n",
       "      <td>9263.968713</td>\n",
       "    </tr>\n",
       "    <tr>\n",
       "      <th>std</th>\n",
       "      <td>0.431205</td>\n",
       "      <td>1.353632</td>\n",
       "      <td>0.326133</td>\n",
       "      <td>0.760211</td>\n",
       "      <td>1.289443</td>\n",
       "      <td>0.491770</td>\n",
       "      <td>0.196811</td>\n",
       "      <td>0.345305</td>\n",
       "      <td>0.347262</td>\n",
       "      <td>5023.065394</td>\n",
       "    </tr>\n",
       "    <tr>\n",
       "      <th>min</th>\n",
       "      <td>0.000000</td>\n",
       "      <td>0.000000</td>\n",
       "      <td>0.000000</td>\n",
       "      <td>0.000000</td>\n",
       "      <td>0.000000</td>\n",
       "      <td>0.000000</td>\n",
       "      <td>0.050000</td>\n",
       "      <td>0.000000</td>\n",
       "      <td>0.000000</td>\n",
       "      <td>12.000000</td>\n",
       "    </tr>\n",
       "    <tr>\n",
       "      <th>25%</th>\n",
       "      <td>1.000000</td>\n",
       "      <td>2.000000</td>\n",
       "      <td>0.100000</td>\n",
       "      <td>0.000000</td>\n",
       "      <td>1.000000</td>\n",
       "      <td>0.000000</td>\n",
       "      <td>0.050000</td>\n",
       "      <td>0.000000</td>\n",
       "      <td>0.000000</td>\n",
       "      <td>5823.000000</td>\n",
       "    </tr>\n",
       "    <tr>\n",
       "      <th>50%</th>\n",
       "      <td>1.000000</td>\n",
       "      <td>2.000000</td>\n",
       "      <td>0.350000</td>\n",
       "      <td>1.000000</td>\n",
       "      <td>2.000000</td>\n",
       "      <td>0.000000</td>\n",
       "      <td>0.250000</td>\n",
       "      <td>0.277778</td>\n",
       "      <td>0.000000</td>\n",
       "      <td>8047.000000</td>\n",
       "    </tr>\n",
       "    <tr>\n",
       "      <th>75%</th>\n",
       "      <td>1.000000</td>\n",
       "      <td>3.000000</td>\n",
       "      <td>0.700000</td>\n",
       "      <td>2.000000</td>\n",
       "      <td>3.000000</td>\n",
       "      <td>1.000000</td>\n",
       "      <td>0.400000</td>\n",
       "      <td>0.777778</td>\n",
       "      <td>0.444444</td>\n",
       "      <td>12054.000000</td>\n",
       "    </tr>\n",
       "    <tr>\n",
       "      <th>max</th>\n",
       "      <td>1.000000</td>\n",
       "      <td>6.000000</td>\n",
       "      <td>1.000000</td>\n",
       "      <td>2.000000</td>\n",
       "      <td>4.000000</td>\n",
       "      <td>1.000000</td>\n",
       "      <td>1.000000</td>\n",
       "      <td>1.000000</td>\n",
       "      <td>1.000000</td>\n",
       "      <td>23961.000000</td>\n",
       "    </tr>\n",
       "  </tbody>\n",
       "</table>\n",
       "</div>"
      ],
      "text/plain": [
       "              Gender            Age     Occupation  City_Category  \\\n",
       "count  550068.000000  550068.000000  550068.000000  550068.000000   \n",
       "mean        0.753105       2.496430       0.403835       1.042640   \n",
       "std         0.431205       1.353632       0.326133       0.760211   \n",
       "min         0.000000       0.000000       0.000000       0.000000   \n",
       "25%         1.000000       2.000000       0.100000       0.000000   \n",
       "50%         1.000000       2.000000       0.350000       1.000000   \n",
       "75%         1.000000       3.000000       0.700000       2.000000   \n",
       "max         1.000000       6.000000       1.000000       2.000000   \n",
       "\n",
       "       Stay_In_Current_City_Years  Marital_Status  Product_Category_1  \\\n",
       "count               550068.000000   550068.000000       550068.000000   \n",
       "mean                     1.858418        0.409653            0.270214   \n",
       "std                      1.289443        0.491770            0.196811   \n",
       "min                      0.000000        0.000000            0.050000   \n",
       "25%                      1.000000        0.000000            0.050000   \n",
       "50%                      2.000000        0.000000            0.250000   \n",
       "75%                      3.000000        1.000000            0.400000   \n",
       "max                      4.000000        1.000000            1.000000   \n",
       "\n",
       "       Product_Category_2  Product_Category_3       Purchase  \n",
       "count       550068.000000       550068.000000  550068.000000  \n",
       "mean             0.374191            0.213441    9263.968713  \n",
       "std              0.345305            0.347262    5023.065394  \n",
       "min              0.000000            0.000000      12.000000  \n",
       "25%              0.000000            0.000000    5823.000000  \n",
       "50%              0.277778            0.000000    8047.000000  \n",
       "75%              0.777778            0.444444   12054.000000  \n",
       "max              1.000000            1.000000   23961.000000  "
      ]
     },
     "execution_count": 34,
     "metadata": {},
     "output_type": "execute_result"
    }
   ],
   "source": [
    "# summarise the dataset\n",
    "fullData_preprocessed.describe()"
   ]
  },
  {
   "cell_type": "code",
   "execution_count": 35,
   "metadata": {
    "colab": {
     "base_uri": "https://localhost:8080/",
     "height": 376
    },
    "colab_type": "code",
    "id": "hsFqt0v5m5u5",
    "outputId": "d14f7be1-70ee-4af2-9d3a-8c92c9c3e5ef"
   },
   "outputs": [
    {
     "data": {
      "text/html": [
       "<div>\n",
       "<style scoped>\n",
       "    .dataframe tbody tr th:only-of-type {\n",
       "        vertical-align: middle;\n",
       "    }\n",
       "\n",
       "    .dataframe tbody tr th {\n",
       "        vertical-align: top;\n",
       "    }\n",
       "\n",
       "    .dataframe thead th {\n",
       "        text-align: right;\n",
       "    }\n",
       "</style>\n",
       "<table border=\"1\" class=\"dataframe\">\n",
       "  <thead>\n",
       "    <tr style=\"text-align: right;\">\n",
       "      <th></th>\n",
       "      <th>Gender</th>\n",
       "      <th>Age</th>\n",
       "      <th>Occupation</th>\n",
       "      <th>City_Category</th>\n",
       "      <th>Stay_In_Current_City_Years</th>\n",
       "      <th>Marital_Status</th>\n",
       "      <th>Product_Category_1</th>\n",
       "      <th>Product_Category_2</th>\n",
       "      <th>Product_Category_3</th>\n",
       "      <th>Purchase</th>\n",
       "    </tr>\n",
       "  </thead>\n",
       "  <tbody>\n",
       "    <tr>\n",
       "      <th>Gender</th>\n",
       "      <td>1.000000</td>\n",
       "      <td>-0.004262</td>\n",
       "      <td>0.117291</td>\n",
       "      <td>-0.004515</td>\n",
       "      <td>0.014660</td>\n",
       "      <td>-0.011603</td>\n",
       "      <td>-0.045594</td>\n",
       "      <td>-0.000954</td>\n",
       "      <td>0.036146</td>\n",
       "      <td>0.060346</td>\n",
       "    </tr>\n",
       "    <tr>\n",
       "      <th>Age</th>\n",
       "      <td>-0.004262</td>\n",
       "      <td>1.000000</td>\n",
       "      <td>0.091463</td>\n",
       "      <td>0.123079</td>\n",
       "      <td>-0.004712</td>\n",
       "      <td>0.311738</td>\n",
       "      <td>0.061197</td>\n",
       "      <td>0.018770</td>\n",
       "      <td>-0.007422</td>\n",
       "      <td>0.015839</td>\n",
       "    </tr>\n",
       "    <tr>\n",
       "      <th>Occupation</th>\n",
       "      <td>0.117291</td>\n",
       "      <td>0.091463</td>\n",
       "      <td>1.000000</td>\n",
       "      <td>0.034479</td>\n",
       "      <td>0.030005</td>\n",
       "      <td>0.024280</td>\n",
       "      <td>-0.007618</td>\n",
       "      <td>0.006712</td>\n",
       "      <td>0.012269</td>\n",
       "      <td>0.020833</td>\n",
       "    </tr>\n",
       "    <tr>\n",
       "      <th>City_Category</th>\n",
       "      <td>-0.004515</td>\n",
       "      <td>0.123079</td>\n",
       "      <td>0.034479</td>\n",
       "      <td>1.000000</td>\n",
       "      <td>0.019946</td>\n",
       "      <td>0.039790</td>\n",
       "      <td>-0.014364</td>\n",
       "      <td>0.016003</td>\n",
       "      <td>0.035525</td>\n",
       "      <td>0.061914</td>\n",
       "    </tr>\n",
       "    <tr>\n",
       "      <th>Stay_In_Current_City_Years</th>\n",
       "      <td>0.014660</td>\n",
       "      <td>-0.004712</td>\n",
       "      <td>0.030005</td>\n",
       "      <td>0.019946</td>\n",
       "      <td>1.000000</td>\n",
       "      <td>-0.012819</td>\n",
       "      <td>-0.004213</td>\n",
       "      <td>0.001262</td>\n",
       "      <td>0.001977</td>\n",
       "      <td>0.005422</td>\n",
       "    </tr>\n",
       "    <tr>\n",
       "      <th>Marital_Status</th>\n",
       "      <td>-0.011603</td>\n",
       "      <td>0.311738</td>\n",
       "      <td>0.024280</td>\n",
       "      <td>0.039790</td>\n",
       "      <td>-0.012819</td>\n",
       "      <td>1.000000</td>\n",
       "      <td>0.019888</td>\n",
       "      <td>0.001099</td>\n",
       "      <td>-0.004629</td>\n",
       "      <td>-0.000463</td>\n",
       "    </tr>\n",
       "    <tr>\n",
       "      <th>Product_Category_1</th>\n",
       "      <td>-0.045594</td>\n",
       "      <td>0.061197</td>\n",
       "      <td>-0.007618</td>\n",
       "      <td>-0.014364</td>\n",
       "      <td>-0.004213</td>\n",
       "      <td>0.019888</td>\n",
       "      <td>1.000000</td>\n",
       "      <td>-0.067877</td>\n",
       "      <td>-0.385534</td>\n",
       "      <td>-0.343703</td>\n",
       "    </tr>\n",
       "    <tr>\n",
       "      <th>Product_Category_2</th>\n",
       "      <td>-0.000954</td>\n",
       "      <td>0.018770</td>\n",
       "      <td>0.006712</td>\n",
       "      <td>0.016003</td>\n",
       "      <td>0.001262</td>\n",
       "      <td>0.001099</td>\n",
       "      <td>-0.067877</td>\n",
       "      <td>1.000000</td>\n",
       "      <td>0.094750</td>\n",
       "      <td>0.052288</td>\n",
       "    </tr>\n",
       "    <tr>\n",
       "      <th>Product_Category_3</th>\n",
       "      <td>0.036146</td>\n",
       "      <td>-0.007422</td>\n",
       "      <td>0.012269</td>\n",
       "      <td>0.035525</td>\n",
       "      <td>0.001977</td>\n",
       "      <td>-0.004629</td>\n",
       "      <td>-0.385534</td>\n",
       "      <td>0.094750</td>\n",
       "      <td>1.000000</td>\n",
       "      <td>0.288501</td>\n",
       "    </tr>\n",
       "    <tr>\n",
       "      <th>Purchase</th>\n",
       "      <td>0.060346</td>\n",
       "      <td>0.015839</td>\n",
       "      <td>0.020833</td>\n",
       "      <td>0.061914</td>\n",
       "      <td>0.005422</td>\n",
       "      <td>-0.000463</td>\n",
       "      <td>-0.343703</td>\n",
       "      <td>0.052288</td>\n",
       "      <td>0.288501</td>\n",
       "      <td>1.000000</td>\n",
       "    </tr>\n",
       "  </tbody>\n",
       "</table>\n",
       "</div>"
      ],
      "text/plain": [
       "                              Gender       Age  Occupation  City_Category  \\\n",
       "Gender                      1.000000 -0.004262    0.117291      -0.004515   \n",
       "Age                        -0.004262  1.000000    0.091463       0.123079   \n",
       "Occupation                  0.117291  0.091463    1.000000       0.034479   \n",
       "City_Category              -0.004515  0.123079    0.034479       1.000000   \n",
       "Stay_In_Current_City_Years  0.014660 -0.004712    0.030005       0.019946   \n",
       "Marital_Status             -0.011603  0.311738    0.024280       0.039790   \n",
       "Product_Category_1         -0.045594  0.061197   -0.007618      -0.014364   \n",
       "Product_Category_2         -0.000954  0.018770    0.006712       0.016003   \n",
       "Product_Category_3          0.036146 -0.007422    0.012269       0.035525   \n",
       "Purchase                    0.060346  0.015839    0.020833       0.061914   \n",
       "\n",
       "                            Stay_In_Current_City_Years  Marital_Status  \\\n",
       "Gender                                        0.014660       -0.011603   \n",
       "Age                                          -0.004712        0.311738   \n",
       "Occupation                                    0.030005        0.024280   \n",
       "City_Category                                 0.019946        0.039790   \n",
       "Stay_In_Current_City_Years                    1.000000       -0.012819   \n",
       "Marital_Status                               -0.012819        1.000000   \n",
       "Product_Category_1                           -0.004213        0.019888   \n",
       "Product_Category_2                            0.001262        0.001099   \n",
       "Product_Category_3                            0.001977       -0.004629   \n",
       "Purchase                                      0.005422       -0.000463   \n",
       "\n",
       "                            Product_Category_1  Product_Category_2  \\\n",
       "Gender                               -0.045594           -0.000954   \n",
       "Age                                   0.061197            0.018770   \n",
       "Occupation                           -0.007618            0.006712   \n",
       "City_Category                        -0.014364            0.016003   \n",
       "Stay_In_Current_City_Years           -0.004213            0.001262   \n",
       "Marital_Status                        0.019888            0.001099   \n",
       "Product_Category_1                    1.000000           -0.067877   \n",
       "Product_Category_2                   -0.067877            1.000000   \n",
       "Product_Category_3                   -0.385534            0.094750   \n",
       "Purchase                             -0.343703            0.052288   \n",
       "\n",
       "                            Product_Category_3  Purchase  \n",
       "Gender                                0.036146  0.060346  \n",
       "Age                                  -0.007422  0.015839  \n",
       "Occupation                            0.012269  0.020833  \n",
       "City_Category                         0.035525  0.061914  \n",
       "Stay_In_Current_City_Years            0.001977  0.005422  \n",
       "Marital_Status                       -0.004629 -0.000463  \n",
       "Product_Category_1                   -0.385534 -0.343703  \n",
       "Product_Category_2                    0.094750  0.052288  \n",
       "Product_Category_3                    1.000000  0.288501  \n",
       "Purchase                              0.288501  1.000000  "
      ]
     },
     "execution_count": 35,
     "metadata": {},
     "output_type": "execute_result"
    }
   ],
   "source": [
    "# Correlation Matrix\n",
    "fullData_preprocessed.corr()"
   ]
  },
  {
   "cell_type": "code",
   "execution_count": null,
   "metadata": {
    "colab": {},
    "colab_type": "code",
    "id": "GPR-ixelnIB5"
   },
   "outputs": [],
   "source": []
  },
  {
   "cell_type": "markdown",
   "metadata": {
    "colab_type": "text",
    "id": "OC173pELBzxS"
   },
   "source": [
    "#### 2.2 Split the data into training and testing sets \n",
    "* In order to train our model and see how well it performs, we need to split our data into training and testing sets.\n",
    "* We can then train our model on the training set, and test how well it has generalised to the data on the test set.\n",
    "* There are a number of options for how we can split the data, and for what proportion of our original data we set aside for the test set.\n"
   ]
  },
  {
   "cell_type": "code",
   "execution_count": 36,
   "metadata": {
    "colab": {},
    "colab_type": "code",
    "id": "rYDtbZifBvcO"
   },
   "outputs": [],
   "source": [
    "# here we need to drop our target variable from the X dataset\n",
    "X = fullData_preprocessed.drop(['Purchase'],axis=1)\n",
    "\n",
    "# get our target variable\n",
    "y = fullData_preprocessed['Purchase']"
   ]
  },
  {
   "cell_type": "code",
   "execution_count": 37,
   "metadata": {
    "colab": {
     "base_uri": "https://localhost:8080/",
     "height": 52
    },
    "colab_type": "code",
    "id": "rVGYyC7Zu2q0",
    "outputId": "35b92ab7-cc2d-4a10-bd11-822d67aae776"
   },
   "outputs": [
    {
     "name": "stdout",
     "output_type": "stream",
     "text": [
      "X:  (550068, 9)\n",
      "y:  (550068,)\n"
     ]
    }
   ],
   "source": [
    "print ('X: ', X.shape)\n",
    "print ('y: ', y.shape)"
   ]
  },
  {
   "cell_type": "code",
   "execution_count": 38,
   "metadata": {
    "colab": {},
    "colab_type": "code",
    "id": "51LuckaGg6BO"
   },
   "outputs": [],
   "source": [
    "# \n",
    "from sklearn.model_selection import train_test_split \n",
    "# \n",
    "X_train, X_test, y_train, y_test = train_test_split(X, y, test_size=0.30, random_state=42)"
   ]
  },
  {
   "cell_type": "code",
   "execution_count": 39,
   "metadata": {
    "colab": {
     "base_uri": "https://localhost:8080/",
     "height": 158
    },
    "colab_type": "code",
    "id": "vIBpJwa4Geqs",
    "outputId": "de3f2704-eaf8-41a7-f653-7862e9295ccd"
   },
   "outputs": [
    {
     "name": "stdout",
     "output_type": "stream",
     "text": [
      "Training Set:\n",
      "Number of datapoints:  385047\n",
      "Number of features:  9\n",
      "\n",
      "\n",
      "Test Set:\n",
      "Number of datapoints:  165021\n",
      "Number of features:  9\n"
     ]
    }
   ],
   "source": [
    "# get shape of test and training sets\n",
    "print('Training Set:')\n",
    "print('Number of datapoints: ', X_train.shape[0])\n",
    "print('Number of features: ', X_train.shape[1])\n",
    "print('\\n')\n",
    "print('Test Set:')\n",
    "print('Number of datapoints: ', X_test.shape[0])\n",
    "print('Number of features: ', X_test.shape[1])"
   ]
  },
  {
   "cell_type": "markdown",
   "metadata": {
    "colab_type": "text",
    "id": "4HPTAyhFIUhF"
   },
   "source": [
    "**EXERCISE 2.2:**  Read the documentation for the `train_test_split` function [here](http://scikit-learn.org/stable/modules/generated/sklearn.model_selection.train_test_split.html) and add comments to the code above to improve your understanding \n",
    "\n",
    "---\n",
    "\n",
    "**ANSWER:** Other parameters are train_size (optional) to complement the test_size parameter. In case of classification, stratify can used so that both train and test size have equal distribution of classes. Shuffle is set to True by default.\n",
    "\n"
   ]
  },
  {
   "cell_type": "markdown",
   "metadata": {
    "colab_type": "text",
    "id": "efvCE5NAKTeN"
   },
   "source": [
    "### 3. Build Model, train and predict \n",
    "**Aim:** \n",
    "* To build and compare different machine learning models\n",
    "* To understand the steps required to define, train and use a model to predict values\n",
    "* To introduce the idea of evaluation metrics for assessing how well a model performs\n",
    "\n",
    "\n",
    "---\n",
    "* Building a model in `sklearn` involves:\n",
    "  * defining / instantiating the model we want to use and its parameters\n",
    "  * fitting the model we have developed to our training set \n",
    "* We can then use the model to predict scores against our test set and assess how good it is\n",
    "* To do this, we need to define an evaluation metric. There are a number of different options, and they differ for both regression and classification problems. This score will be what we use to select our best model, and the best parameters. \n"
   ]
  },
  {
   "cell_type": "markdown",
   "metadata": {
    "colab_type": "text",
    "id": "D86YSFiHNtrY"
   },
   "source": [
    "#### 3.1 Build a baseline model"
   ]
  },
  {
   "cell_type": "code",
   "execution_count": 40,
   "metadata": {
    "colab": {},
    "colab_type": "code",
    "id": "6aypVMSdOBbd"
   },
   "outputs": [],
   "source": [
    "# import model from sklearn\n",
    "from sklearn.linear_model import LinearRegression\n",
    "\n",
    "# instantiate model\n",
    "baseline = LinearRegression()"
   ]
  },
  {
   "cell_type": "code",
   "execution_count": 41,
   "metadata": {
    "colab": {
     "base_uri": "https://localhost:8080/",
     "height": 282
    },
    "colab_type": "code",
    "id": "DKYxChMd6E5C",
    "outputId": "7f1fc81f-b989-4279-d533-261dab02d9b6"
   },
   "outputs": [
    {
     "name": "stdout",
     "output_type": "stream",
     "text": [
      "<class 'pandas.core.frame.DataFrame'>\n",
      "RangeIndex: 550068 entries, 0 to 550067\n",
      "Data columns (total 10 columns):\n",
      "Gender                        550068 non-null int64\n",
      "Age                           550068 non-null int64\n",
      "Occupation                    550068 non-null float64\n",
      "City_Category                 550068 non-null int64\n",
      "Stay_In_Current_City_Years    550068 non-null int64\n",
      "Marital_Status                550068 non-null float64\n",
      "Product_Category_1            550068 non-null float64\n",
      "Product_Category_2            550068 non-null float64\n",
      "Product_Category_3            550068 non-null float64\n",
      "Purchase                      550068 non-null int64\n",
      "dtypes: float64(5), int64(5)\n",
      "memory usage: 42.0 MB\n"
     ]
    }
   ],
   "source": [
    "fullData_preprocessed.info()"
   ]
  },
  {
   "cell_type": "code",
   "execution_count": 42,
   "metadata": {
    "colab": {
     "base_uri": "https://localhost:8080/",
     "height": 52
    },
    "colab_type": "code",
    "id": "ArV6fZq-OBqI",
    "outputId": "2f6f1e8d-6c40-4d2d-9b24-12904515c915"
   },
   "outputs": [
    {
     "data": {
      "text/plain": [
       "LinearRegression(copy_X=True, fit_intercept=True, n_jobs=None,\n",
       "         normalize=False)"
      ]
     },
     "execution_count": 42,
     "metadata": {},
     "output_type": "execute_result"
    }
   ],
   "source": [
    "# fit model - here we are training our model on our split data, but just the training set\n",
    "baseline = baseline.fit(X_train, y_train)\n",
    "baseline"
   ]
  },
  {
   "cell_type": "code",
   "execution_count": 43,
   "metadata": {
    "colab": {
     "base_uri": "https://localhost:8080/",
     "height": 35
    },
    "colab_type": "code",
    "id": "Xe2o8tQbOHSf",
    "outputId": "51956b5d-335e-41da-debc-fa898494dd81"
   },
   "outputs": [
    {
     "name": "stdout",
     "output_type": "stream",
     "text": [
      "RMSE score for LinearRegression is: 4627.78\n"
     ]
    }
   ],
   "source": [
    "# given our fitted model, how well will it perform - first step, import metrics \n",
    "from sklearn import metrics  \n",
    "\n",
    "# create a prediction of the Purchase value on a new set of input variables, using our model \n",
    "predict_lr = baseline.predict(X_test)\n",
    "\n",
    "# get a score by comparing our predict against actual. We get the square root of the MSE score to give us RSME\n",
    "score_lr = np.sqrt(metrics.mean_squared_error(y_test,predict_lr))\n",
    "\n",
    "# print out the score \n",
    "print('RMSE score for {} is:'.format(baseline.__class__.__name__),np.round((score_lr), decimals=2))"
   ]
  },
  {
   "cell_type": "code",
   "execution_count": 44,
   "metadata": {
    "colab": {
     "base_uri": "https://localhost:8080/",
     "height": 35
    },
    "colab_type": "code",
    "id": "yJI7TwLZfLeC",
    "outputId": "8b8ce50c-986e-4590-d39f-82452f9ae091"
   },
   "outputs": [
    {
     "data": {
      "text/plain": [
       "(385047, 9)"
      ]
     },
     "execution_count": 44,
     "metadata": {},
     "output_type": "execute_result"
    }
   ],
   "source": [
    "X_train.shape"
   ]
  },
  {
   "cell_type": "markdown",
   "metadata": {
    "colab_type": "text",
    "id": "wfiZwLheCDBj"
   },
   "source": [
    "#### 3.2 Build a model with Random Forest"
   ]
  },
  {
   "cell_type": "code",
   "execution_count": 45,
   "metadata": {
    "colab": {
     "base_uri": "https://localhost:8080/",
     "height": 123
    },
    "colab_type": "code",
    "id": "6EIZD3_3B_Dt",
    "outputId": "ec685177-0f4c-498c-cab9-492681107685"
   },
   "outputs": [
    {
     "data": {
      "text/plain": [
       "<bound method BaseEstimator.get_params of RandomForestRegressor(bootstrap=True, criterion='mse', max_depth=15,\n",
       "           max_features='log2', max_leaf_nodes=None,\n",
       "           min_impurity_decrease=0.0, min_impurity_split=None,\n",
       "           min_samples_leaf=1, min_samples_split=2,\n",
       "           min_weight_fraction_leaf=0.0, n_estimators=10, n_jobs=None,\n",
       "           oob_score=False, random_state=None, verbose=0, warm_start=False)>"
      ]
     },
     "execution_count": 45,
     "metadata": {},
     "output_type": "execute_result"
    }
   ],
   "source": [
    "#import necessary libraries to build model\n",
    "from sklearn.ensemble import RandomForestRegressor\n",
    "\n",
    "# instantiate model\n",
    "rf = RandomForestRegressor(n_estimators=10, max_features=\"log2\", max_depth=15)\n",
    "\n",
    "# fit model\n",
    "rf = rf.fit(X_train, y_train)\n",
    "\n",
    "# this method also gives us the parameters of the model fit to the data \n",
    "rf.get_params"
   ]
  },
  {
   "cell_type": "code",
   "execution_count": 46,
   "metadata": {
    "colab": {
     "base_uri": "https://localhost:8080/",
     "height": 35
    },
    "colab_type": "code",
    "id": "59w5xIFWOmhf",
    "outputId": "7425bca5-24fb-4013-c777-41319453848c"
   },
   "outputs": [
    {
     "name": "stdout",
     "output_type": "stream",
     "text": [
      "RMSE score for RandomForestRegressor is: 3015.34\n"
     ]
    }
   ],
   "source": [
    "# create a prediction of the Purchase value on a new set of input variables, using our model \n",
    "predict_rf = rf.predict(X_test)\n",
    "\n",
    "# get a score by comparing our predict against actual. We get the square root of the MSE score to give us RSME\n",
    "score_rf = np.sqrt(metrics.mean_squared_error(y_test,predict_rf))\n",
    "\n",
    "# print out the score \n",
    "print('RMSE score for {} is:'.format(rf.__class__.__name__),np.round((score_rf), decimals=2))"
   ]
  },
  {
   "cell_type": "markdown",
   "metadata": {
    "colab_type": "text",
    "id": "Mze85juqOzcm"
   },
   "source": [
    "**EXERCISE 3.2:** sklearn models have a number of different methods and attributes associated with them. Look up and call some of the methods and attributes associated with the [RandomForestRegressor](http://scikit-learn.org/stable/modules/generated/sklearn.ensemble.RandomForestRegressor.html)\n",
    "\n",
    "---\n",
    "\n",
    "**ANSWER:**\n",
    "\n"
   ]
  },
  {
   "cell_type": "code",
   "execution_count": 47,
   "metadata": {
    "colab": {
     "base_uri": "https://localhost:8080/",
     "height": 35
    },
    "colab_type": "code",
    "id": "fs-nWS5hQGvM",
    "outputId": "d6fe2ca4-d330-4084-a578-b3e532d882e2"
   },
   "outputs": [
    {
     "name": "stdout",
     "output_type": "stream",
     "text": [
      "R^2 of training data: 0.684 \n"
     ]
    }
   ],
   "source": [
    "# R2 determination\n",
    "\n",
    "print('R^2 of training data: %0.3f '%rf.score(X_train, y_train))"
   ]
  },
  {
   "cell_type": "code",
   "execution_count": 48,
   "metadata": {
    "colab": {
     "base_uri": "https://localhost:8080/",
     "height": 35
    },
    "colab_type": "code",
    "id": "fuUroa4YQwUO",
    "outputId": "afe83d70-e596-4ea8-8e4a-8b37286cc250"
   },
   "outputs": [
    {
     "name": "stdout",
     "output_type": "stream",
     "text": [
      "R^2 of test data: 0.639 \n"
     ]
    }
   ],
   "source": [
    "print('R^2 of test data: %0.3f '%rf.score(X_test, y_test))"
   ]
  },
  {
   "cell_type": "code",
   "execution_count": 49,
   "metadata": {
    "colab": {
     "base_uri": "https://localhost:8080/",
     "height": 901
    },
    "colab_type": "code",
    "id": "xk-i-flCPXOz",
    "outputId": "a4e3e89a-a369-46bf-f121-3e89bcdac04d"
   },
   "outputs": [
    {
     "data": {
      "text/plain": [
       "[DecisionTreeRegressor(criterion='mse', max_depth=15, max_features='log2',\n",
       "            max_leaf_nodes=None, min_impurity_decrease=0.0,\n",
       "            min_impurity_split=None, min_samples_leaf=1,\n",
       "            min_samples_split=2, min_weight_fraction_leaf=0.0,\n",
       "            presort=False, random_state=272711293, splitter='best'),\n",
       " DecisionTreeRegressor(criterion='mse', max_depth=15, max_features='log2',\n",
       "            max_leaf_nodes=None, min_impurity_decrease=0.0,\n",
       "            min_impurity_split=None, min_samples_leaf=1,\n",
       "            min_samples_split=2, min_weight_fraction_leaf=0.0,\n",
       "            presort=False, random_state=1238186903, splitter='best'),\n",
       " DecisionTreeRegressor(criterion='mse', max_depth=15, max_features='log2',\n",
       "            max_leaf_nodes=None, min_impurity_decrease=0.0,\n",
       "            min_impurity_split=None, min_samples_leaf=1,\n",
       "            min_samples_split=2, min_weight_fraction_leaf=0.0,\n",
       "            presort=False, random_state=1520324631, splitter='best'),\n",
       " DecisionTreeRegressor(criterion='mse', max_depth=15, max_features='log2',\n",
       "            max_leaf_nodes=None, min_impurity_decrease=0.0,\n",
       "            min_impurity_split=None, min_samples_leaf=1,\n",
       "            min_samples_split=2, min_weight_fraction_leaf=0.0,\n",
       "            presort=False, random_state=1317911455, splitter='best'),\n",
       " DecisionTreeRegressor(criterion='mse', max_depth=15, max_features='log2',\n",
       "            max_leaf_nodes=None, min_impurity_decrease=0.0,\n",
       "            min_impurity_split=None, min_samples_leaf=1,\n",
       "            min_samples_split=2, min_weight_fraction_leaf=0.0,\n",
       "            presort=False, random_state=161925101, splitter='best'),\n",
       " DecisionTreeRegressor(criterion='mse', max_depth=15, max_features='log2',\n",
       "            max_leaf_nodes=None, min_impurity_decrease=0.0,\n",
       "            min_impurity_split=None, min_samples_leaf=1,\n",
       "            min_samples_split=2, min_weight_fraction_leaf=0.0,\n",
       "            presort=False, random_state=627973694, splitter='best'),\n",
       " DecisionTreeRegressor(criterion='mse', max_depth=15, max_features='log2',\n",
       "            max_leaf_nodes=None, min_impurity_decrease=0.0,\n",
       "            min_impurity_split=None, min_samples_leaf=1,\n",
       "            min_samples_split=2, min_weight_fraction_leaf=0.0,\n",
       "            presort=False, random_state=1749862323, splitter='best'),\n",
       " DecisionTreeRegressor(criterion='mse', max_depth=15, max_features='log2',\n",
       "            max_leaf_nodes=None, min_impurity_decrease=0.0,\n",
       "            min_impurity_split=None, min_samples_leaf=1,\n",
       "            min_samples_split=2, min_weight_fraction_leaf=0.0,\n",
       "            presort=False, random_state=1180439446, splitter='best'),\n",
       " DecisionTreeRegressor(criterion='mse', max_depth=15, max_features='log2',\n",
       "            max_leaf_nodes=None, min_impurity_decrease=0.0,\n",
       "            min_impurity_split=None, min_samples_leaf=1,\n",
       "            min_samples_split=2, min_weight_fraction_leaf=0.0,\n",
       "            presort=False, random_state=1037716110, splitter='best'),\n",
       " DecisionTreeRegressor(criterion='mse', max_depth=15, max_features='log2',\n",
       "            max_leaf_nodes=None, min_impurity_decrease=0.0,\n",
       "            min_impurity_split=None, min_samples_leaf=1,\n",
       "            min_samples_split=2, min_weight_fraction_leaf=0.0,\n",
       "            presort=False, random_state=1019616270, splitter='best')]"
      ]
     },
     "execution_count": 49,
     "metadata": {},
     "output_type": "execute_result"
    }
   ],
   "source": [
    "## code here for using methods and attributes  \n",
    "rf.estimators_"
   ]
  },
  {
   "cell_type": "code",
   "execution_count": 50,
   "metadata": {
    "colab": {
     "base_uri": "https://localhost:8080/",
     "height": 52
    },
    "colab_type": "code",
    "id": "FzKo-W9hgBX0",
    "outputId": "585cd55f-889b-4d09-af5a-be7b6447ae96"
   },
   "outputs": [
    {
     "data": {
      "text/plain": [
       "array([0.0044081 , 0.01615053, 0.02205557, 0.00889748, 0.01421785,\n",
       "       0.0047187 , 0.71420325, 0.10832458, 0.10702394])"
      ]
     },
     "execution_count": 50,
     "metadata": {},
     "output_type": "execute_result"
    }
   ],
   "source": [
    "rf.feature_importances_"
   ]
  },
  {
   "cell_type": "code",
   "execution_count": 51,
   "metadata": {
    "colab": {
     "base_uri": "https://localhost:8080/",
     "height": 88
    },
    "colab_type": "code",
    "id": "aRNE_J16gT4v",
    "outputId": "911a763f-f8f6-48cf-8167-2e86015834ea"
   },
   "outputs": [
    {
     "data": {
      "text/plain": [
       "Index(['Gender', 'Age', 'Occupation', 'City_Category',\n",
       "       'Stay_In_Current_City_Years', 'Marital_Status', 'Product_Category_1',\n",
       "       'Product_Category_2', 'Product_Category_3', 'Purchase'],\n",
       "      dtype='object')"
      ]
     },
     "execution_count": 51,
     "metadata": {},
     "output_type": "execute_result"
    }
   ],
   "source": [
    "fullData_preprocessed.columns"
   ]
  },
  {
   "cell_type": "code",
   "execution_count": 52,
   "metadata": {
    "colab": {
     "base_uri": "https://localhost:8080/",
     "height": 194
    },
    "colab_type": "code",
    "id": "NEzU4ACGgD2p",
    "outputId": "6acbd74e-0694-46b3-ed7d-07dc2152eee3"
   },
   "outputs": [
    {
     "data": {
      "text/plain": [
       "Gender                        0.004408\n",
       "Age                           0.016151\n",
       "Occupation                    0.022056\n",
       "City_Category                 0.008897\n",
       "Stay_In_Current_City_Years    0.014218\n",
       "Marital_Status                0.004719\n",
       "Product_Category_1            0.714203\n",
       "Product_Category_2            0.108325\n",
       "Product_Category_3            0.107024\n",
       "dtype: float64"
      ]
     },
     "execution_count": 52,
     "metadata": {},
     "output_type": "execute_result"
    }
   ],
   "source": [
    "pd.Series(rf.feature_importances_, index =X.columns)"
   ]
  },
  {
   "cell_type": "code",
   "execution_count": 53,
   "metadata": {
    "colab": {
     "base_uri": "https://localhost:8080/",
     "height": 35
    },
    "colab_type": "code",
    "id": "tCAoNUk6gteL",
    "outputId": "30a55413-62fa-494d-a39d-2002882efeb4"
   },
   "outputs": [
    {
     "data": {
      "text/plain": [
       "9"
      ]
     },
     "execution_count": 53,
     "metadata": {},
     "output_type": "execute_result"
    }
   ],
   "source": [
    "rf.n_features_"
   ]
  },
  {
   "cell_type": "code",
   "execution_count": 54,
   "metadata": {
    "colab": {
     "base_uri": "https://localhost:8080/",
     "height": 35
    },
    "colab_type": "code",
    "id": "e5hr0WvZgyFh",
    "outputId": "8d065ad6-25d5-4bfe-a2eb-585b228e7133"
   },
   "outputs": [
    {
     "data": {
      "text/plain": [
       "1"
      ]
     },
     "execution_count": 54,
     "metadata": {},
     "output_type": "execute_result"
    }
   ],
   "source": [
    "rf.n_outputs_"
   ]
  },
  {
   "cell_type": "code",
   "execution_count": 55,
   "metadata": {
    "colab": {
     "base_uri": "https://localhost:8080/",
     "height": 356
    },
    "colab_type": "code",
    "id": "qXcDmL8kg0fj",
    "outputId": "7ac74696-0725-44aa-c0c1-7667b6188929"
   },
   "outputs": [
    {
     "data": {
      "text/html": [
       "<div>\n",
       "<style scoped>\n",
       "    .dataframe tbody tr th:only-of-type {\n",
       "        vertical-align: middle;\n",
       "    }\n",
       "\n",
       "    .dataframe tbody tr th {\n",
       "        vertical-align: top;\n",
       "    }\n",
       "\n",
       "    .dataframe thead th {\n",
       "        text-align: right;\n",
       "    }\n",
       "</style>\n",
       "<table border=\"1\" class=\"dataframe\">\n",
       "  <thead>\n",
       "    <tr style=\"text-align: right;\">\n",
       "      <th></th>\n",
       "      <th>True</th>\n",
       "      <th>Prediction</th>\n",
       "    </tr>\n",
       "  </thead>\n",
       "  <tbody>\n",
       "    <tr>\n",
       "      <th>0</th>\n",
       "      <td>3886.0</td>\n",
       "      <td>7104.748141</td>\n",
       "    </tr>\n",
       "    <tr>\n",
       "      <th>1</th>\n",
       "      <td>12148.0</td>\n",
       "      <td>12656.287740</td>\n",
       "    </tr>\n",
       "    <tr>\n",
       "      <th>2</th>\n",
       "      <td>8054.0</td>\n",
       "      <td>7680.370339</td>\n",
       "    </tr>\n",
       "    <tr>\n",
       "      <th>3</th>\n",
       "      <td>4000.0</td>\n",
       "      <td>11840.541076</td>\n",
       "    </tr>\n",
       "    <tr>\n",
       "      <th>4</th>\n",
       "      <td>13701.0</td>\n",
       "      <td>11066.448157</td>\n",
       "    </tr>\n",
       "    <tr>\n",
       "      <th>5</th>\n",
       "      <td>15891.0</td>\n",
       "      <td>15906.771882</td>\n",
       "    </tr>\n",
       "    <tr>\n",
       "      <th>6</th>\n",
       "      <td>11416.0</td>\n",
       "      <td>12437.575327</td>\n",
       "    </tr>\n",
       "    <tr>\n",
       "      <th>7</th>\n",
       "      <td>8021.0</td>\n",
       "      <td>7877.125252</td>\n",
       "    </tr>\n",
       "    <tr>\n",
       "      <th>8</th>\n",
       "      <td>4609.0</td>\n",
       "      <td>4840.854822</td>\n",
       "    </tr>\n",
       "    <tr>\n",
       "      <th>9</th>\n",
       "      <td>11637.0</td>\n",
       "      <td>12628.894689</td>\n",
       "    </tr>\n",
       "  </tbody>\n",
       "</table>\n",
       "</div>"
      ],
      "text/plain": [
       "      True    Prediction\n",
       "0   3886.0   7104.748141\n",
       "1  12148.0  12656.287740\n",
       "2   8054.0   7680.370339\n",
       "3   4000.0  11840.541076\n",
       "4  13701.0  11066.448157\n",
       "5  15891.0  15906.771882\n",
       "6  11416.0  12437.575327\n",
       "7   8021.0   7877.125252\n",
       "8   4609.0   4840.854822\n",
       "9  11637.0  12628.894689"
      ]
     },
     "execution_count": 55,
     "metadata": {},
     "output_type": "execute_result"
    }
   ],
   "source": [
    "pd.DataFrame(data = np.transpose([y_train[:10], rf.predict(X_train[:10])]), columns = ['True','Prediction'])"
   ]
  },
  {
   "cell_type": "code",
   "execution_count": null,
   "metadata": {
    "colab": {},
    "colab_type": "code",
    "id": "tkDNOiHwg28E"
   },
   "outputs": [],
   "source": []
  },
  {
   "cell_type": "markdown",
   "metadata": {
    "colab_type": "text",
    "id": "UvbNCuy9rCyc"
   },
   "source": [
    "#### IS THIS A GOOD SCORE? WHAT OTHER METRICS ARE AVAILABLE?\n",
    "* Let's plot the predicted against actual values\n",
    "* Then plot both the predicted and actual values on the same plot\n",
    "* We will need to use a subset of the data to make the plots clearer"
   ]
  },
  {
   "cell_type": "code",
   "execution_count": 56,
   "metadata": {
    "colab": {},
    "colab_type": "code",
    "id": "LJysg4Vy_4M7"
   },
   "outputs": [],
   "source": [
    "# lets trim the data points\n",
    "\n",
    "end_value = 1000\n",
    "\n",
    "# the x test data points (known)\n",
    "y_short = y_test[0:end_value]\n",
    "\n",
    "# the first x predictions using LR\n",
    "lr_short = predict_lr[0:end_value]\n",
    "\n",
    "# the first x prediction using RF\n",
    "rf_short = predict_rf[0:end_value]"
   ]
  },
  {
   "cell_type": "markdown",
   "metadata": {
    "colab_type": "text",
    "id": "vvO5H08fE98n"
   },
   "source": [
    "##### Linear Regression"
   ]
  },
  {
   "cell_type": "code",
   "execution_count": 57,
   "metadata": {
    "colab": {
     "base_uri": "https://localhost:8080/",
     "height": 512
    },
    "colab_type": "code",
    "id": "cnq68h_PrRvH",
    "outputId": "5d4de027-46a2-4791-b72e-4ceeb4853804"
   },
   "outputs": [],
   "source": [
    "# lets plot the predicted results against the actual for linear regression \n",
    "import matplotlib.pyplot as plt\n",
    "\n",
    "fig, (ax1, ax2) = plt.subplots(1, 2, figsize=(15,8))\n",
    "\n",
    "ax1.set_title(\"Actual vs Predicted for Linear Regression Model\")\n",
    "ax1.scatter(y_short, lr_short, edgecolors=(0, 0, 0))\n",
    "ax1.plot([y_short.min(), y_short.max()], [y_short.min(), y_short.max()], 'k--', lw=4)\n",
    "ax1.set_xlabel('Actual')\n",
    "ax1.set_ylabel('Predicted')\n",
    "\n",
    "ax2.set_title('Actual and Predicted Values for Linear Regression Model')\n",
    "ax2.scatter(np.arange(0,len(y_short)),y_short, s=10, c='b', marker=\"s\", label='actual')\n",
    "ax2.scatter(np.arange(0,len(y_short)),lr_short, s=10, c='y', marker=\"s\", label='predicted')\n",
    "ax2.legend(loc='upper left');\n",
    "#plt.show()"
   ]
  },
  {
   "cell_type": "markdown",
   "metadata": {
    "colab_type": "text",
    "id": "X5S1vrKhFHeh"
   },
   "source": [
    "##### Metrics:"
   ]
  },
  {
   "cell_type": "code",
   "execution_count": 58,
   "metadata": {
    "colab": {
     "base_uri": "https://localhost:8080/",
     "height": 88
    },
    "colab_type": "code",
    "id": "uE0cF-5DJuit",
    "outputId": "791db9fd-9f30-4ab7-ed5a-004e3aa57df3"
   },
   "outputs": [
    {
     "name": "stdout",
     "output_type": "stream",
     "text": [
      "With sklearn...\n",
      "MSE:  21706981.948881987\n",
      "RMSE:  4659.075224642975\n",
      "MAE:  3560.956711904004\n"
     ]
    }
   ],
   "source": [
    "print('With sklearn...')\n",
    "mse_lr_short = metrics.mean_squared_error(y_short,lr_short)\n",
    "rmse_lr_short = np.sqrt(metrics.mean_squared_error(y_short,lr_short))\n",
    "mae_lr_short = metrics.mean_absolute_error(y_short,lr_short)\n",
    "\n",
    "print('MSE: ', mse_lr_short)\n",
    "print('RMSE: ', rmse_lr_short)\n",
    "print('MAE: ', mae_lr_short)"
   ]
  },
  {
   "cell_type": "code",
   "execution_count": 59,
   "metadata": {
    "colab": {
     "base_uri": "https://localhost:8080/",
     "height": 88
    },
    "colab_type": "code",
    "id": "6sOPaJSREfr1",
    "outputId": "ba07c491-0234-42e8-8ab8-af8b7a7e1c86"
   },
   "outputs": [
    {
     "name": "stdout",
     "output_type": "stream",
     "text": [
      "By hand...\n",
      "MSE:  21706981.948881987\n",
      "RMSE:  4659.075224642975\n",
      "MAE:  3560.956711904004\n"
     ]
    }
   ],
   "source": [
    "print('By hand...')\n",
    "print('MSE: ', np.sum(np.square(np.abs(y_short - lr_short)))/len(y_short))\n",
    "print('RMSE: ', np.sqrt(np.sum(np.square(np.abs(y_short - lr_short))/len(y_short))))\n",
    "print('MAE: ',np.sum(np.abs(y_short - lr_short))/len(y_short))"
   ]
  },
  {
   "cell_type": "markdown",
   "metadata": {
    "colab_type": "text",
    "id": "7NFXjEa5E6vS"
   },
   "source": [
    "##### Random Forest"
   ]
  },
  {
   "cell_type": "code",
   "execution_count": 60,
   "metadata": {
    "colab": {
     "base_uri": "https://localhost:8080/",
     "height": 512
    },
    "colab_type": "code",
    "id": "tuCrH_LQsZ79",
    "outputId": "894c1f41-36c0-41e2-eeec-083dcdd2f7da"
   },
   "outputs": [
    {
     "data": {
      "image/png": "[encoded data removed]",
      "text/plain": [
       "<Figure size 1080x576 with 2 Axes>"
      ]
     },
     "metadata": {
      "needs_background": "light"
     },
     "output_type": "display_data"
    }
   ],
   "source": [
    "# lets do it again for random forest \n",
    "\n",
    "fig, (ax1, ax2) = plt.subplots(1, 2, figsize=(15,8))\n",
    "\n",
    "ax1.set_title(\"Actual vs Predicted for Random Forest Model\")\n",
    "ax1.scatter(y_short, rf_short, edgecolors=(0, 0, 0))\n",
    "ax1.plot([y_short.min(), y_short.max()], [y_short.min(), y_short.max()], 'k--', lw=4)\n",
    "ax1.set_xlabel('Actual')\n",
    "ax1.set_ylabel('Predicted')\n",
    "\n",
    "ax2.set_title('Actual and Predicted Values for Random Forest Model')\n",
    "ax2.scatter(np.arange(0,len(y_short)),y_short, s=10, c='b', marker=\"s\", label='actual')\n",
    "ax2.scatter(np.arange(0,len(y_short)),rf_short, s=10, c='y', marker=\"s\", label='predicted')\n",
    "ax2.legend(loc='upper left');\n",
    "#plt.show()"
   ]
  },
  {
   "cell_type": "markdown",
   "metadata": {
    "colab_type": "text",
    "id": "M0m5U3pDPdyL"
   },
   "source": [
    "##### Metrics"
   ]
  },
  {
   "cell_type": "code",
   "execution_count": 61,
   "metadata": {
    "colab": {
     "base_uri": "https://localhost:8080/",
     "height": 88
    },
    "colab_type": "code",
    "id": "G67YGIrWL6Id",
    "outputId": "bdc0b3cc-e533-4a1e-a223-e0aa8228662e"
   },
   "outputs": [
    {
     "name": "stdout",
     "output_type": "stream",
     "text": [
      "With sklearn...\n",
      "MSE:  9365972.056643637\n",
      "RMSE:  3060.387566411097\n",
      "MAE:  2322.9031134083507\n"
     ]
    }
   ],
   "source": [
    "print('With sklearn...')\n",
    "mse_rf_short = metrics.mean_squared_error(y_short,rf_short)\n",
    "rmse_rf_short = np.sqrt(metrics.mean_squared_error(y_short,rf_short))\n",
    "mae_rf_short = metrics.mean_absolute_error(y_short,rf_short)\n",
    "\n",
    "print('MSE: ', mse_rf_short)\n",
    "print('RMSE: ', rmse_rf_short)\n",
    "print('MAE: ', mae_rf_short)"
   ]
  },
  {
   "cell_type": "code",
   "execution_count": 62,
   "metadata": {
    "colab": {
     "base_uri": "https://localhost:8080/",
     "height": 88
    },
    "colab_type": "code",
    "id": "tIfVzEcOI2jl",
    "outputId": "dfc672e2-94ff-4994-fcd1-a12d9cbe9495"
   },
   "outputs": [
    {
     "name": "stdout",
     "output_type": "stream",
     "text": [
      "By hand...\n",
      "MSE:  9365972.056643637\n",
      "RMSE:  3060.387566411097\n",
      "MAE:  2322.9031134083507\n"
     ]
    }
   ],
   "source": [
    "print('By hand...')\n",
    "print('MSE: ', np.sum(np.square(np.abs(y_short - rf_short)))/len(y_short))\n",
    "print('RMSE: ', np.sqrt(np.sum(np.square(np.abs(y_short - rf_short))/len(y_short))))\n",
    "print('MAE: ',np.sum(np.abs(y_short - rf_short))/len(y_short))"
   ]
  },
  {
   "cell_type": "markdown",
   "metadata": {
    "colab_type": "text",
    "id": "9oP1LAVLP_5y"
   },
   "source": [
    "##### MAE..."
   ]
  },
  {
   "cell_type": "code",
   "execution_count": 63,
   "metadata": {
    "colab": {
     "base_uri": "https://localhost:8080/",
     "height": 35
    },
    "colab_type": "code",
    "id": "QlukYkC6iTet",
    "outputId": "7423f46a-54d1-449a-a594-f2031658d68b"
   },
   "outputs": [
    {
     "data": {
      "text/plain": [
       "(1000,)"
      ]
     },
     "execution_count": 63,
     "metadata": {},
     "output_type": "execute_result"
    }
   ],
   "source": [
    "y_short.shape"
   ]
  },
  {
   "cell_type": "code",
   "execution_count": 64,
   "metadata": {
    "colab": {
     "base_uri": "https://localhost:8080/",
     "height": 123
    },
    "colab_type": "code",
    "id": "Y63cB-LaijFC",
    "outputId": "09ab489d-2f2c-4edc-abb3-aa0dfd06bcc0"
   },
   "outputs": [
    {
     "data": {
      "text/plain": [
       "84432     19142\n",
       "72724     15513\n",
       "197032     7802\n",
       "353704    15455\n",
       "91198      4492\n",
       "Name: Purchase, dtype: int64"
      ]
     },
     "execution_count": 64,
     "metadata": {},
     "output_type": "execute_result"
    }
   ],
   "source": [
    "y_short.head()"
   ]
  },
  {
   "cell_type": "code",
   "execution_count": 65,
   "metadata": {
    "colab": {
     "base_uri": "https://localhost:8080/",
     "height": 123
    },
    "colab_type": "code",
    "id": "262yoX0wiVbQ",
    "outputId": "1b006db0-a9da-4a31-86df-8b3465a59143"
   },
   "outputs": [
    {
     "data": {
      "text/plain": [
       "84432      5850.500000\n",
       "72724      1561.283524\n",
       "197032      492.199701\n",
       "353704     2190.088706\n",
       "91198    -10779.200265\n",
       "Name: Purchase, dtype: float64"
      ]
     },
     "execution_count": 65,
     "metadata": {},
     "output_type": "execute_result"
    }
   ],
   "source": [
    "(y_short - rf_short)[:5]"
   ]
  },
  {
   "cell_type": "code",
   "execution_count": 66,
   "metadata": {
    "colab": {
     "base_uri": "https://localhost:8080/",
     "height": 1114
    },
    "colab_type": "code",
    "id": "TT-9hhu7P_UA",
    "outputId": "ea5eec75-3fc4-4f1a-cd44-425f2be15994"
   },
   "outputs": [
    {
     "data": {
      "text/plain": [
       "84432      5850.500000\n",
       "72724      1561.283524\n",
       "197032      492.199701\n",
       "353704     2190.088706\n",
       "91198     10779.200265\n",
       "263977      629.323927\n",
       "340456     2986.719082\n",
       "24094      5103.377892\n",
       "157277      951.154634\n",
       "531759     3457.413814\n",
       "140977      190.554986\n",
       "414535     3659.934055\n",
       "504520     2918.443187\n",
       "197149     1224.630724\n",
       "241974     2549.734616\n",
       "532759     2659.130954\n",
       "490181     5869.649693\n",
       "261405     1305.093467\n",
       "345359      742.309459\n",
       "127565      170.835307\n",
       "396797     3181.580083\n",
       "220547     5606.115268\n",
       "361288     4625.177811\n",
       "217635     3632.897381\n",
       "397197     3300.677520\n",
       "153385     3327.524136\n",
       "380341     1824.980345\n",
       "401168     3072.907371\n",
       "325026     6669.192947\n",
       "436361      965.264849\n",
       "              ...     \n",
       "244506     2335.177281\n",
       "505624      763.449661\n",
       "156809     1080.033964\n",
       "155807     2064.138824\n",
       "509891     1942.776048\n",
       "291716      847.506279\n",
       "343422     2122.679149\n",
       "82263      2583.735731\n",
       "384741     8213.005965\n",
       "181802     3276.209948\n",
       "538914     1685.989116\n",
       "104799     1656.409044\n",
       "308722     1508.828954\n",
       "280526     8495.376066\n",
       "369086      425.218125\n",
       "400131     2420.105300\n",
       "274076      546.337700\n",
       "361575     2770.348302\n",
       "438511      755.448944\n",
       "219408     2146.612759\n",
       "243751     8508.025924\n",
       "182409     3958.011519\n",
       "282610     1325.098296\n",
       "8922       2310.546043\n",
       "2519         58.446868\n",
       "349436     3268.752259\n",
       "46400       534.550524\n",
       "315421     2530.893503\n",
       "471410      685.631432\n",
       "255123     2004.365059\n",
       "Name: Purchase, Length: 1000, dtype: float64"
      ]
     },
     "execution_count": 66,
     "metadata": {},
     "output_type": "execute_result"
    }
   ],
   "source": [
    "# with MAE, we get the absolute values of the error\n",
    "np.abs(y_short - rf_short)"
   ]
  },
  {
   "cell_type": "code",
   "execution_count": 67,
   "metadata": {
    "colab": {
     "base_uri": "https://localhost:8080/",
     "height": 35
    },
    "colab_type": "code",
    "id": "1Eg0p8nzRzqm",
    "outputId": "dbcdbe16-ad9b-4975-e7d6-d5b468dc8b26"
   },
   "outputs": [
    {
     "data": {
      "text/plain": [
       "2322903.113408351"
      ]
     },
     "execution_count": 67,
     "metadata": {},
     "output_type": "execute_result"
    }
   ],
   "source": [
    "# sum them up \n",
    "np.sum(np.abs(y_short - rf_short))"
   ]
  },
  {
   "cell_type": "code",
   "execution_count": 68,
   "metadata": {
    "colab": {
     "base_uri": "https://localhost:8080/",
     "height": 35
    },
    "colab_type": "code",
    "id": "OZHpx1HARz6w",
    "outputId": "c6e197c7-71d4-4e03-e6a8-cbfc874a32f2"
   },
   "outputs": [
    {
     "data": {
      "text/plain": [
       "2322.9031134083507"
      ]
     },
     "execution_count": 68,
     "metadata": {},
     "output_type": "execute_result"
    }
   ],
   "source": [
    "# then divide by the total number of predictions/actual values\n",
    "np.sum(np.abs(y_short - rf_short))/len(y_short)"
   ]
  },
  {
   "cell_type": "markdown",
   "metadata": {
    "colab_type": "text",
    "id": "alOIoHnbRuPQ"
   },
   "source": [
    "##### RMSE...."
   ]
  },
  {
   "cell_type": "code",
   "execution_count": 69,
   "metadata": {
    "colab": {
     "base_uri": "https://localhost:8080/",
     "height": 1114
    },
    "colab_type": "code",
    "id": "HuHmSN9hNCpg",
    "outputId": "7f8e333a-8e67-4592-9ef3-1cec944b0199"
   },
   "outputs": [
    {
     "data": {
      "text/plain": [
       "84432      5850.500000\n",
       "72724      1561.283524\n",
       "197032      492.199701\n",
       "353704     2190.088706\n",
       "91198     10779.200265\n",
       "263977      629.323927\n",
       "340456     2986.719082\n",
       "24094      5103.377892\n",
       "157277      951.154634\n",
       "531759     3457.413814\n",
       "140977      190.554986\n",
       "414535     3659.934055\n",
       "504520     2918.443187\n",
       "197149     1224.630724\n",
       "241974     2549.734616\n",
       "532759     2659.130954\n",
       "490181     5869.649693\n",
       "261405     1305.093467\n",
       "345359      742.309459\n",
       "127565      170.835307\n",
       "396797     3181.580083\n",
       "220547     5606.115268\n",
       "361288     4625.177811\n",
       "217635     3632.897381\n",
       "397197     3300.677520\n",
       "153385     3327.524136\n",
       "380341     1824.980345\n",
       "401168     3072.907371\n",
       "325026     6669.192947\n",
       "436361      965.264849\n",
       "              ...     \n",
       "244506     2335.177281\n",
       "505624      763.449661\n",
       "156809     1080.033964\n",
       "155807     2064.138824\n",
       "509891     1942.776048\n",
       "291716      847.506279\n",
       "343422     2122.679149\n",
       "82263      2583.735731\n",
       "384741     8213.005965\n",
       "181802     3276.209948\n",
       "538914     1685.989116\n",
       "104799     1656.409044\n",
       "308722     1508.828954\n",
       "280526     8495.376066\n",
       "369086      425.218125\n",
       "400131     2420.105300\n",
       "274076      546.337700\n",
       "361575     2770.348302\n",
       "438511      755.448944\n",
       "219408     2146.612759\n",
       "243751     8508.025924\n",
       "182409     3958.011519\n",
       "282610     1325.098296\n",
       "8922       2310.546043\n",
       "2519         58.446868\n",
       "349436     3268.752259\n",
       "46400       534.550524\n",
       "315421     2530.893503\n",
       "471410      685.631432\n",
       "255123     2004.365059\n",
       "Name: Purchase, Length: 1000, dtype: float64"
      ]
     },
     "execution_count": 69,
     "metadata": {},
     "output_type": "execute_result"
    }
   ],
   "source": [
    "# with RMSE, we get the absolute values of the error\n",
    "np.abs(y_short - rf_short)"
   ]
  },
  {
   "cell_type": "code",
   "execution_count": 70,
   "metadata": {
    "colab": {
     "base_uri": "https://localhost:8080/",
     "height": 1114
    },
    "colab_type": "code",
    "id": "MIOn6cOCRQhJ",
    "outputId": "e6bc59b4-290b-4372-89a0-7395073209a5"
   },
   "outputs": [
    {
     "data": {
      "text/plain": [
       "84432     3.422835e+07\n",
       "72724     2.437606e+06\n",
       "197032    2.422605e+05\n",
       "353704    4.796489e+06\n",
       "91198     1.161912e+08\n",
       "263977    3.960486e+05\n",
       "340456    8.920491e+06\n",
       "24094     2.604447e+07\n",
       "157277    9.046951e+05\n",
       "531759    1.195371e+07\n",
       "140977    3.631120e+04\n",
       "414535    1.339512e+07\n",
       "504520    8.517311e+06\n",
       "197149    1.499720e+06\n",
       "241974    6.501147e+06\n",
       "532759    7.070977e+06\n",
       "490181    3.445279e+07\n",
       "261405    1.703269e+06\n",
       "345359    5.510233e+05\n",
       "127565    2.918470e+04\n",
       "396797    1.012245e+07\n",
       "220547    3.142853e+07\n",
       "361288    2.139227e+07\n",
       "217635    1.319794e+07\n",
       "397197    1.089447e+07\n",
       "153385    1.107242e+07\n",
       "380341    3.330553e+06\n",
       "401168    9.442760e+06\n",
       "325026    4.447813e+07\n",
       "436361    9.317362e+05\n",
       "              ...     \n",
       "244506    5.453053e+06\n",
       "505624    5.828554e+05\n",
       "156809    1.166473e+06\n",
       "155807    4.260669e+06\n",
       "509891    3.774379e+06\n",
       "291716    7.182669e+05\n",
       "343422    4.505767e+06\n",
       "82263     6.675690e+06\n",
       "384741    6.745347e+07\n",
       "181802    1.073355e+07\n",
       "538914    2.842559e+06\n",
       "104799    2.743691e+06\n",
       "308722    2.276565e+06\n",
       "280526    7.217141e+07\n",
       "369086    1.808105e+05\n",
       "400131    5.856910e+06\n",
       "274076    2.984849e+05\n",
       "361575    7.674830e+06\n",
       "438511    5.707031e+05\n",
       "219408    4.607946e+06\n",
       "243751    7.238651e+07\n",
       "182409    1.566586e+07\n",
       "282610    1.755885e+06\n",
       "8922      5.338623e+06\n",
       "2519      3.416036e+03\n",
       "349436    1.068474e+07\n",
       "46400     2.857443e+05\n",
       "315421    6.405422e+06\n",
       "471410    4.700905e+05\n",
       "255123    4.017479e+06\n",
       "Name: Purchase, Length: 1000, dtype: float64"
      ]
     },
     "execution_count": 70,
     "metadata": {},
     "output_type": "execute_result"
    }
   ],
   "source": [
    "# then square them - giving even higher values to larger errors\n",
    "np.square(np.abs(y_short - rf_short))"
   ]
  },
  {
   "cell_type": "code",
   "execution_count": 71,
   "metadata": {
    "colab": {
     "base_uri": "https://localhost:8080/",
     "height": 35
    },
    "colab_type": "code",
    "id": "AGjK0IjKRQsY",
    "outputId": "2b685442-7972-4a78-da5c-8306985b431c"
   },
   "outputs": [
    {
     "data": {
      "text/plain": [
       "9365972056.643637"
      ]
     },
     "execution_count": 71,
     "metadata": {},
     "output_type": "execute_result"
    }
   ],
   "source": [
    "# then sum them\n",
    "np.sum(np.square(np.abs(y_short - rf_short)))"
   ]
  },
  {
   "cell_type": "code",
   "execution_count": 72,
   "metadata": {
    "colab": {
     "base_uri": "https://localhost:8080/",
     "height": 35
    },
    "colab_type": "code",
    "id": "0US5NfeVRQpP",
    "outputId": "67b99e3a-9432-45c2-98aa-102cdf50e7ed"
   },
   "outputs": [
    {
     "data": {
      "text/plain": [
       "9365972.056643637"
      ]
     },
     "execution_count": 72,
     "metadata": {},
     "output_type": "execute_result"
    }
   ],
   "source": [
    "# then divided by them by the total number of predictions/actual values\n",
    "np.sum(np.square(np.abs(y_short - rf_short))/len(y_short))       "
   ]
  },
  {
   "cell_type": "code",
   "execution_count": 73,
   "metadata": {
    "colab": {
     "base_uri": "https://localhost:8080/",
     "height": 35
    },
    "colab_type": "code",
    "id": "XWkKR92GRQmT",
    "outputId": "333524fa-2d1d-4433-b628-46da05177434"
   },
   "outputs": [
    {
     "data": {
      "text/plain": [
       "3060.387566411097"
      ]
     },
     "execution_count": 73,
     "metadata": {},
     "output_type": "execute_result"
    }
   ],
   "source": [
    "# then take the square root of that value\n",
    "np.sqrt(np.sum(np.square(np.abs(y_short - rf_short))/len(y_short)))"
   ]
  },
  {
   "cell_type": "markdown",
   "metadata": {
    "colab_type": "text",
    "id": "txJcb6kRQqY2"
   },
   "source": [
    "#### 3.3 Build you own model"
   ]
  },
  {
   "cell_type": "markdown",
   "metadata": {
    "colab_type": "text",
    "id": "rpjYuvoGO07q"
   },
   "source": [
    "**EXERCISE 3.3:** Idenitfy another regressor model, instantiate it, fit it to the data, and use it to predict scores. If time, explore the parameters of the model, its attributes and methods.\n",
    "\n",
    "---\n",
    "\n",
    "**ANSWER:**\n",
    "*Use cell below for answer* "
   ]
  },
  {
   "cell_type": "code",
   "execution_count": 74,
   "metadata": {
    "colab": {},
    "colab_type": "code",
    "id": "gTHJaQhrRV-v"
   },
   "outputs": [],
   "source": [
    "# code here to build your own model\n",
    "\n",
    "# Using Lasso model\n",
    "from sklearn.linear_model import Lasso\n",
    "\n",
    "ls = Lasso(alpha=1)"
   ]
  },
  {
   "cell_type": "code",
   "execution_count": 75,
   "metadata": {
    "colab": {},
    "colab_type": "code",
    "id": "jBVZqcdA-oaV"
   },
   "outputs": [],
   "source": [
    "ls_fit = ls.fit(X_train, y_train)"
   ]
  },
  {
   "cell_type": "code",
   "execution_count": 76,
   "metadata": {
    "colab": {
     "base_uri": "https://localhost:8080/",
     "height": 35
    },
    "colab_type": "code",
    "id": "odNesZDR-1Ex",
    "outputId": "489e15e2-981b-49fb-c43e-241e619aadcc"
   },
   "outputs": [
    {
     "data": {
      "text/plain": [
       "0.15023063547526694"
      ]
     },
     "execution_count": 76,
     "metadata": {},
     "output_type": "execute_result"
    }
   ],
   "source": [
    "# Test score. Not a good score\n",
    "ls_fit.score(X_test, y_test)"
   ]
  },
  {
   "cell_type": "code",
   "execution_count": 77,
   "metadata": {
    "colab": {},
    "colab_type": "code",
    "id": "yU79yZ1t_Pzr"
   },
   "outputs": [],
   "source": [
    "ls_fit_y = ls_fit.predict(X_test)"
   ]
  },
  {
   "cell_type": "code",
   "execution_count": 78,
   "metadata": {
    "colab": {},
    "colab_type": "code",
    "id": "HVgXylIM_bvD"
   },
   "outputs": [],
   "source": [
    "msels = metrics.mean_squared_error(y_test, ls_fit_y)"
   ]
  },
  {
   "cell_type": "code",
   "execution_count": 79,
   "metadata": {
    "colab": {
     "base_uri": "https://localhost:8080/",
     "height": 35
    },
    "colab_type": "code",
    "id": "YMSCMpWD_Zpa",
    "outputId": "71e9452d-5b81-4e84-e6bb-6da291d5ab17"
   },
   "outputs": [
    {
     "data": {
      "text/plain": [
       "21416121.376658835"
      ]
     },
     "execution_count": 79,
     "metadata": {},
     "output_type": "execute_result"
    }
   ],
   "source": [
    "msels"
   ]
  },
  {
   "cell_type": "code",
   "execution_count": 80,
   "metadata": {
    "colab": {
     "base_uri": "https://localhost:8080/",
     "height": 35
    },
    "colab_type": "code",
    "id": "PiwcYVg8_ulj",
    "outputId": "a20de377-7b58-41f4-ddf0-1fb1ee61d0b1"
   },
   "outputs": [
    {
     "data": {
      "text/plain": [
       "4627.75554417677"
      ]
     },
     "execution_count": 80,
     "metadata": {},
     "output_type": "execute_result"
    }
   ],
   "source": [
    "rmsels = np.sqrt(msels)\n",
    "rmsels"
   ]
  },
  {
   "cell_type": "code",
   "execution_count": 81,
   "metadata": {
    "colab": {
     "base_uri": "https://localhost:8080/",
     "height": 70
    },
    "colab_type": "code",
    "id": "8-mKiaL0AMTG",
    "outputId": "9db4d72f-e225-482f-9a9c-0e784b860d58"
   },
   "outputs": [
    {
     "data": {
      "text/plain": [
       "array([[ 4.62047053e+02,  1.02036886e+02,  9.94684510e+01,\n",
       "         3.15929869e+02,  6.68213552e+00, -4.89260236e+01,\n",
       "        -6.98146244e+03,  2.33897700e+02,  2.57963083e+03]])"
      ]
     },
     "execution_count": 81,
     "metadata": {},
     "output_type": "execute_result"
    }
   ],
   "source": [
    "ls_fit.sparse_coef_.toarray()"
   ]
  },
  {
   "cell_type": "code",
   "execution_count": 82,
   "metadata": {
    "colab": {
     "base_uri": "https://localhost:8080/",
     "height": 70
    },
    "colab_type": "code",
    "id": "UHO7QUV3Aap4",
    "outputId": "6119775b-40d4-4cd5-ddaa-5f7dab6a9f49"
   },
   "outputs": [
    {
     "data": {
      "text/plain": [
       "array([ 4.62047053e+02,  1.02036886e+02,  9.94684510e+01,  3.15929869e+02,\n",
       "        6.68213552e+00, -4.89260236e+01, -6.98146244e+03,  2.33897700e+02,\n",
       "        2.57963083e+03])"
      ]
     },
     "execution_count": 82,
     "metadata": {},
     "output_type": "execute_result"
    }
   ],
   "source": [
    "ls_fit.coef_"
   ]
  },
  {
   "cell_type": "markdown",
   "metadata": {
    "colab_type": "text",
    "id": "6_lU-56oRpuy"
   },
   "source": [
    "### 4. Refine Model and Data\n",
    "**AIM:** \n",
    "* Understand how we can tune the parameters of a model\n",
    "* Understand that there are other options to split test and training data\n",
    "\n",
    "---\n",
    "**Hyperparameters**\n",
    "* We can refine our model by tuning the hyperparameters, some of which can have a big effect on the performance. Think of hyperparameters as parameters that are not learned through training by the model but set by us prior to training. \n",
    "* Tuning can be done 'by hand', or using a `GridSearch` function to test multiple parameters during the same operation\n",
    "\n",
    "**Cross-Validation Options**\n",
    "* We can also refine our model performance by looking at how we train our models. \n",
    "* Section *2.2* referred to other ways of splitting the dataset into test and training sets. `k-fold Cross-Validation` is one way of doing this, and you can find out more about it [here](https://sebastianraschka.com/blog/2016/model-evaluation-selection-part3.html)"
   ]
  },
  {
   "cell_type": "markdown",
   "metadata": {
    "colab_type": "text",
    "id": "ZrvV10V9STGE"
   },
   "source": [
    "#### 4.1 Hyperparameter tuning using Grid Search\n",
    "\n",
    "As a rule, increasing min or reducing max hyperparameters will regularize the model. The parameters tuned below are:\n",
    "* n_estimators: this controls the number of trees in the forest\n",
    "* criterion: this measures the quality of the split and can be either 'mae' or 'mse' \n",
    "* max_features: to test the maximum number of features that are evaluated for splitting at each node "
   ]
  },
  {
   "cell_type": "code",
   "execution_count": 83,
   "metadata": {
    "colab": {},
    "colab_type": "code",
    "id": "DQFmlwJgSeZM"
   },
   "outputs": [],
   "source": [
    "# create our random forest model\n",
    "rf_gs = RandomForestRegressor()\n",
    "\n",
    "# we need to specify the parameters we want to tune, as a dictionary \n",
    "parameters_rf = {'n_estimators': [10,50,100], 'criterion': ['mse','mae'], 'max_features': ['auto','sqrt','log2']}"
   ]
  },
  {
   "cell_type": "code",
   "execution_count": 84,
   "metadata": {
    "colab": {},
    "colab_type": "code",
    "id": "S8ZaxwtwUKSl"
   },
   "outputs": [],
   "source": [
    "# we need to define a scoring criteria for the gridsearch function, using the make_scorer function\n",
    "from sklearn.metrics import make_scorer\n",
    "\n",
    "# note our scoring function is MSE\n",
    "scorer = make_scorer(metrics.mean_squared_error)"
   ]
  },
  {
   "cell_type": "code",
   "execution_count": 85,
   "metadata": {
    "colab": {},
    "colab_type": "code",
    "id": "iu6u3kTrV2rP"
   },
   "outputs": [],
   "source": [
    "# import necessary library\n",
    "from sklearn.model_selection import GridSearchCV"
   ]
  },
  {
   "cell_type": "code",
   "execution_count": 86,
   "metadata": {
    "colab": {
     "base_uri": "https://localhost:8080/",
     "height": 211
    },
    "colab_type": "code",
    "id": "Se4R8svfDKqS",
    "outputId": "17607ceb-1006-4854-b9e6-e5a6c52e984c"
   },
   "outputs": [
    {
     "data": {
      "text/plain": [
       "GridSearchCV(cv=5, error_score='raise-deprecating',\n",
       "       estimator=RandomForestRegressor(bootstrap=True, criterion='mse', max_depth=None,\n",
       "           max_features='auto', max_leaf_nodes=None,\n",
       "           min_impurity_decrease=0.0, min_impurity_split=None,\n",
       "           min_samples_leaf=1, min_samples_split=2,\n",
       "           min_weight_fraction_leaf=0.0, n_estimators='warn', n_jobs=None,\n",
       "           oob_score=False, random_state=None, verbose=0, warm_start=False),\n",
       "       fit_params=None, iid='warn', n_jobs=2,\n",
       "       param_grid={'criterion': ['mse', 'mae'], 'n_estimators': [10, 50, 100], 'max_features': ['auto', 'sqrt', 'log2']},\n",
       "       pre_dispatch='2*n_jobs', refit=True, return_train_score='warn',\n",
       "       scoring=make_scorer(mean_squared_error), verbose=0)"
      ]
     },
     "execution_count": 86,
     "metadata": {},
     "output_type": "execute_result"
    }
   ],
   "source": [
    "# we create our gridsearch object. using LOOCV \n",
    "grid_obj = GridSearchCV(rf_gs, parameters_rf, scoring=scorer, n_jobs=2, cv=5)\n",
    "grid_obj"
   ]
  },
  {
   "cell_type": "code",
   "execution_count": 87,
   "metadata": {
    "colab": {},
    "colab_type": "code",
    "id": "mXN5-P7Kc397"
   },
   "outputs": [],
   "source": [
    "# create a subset of the data to do the grid searc\n",
    "X_train_gs = X_train[:10000]\n",
    "y_train_gs = y_train[:10000]"
   ]
  },
  {
   "cell_type": "code",
   "execution_count": 88,
   "metadata": {
    "colab": {},
    "colab_type": "code",
    "id": "NIkMkluZUKX1"
   },
   "outputs": [],
   "source": [
    "# fit the gridsearch object to our datatset\n",
    "grid_fit = grid_obj.fit(X_train_gs, y_train_gs)"
   ]
  },
  {
   "cell_type": "code",
   "execution_count": 89,
   "metadata": {
    "colab": {
     "base_uri": "https://localhost:8080/",
     "height": 4132
    },
    "colab_type": "code",
    "id": "oNA1mmO1YtB9",
    "outputId": "bf5f2f93-9175-43fe-f413-2fa1c13c5a62"
   },
   "outputs": [
    {
     "name": "stdout",
     "output_type": "stream",
     "text": [
      "GridSearch on Random Forest Model:\n"
     ]
    },
    {
     "name": "stderr",
     "output_type": "stream",
     "text": [
      "/home/sameer/anaconda3/lib/python3.5/site-packages/sklearn/utils/deprecation.py:125: FutureWarning: You are accessing a training score ('mean_train_score'), which will not be available by default any more in 0.21. If you need training scores, please set return_train_score=True\n",
      "  warnings.warn(*warn_args, **warn_kwargs)\n",
      "/home/sameer/anaconda3/lib/python3.5/site-packages/sklearn/utils/deprecation.py:125: FutureWarning: You are accessing a training score ('split0_train_score'), which will not be available by default any more in 0.21. If you need training scores, please set return_train_score=True\n",
      "  warnings.warn(*warn_args, **warn_kwargs)\n",
      "/home/sameer/anaconda3/lib/python3.5/site-packages/sklearn/utils/deprecation.py:125: FutureWarning: You are accessing a training score ('split1_train_score'), which will not be available by default any more in 0.21. If you need training scores, please set return_train_score=True\n",
      "  warnings.warn(*warn_args, **warn_kwargs)\n",
      "/home/sameer/anaconda3/lib/python3.5/site-packages/sklearn/utils/deprecation.py:125: FutureWarning: You are accessing a training score ('split2_train_score'), which will not be available by default any more in 0.21. If you need training scores, please set return_train_score=True\n",
      "  warnings.warn(*warn_args, **warn_kwargs)\n",
      "/home/sameer/anaconda3/lib/python3.5/site-packages/sklearn/utils/deprecation.py:125: FutureWarning: You are accessing a training score ('split3_train_score'), which will not be available by default any more in 0.21. If you need training scores, please set return_train_score=True\n",
      "  warnings.warn(*warn_args, **warn_kwargs)\n",
      "/home/sameer/anaconda3/lib/python3.5/site-packages/sklearn/utils/deprecation.py:125: FutureWarning: You are accessing a training score ('split4_train_score'), which will not be available by default any more in 0.21. If you need training scores, please set return_train_score=True\n",
      "  warnings.warn(*warn_args, **warn_kwargs)\n",
      "/home/sameer/anaconda3/lib/python3.5/site-packages/sklearn/utils/deprecation.py:125: FutureWarning: You are accessing a training score ('std_train_score'), which will not be available by default any more in 0.21. If you need training scores, please set return_train_score=True\n",
      "  warnings.warn(*warn_args, **warn_kwargs)\n"
     ]
    },
    {
     "data": {
      "text/html": [
       "<div>\n",
       "<style scoped>\n",
       "    .dataframe tbody tr th:only-of-type {\n",
       "        vertical-align: middle;\n",
       "    }\n",
       "\n",
       "    .dataframe tbody tr th {\n",
       "        vertical-align: top;\n",
       "    }\n",
       "\n",
       "    .dataframe thead th {\n",
       "        text-align: right;\n",
       "    }\n",
       "</style>\n",
       "<table border=\"1\" class=\"dataframe\">\n",
       "  <thead>\n",
       "    <tr style=\"text-align: right;\">\n",
       "      <th></th>\n",
       "      <th>mean_fit_time</th>\n",
       "      <th>mean_score_time</th>\n",
       "      <th>mean_test_score</th>\n",
       "      <th>mean_train_score</th>\n",
       "      <th>param_criterion</th>\n",
       "      <th>param_max_features</th>\n",
       "      <th>param_n_estimators</th>\n",
       "      <th>params</th>\n",
       "      <th>rank_test_score</th>\n",
       "      <th>split0_test_score</th>\n",
       "      <th>...</th>\n",
       "      <th>split2_test_score</th>\n",
       "      <th>split2_train_score</th>\n",
       "      <th>split3_test_score</th>\n",
       "      <th>split3_train_score</th>\n",
       "      <th>split4_test_score</th>\n",
       "      <th>split4_train_score</th>\n",
       "      <th>std_fit_time</th>\n",
       "      <th>std_score_time</th>\n",
       "      <th>std_test_score</th>\n",
       "      <th>std_train_score</th>\n",
       "    </tr>\n",
       "  </thead>\n",
       "  <tbody>\n",
       "    <tr>\n",
       "      <th>0</th>\n",
       "      <td>0.109205</td>\n",
       "      <td>0.006048</td>\n",
       "      <td>1.062446e+07</td>\n",
       "      <td>2.323836e+06</td>\n",
       "      <td>mse</td>\n",
       "      <td>auto</td>\n",
       "      <td>10</td>\n",
       "      <td>{'criterion': 'mse', 'n_estimators': 10, 'max_...</td>\n",
       "      <td>9</td>\n",
       "      <td>1.051614e+07</td>\n",
       "      <td>...</td>\n",
       "      <td>1.076299e+07</td>\n",
       "      <td>2.289886e+06</td>\n",
       "      <td>1.033850e+07</td>\n",
       "      <td>2.348088e+06</td>\n",
       "      <td>1.078753e+07</td>\n",
       "      <td>2.291033e+06</td>\n",
       "      <td>0.002722</td>\n",
       "      <td>0.000137</td>\n",
       "      <td>171976.745359</td>\n",
       "      <td>32344.458609</td>\n",
       "    </tr>\n",
       "    <tr>\n",
       "      <th>1</th>\n",
       "      <td>0.429957</td>\n",
       "      <td>0.027964</td>\n",
       "      <td>1.005898e+07</td>\n",
       "      <td>1.934816e+06</td>\n",
       "      <td>mse</td>\n",
       "      <td>auto</td>\n",
       "      <td>50</td>\n",
       "      <td>{'criterion': 'mse', 'n_estimators': 50, 'max_...</td>\n",
       "      <td>15</td>\n",
       "      <td>9.766214e+06</td>\n",
       "      <td>...</td>\n",
       "      <td>1.042923e+07</td>\n",
       "      <td>1.862063e+06</td>\n",
       "      <td>9.882250e+06</td>\n",
       "      <td>1.943825e+06</td>\n",
       "      <td>1.013494e+07</td>\n",
       "      <td>1.955100e+06</td>\n",
       "      <td>0.009842</td>\n",
       "      <td>0.004415</td>\n",
       "      <td>228185.486574</td>\n",
       "      <td>43388.024889</td>\n",
       "    </tr>\n",
       "    <tr>\n",
       "      <th>2</th>\n",
       "      <td>0.823485</td>\n",
       "      <td>0.059817</td>\n",
       "      <td>1.005791e+07</td>\n",
       "      <td>1.878972e+06</td>\n",
       "      <td>mse</td>\n",
       "      <td>auto</td>\n",
       "      <td>100</td>\n",
       "      <td>{'criterion': 'mse', 'n_estimators': 100, 'max...</td>\n",
       "      <td>16</td>\n",
       "      <td>9.840488e+06</td>\n",
       "      <td>...</td>\n",
       "      <td>1.035848e+07</td>\n",
       "      <td>1.822930e+06</td>\n",
       "      <td>9.849703e+06</td>\n",
       "      <td>1.880908e+06</td>\n",
       "      <td>1.008882e+07</td>\n",
       "      <td>1.902220e+06</td>\n",
       "      <td>0.134707</td>\n",
       "      <td>0.011528</td>\n",
       "      <td>195334.753465</td>\n",
       "      <td>37160.393887</td>\n",
       "    </tr>\n",
       "    <tr>\n",
       "      <th>3</th>\n",
       "      <td>0.121014</td>\n",
       "      <td>0.005896</td>\n",
       "      <td>1.177649e+07</td>\n",
       "      <td>2.555115e+06</td>\n",
       "      <td>mse</td>\n",
       "      <td>sqrt</td>\n",
       "      <td>10</td>\n",
       "      <td>{'criterion': 'mse', 'n_estimators': 10, 'max_...</td>\n",
       "      <td>1</td>\n",
       "      <td>1.188986e+07</td>\n",
       "      <td>...</td>\n",
       "      <td>1.210729e+07</td>\n",
       "      <td>2.492310e+06</td>\n",
       "      <td>1.133013e+07</td>\n",
       "      <td>2.578727e+06</td>\n",
       "      <td>1.202350e+07</td>\n",
       "      <td>2.598286e+06</td>\n",
       "      <td>0.010600</td>\n",
       "      <td>0.000188</td>\n",
       "      <td>297476.249840</td>\n",
       "      <td>57226.757989</td>\n",
       "    </tr>\n",
       "    <tr>\n",
       "      <th>4</th>\n",
       "      <td>0.225988</td>\n",
       "      <td>0.029732</td>\n",
       "      <td>1.091669e+07</td>\n",
       "      <td>2.031873e+06</td>\n",
       "      <td>mse</td>\n",
       "      <td>sqrt</td>\n",
       "      <td>50</td>\n",
       "      <td>{'criterion': 'mse', 'n_estimators': 50, 'max_...</td>\n",
       "      <td>5</td>\n",
       "      <td>1.089885e+07</td>\n",
       "      <td>...</td>\n",
       "      <td>1.151658e+07</td>\n",
       "      <td>1.991131e+06</td>\n",
       "      <td>1.033759e+07</td>\n",
       "      <td>2.038456e+06</td>\n",
       "      <td>1.078511e+07</td>\n",
       "      <td>2.060200e+06</td>\n",
       "      <td>0.004799</td>\n",
       "      <td>0.004769</td>\n",
       "      <td>381938.476338</td>\n",
       "      <td>32521.957810</td>\n",
       "    </tr>\n",
       "  </tbody>\n",
       "</table>\n",
       "<p>5 rows × 23 columns</p>\n",
       "</div>"
      ],
      "text/plain": [
       "   mean_fit_time  mean_score_time  mean_test_score  mean_train_score  \\\n",
       "0       0.109205         0.006048     1.062446e+07      2.323836e+06   \n",
       "1       0.429957         0.027964     1.005898e+07      1.934816e+06   \n",
       "2       0.823485         0.059817     1.005791e+07      1.878972e+06   \n",
       "3       0.121014         0.005896     1.177649e+07      2.555115e+06   \n",
       "4       0.225988         0.029732     1.091669e+07      2.031873e+06   \n",
       "\n",
       "  param_criterion param_max_features param_n_estimators  \\\n",
       "0             mse               auto                 10   \n",
       "1             mse               auto                 50   \n",
       "2             mse               auto                100   \n",
       "3             mse               sqrt                 10   \n",
       "4             mse               sqrt                 50   \n",
       "\n",
       "                                              params  rank_test_score  \\\n",
       "0  {'criterion': 'mse', 'n_estimators': 10, 'max_...                9   \n",
       "1  {'criterion': 'mse', 'n_estimators': 50, 'max_...               15   \n",
       "2  {'criterion': 'mse', 'n_estimators': 100, 'max...               16   \n",
       "3  {'criterion': 'mse', 'n_estimators': 10, 'max_...                1   \n",
       "4  {'criterion': 'mse', 'n_estimators': 50, 'max_...                5   \n",
       "\n",
       "   split0_test_score       ...         split2_test_score  split2_train_score  \\\n",
       "0       1.051614e+07       ...              1.076299e+07        2.289886e+06   \n",
       "1       9.766214e+06       ...              1.042923e+07        1.862063e+06   \n",
       "2       9.840488e+06       ...              1.035848e+07        1.822930e+06   \n",
       "3       1.188986e+07       ...              1.210729e+07        2.492310e+06   \n",
       "4       1.089885e+07       ...              1.151658e+07        1.991131e+06   \n",
       "\n",
       "   split3_test_score  split3_train_score  split4_test_score  \\\n",
       "0       1.033850e+07        2.348088e+06       1.078753e+07   \n",
       "1       9.882250e+06        1.943825e+06       1.013494e+07   \n",
       "2       9.849703e+06        1.880908e+06       1.008882e+07   \n",
       "3       1.133013e+07        2.578727e+06       1.202350e+07   \n",
       "4       1.033759e+07        2.038456e+06       1.078511e+07   \n",
       "\n",
       "   split4_train_score  std_fit_time  std_score_time  std_test_score  \\\n",
       "0        2.291033e+06      0.002722        0.000137   171976.745359   \n",
       "1        1.955100e+06      0.009842        0.004415   228185.486574   \n",
       "2        1.902220e+06      0.134707        0.011528   195334.753465   \n",
       "3        2.598286e+06      0.010600        0.000188   297476.249840   \n",
       "4        2.060200e+06      0.004799        0.004769   381938.476338   \n",
       "\n",
       "   std_train_score  \n",
       "0     32344.458609  \n",
       "1     43388.024889  \n",
       "2     37160.393887  \n",
       "3     57226.757989  \n",
       "4     32521.957810  \n",
       "\n",
       "[5 rows x 23 columns]"
      ]
     },
     "execution_count": 89,
     "metadata": {},
     "output_type": "execute_result"
    }
   ],
   "source": [
    "# look at the results:\n",
    "print(\"GridSearch on Random Forest Model:\")\n",
    "\n",
    "# get scores of parameters tested and display as a dataframe\n",
    "cv_results_df = pd.DataFrame(grid_fit.cv_results_) \n",
    "cv_results_df.head(5)"
   ]
  },
  {
   "cell_type": "code",
   "execution_count": 90,
   "metadata": {
    "colab": {
     "base_uri": "https://localhost:8080/",
     "height": 256
    },
    "colab_type": "code",
    "id": "meypF2BqYtU2",
    "outputId": "7b82b61a-59f4-4782-fbc6-7930a1658915"
   },
   "outputs": [
    {
     "name": "stdout",
     "output_type": "stream",
     "text": [
      "Scores of Parameters tested:\n",
      "\n"
     ]
    },
    {
     "data": {
      "text/html": [
       "<div>\n",
       "<style scoped>\n",
       "    .dataframe tbody tr th:only-of-type {\n",
       "        vertical-align: middle;\n",
       "    }\n",
       "\n",
       "    .dataframe tbody tr th {\n",
       "        vertical-align: top;\n",
       "    }\n",
       "\n",
       "    .dataframe thead th {\n",
       "        text-align: right;\n",
       "    }\n",
       "</style>\n",
       "<table border=\"1\" class=\"dataframe\">\n",
       "  <thead>\n",
       "    <tr style=\"text-align: right;\">\n",
       "      <th></th>\n",
       "      <th>params</th>\n",
       "      <th>rank_test_score</th>\n",
       "    </tr>\n",
       "  </thead>\n",
       "  <tbody>\n",
       "    <tr>\n",
       "      <th>0</th>\n",
       "      <td>{'criterion': 'mse', 'n_estimators': 10, 'max_...</td>\n",
       "      <td>9</td>\n",
       "    </tr>\n",
       "    <tr>\n",
       "      <th>1</th>\n",
       "      <td>{'criterion': 'mse', 'n_estimators': 50, 'max_...</td>\n",
       "      <td>15</td>\n",
       "    </tr>\n",
       "    <tr>\n",
       "      <th>2</th>\n",
       "      <td>{'criterion': 'mse', 'n_estimators': 100, 'max...</td>\n",
       "      <td>16</td>\n",
       "    </tr>\n",
       "    <tr>\n",
       "      <th>3</th>\n",
       "      <td>{'criterion': 'mse', 'n_estimators': 10, 'max_...</td>\n",
       "      <td>1</td>\n",
       "    </tr>\n",
       "    <tr>\n",
       "      <th>4</th>\n",
       "      <td>{'criterion': 'mse', 'n_estimators': 50, 'max_...</td>\n",
       "      <td>5</td>\n",
       "    </tr>\n",
       "    <tr>\n",
       "      <th>5</th>\n",
       "      <td>{'criterion': 'mse', 'n_estimators': 100, 'max...</td>\n",
       "      <td>7</td>\n",
       "    </tr>\n",
       "    <tr>\n",
       "      <th>6</th>\n",
       "      <td>{'criterion': 'mse', 'n_estimators': 10, 'max_...</td>\n",
       "      <td>2</td>\n",
       "    </tr>\n",
       "    <tr>\n",
       "      <th>7</th>\n",
       "      <td>{'criterion': 'mse', 'n_estimators': 50, 'max_...</td>\n",
       "      <td>6</td>\n",
       "    </tr>\n",
       "    <tr>\n",
       "      <th>8</th>\n",
       "      <td>{'criterion': 'mse', 'n_estimators': 100, 'max...</td>\n",
       "      <td>8</td>\n",
       "    </tr>\n",
       "    <tr>\n",
       "      <th>9</th>\n",
       "      <td>{'criterion': 'mae', 'n_estimators': 10, 'max_...</td>\n",
       "      <td>10</td>\n",
       "    </tr>\n",
       "    <tr>\n",
       "      <th>10</th>\n",
       "      <td>{'criterion': 'mae', 'n_estimators': 50, 'max_...</td>\n",
       "      <td>17</td>\n",
       "    </tr>\n",
       "    <tr>\n",
       "      <th>11</th>\n",
       "      <td>{'criterion': 'mae', 'n_estimators': 100, 'max...</td>\n",
       "      <td>18</td>\n",
       "    </tr>\n",
       "    <tr>\n",
       "      <th>12</th>\n",
       "      <td>{'criterion': 'mae', 'n_estimators': 10, 'max_...</td>\n",
       "      <td>3</td>\n",
       "    </tr>\n",
       "    <tr>\n",
       "      <th>13</th>\n",
       "      <td>{'criterion': 'mae', 'n_estimators': 50, 'max_...</td>\n",
       "      <td>12</td>\n",
       "    </tr>\n",
       "    <tr>\n",
       "      <th>14</th>\n",
       "      <td>{'criterion': 'mae', 'n_estimators': 100, 'max...</td>\n",
       "      <td>13</td>\n",
       "    </tr>\n",
       "    <tr>\n",
       "      <th>15</th>\n",
       "      <td>{'criterion': 'mae', 'n_estimators': 10, 'max_...</td>\n",
       "      <td>4</td>\n",
       "    </tr>\n",
       "    <tr>\n",
       "      <th>16</th>\n",
       "      <td>{'criterion': 'mae', 'n_estimators': 50, 'max_...</td>\n",
       "      <td>11</td>\n",
       "    </tr>\n",
       "    <tr>\n",
       "      <th>17</th>\n",
       "      <td>{'criterion': 'mae', 'n_estimators': 100, 'max...</td>\n",
       "      <td>14</td>\n",
       "    </tr>\n",
       "  </tbody>\n",
       "</table>\n",
       "</div>"
      ],
      "text/plain": [
       "                                               params  rank_test_score\n",
       "0   {'criterion': 'mse', 'n_estimators': 10, 'max_...                9\n",
       "1   {'criterion': 'mse', 'n_estimators': 50, 'max_...               15\n",
       "2   {'criterion': 'mse', 'n_estimators': 100, 'max...               16\n",
       "3   {'criterion': 'mse', 'n_estimators': 10, 'max_...                1\n",
       "4   {'criterion': 'mse', 'n_estimators': 50, 'max_...                5\n",
       "5   {'criterion': 'mse', 'n_estimators': 100, 'max...                7\n",
       "6   {'criterion': 'mse', 'n_estimators': 10, 'max_...                2\n",
       "7   {'criterion': 'mse', 'n_estimators': 50, 'max_...                6\n",
       "8   {'criterion': 'mse', 'n_estimators': 100, 'max...                8\n",
       "9   {'criterion': 'mae', 'n_estimators': 10, 'max_...               10\n",
       "10  {'criterion': 'mae', 'n_estimators': 50, 'max_...               17\n",
       "11  {'criterion': 'mae', 'n_estimators': 100, 'max...               18\n",
       "12  {'criterion': 'mae', 'n_estimators': 10, 'max_...                3\n",
       "13  {'criterion': 'mae', 'n_estimators': 50, 'max_...               12\n",
       "14  {'criterion': 'mae', 'n_estimators': 100, 'max...               13\n",
       "15  {'criterion': 'mae', 'n_estimators': 10, 'max_...                4\n",
       "16  {'criterion': 'mae', 'n_estimators': 50, 'max_...               11\n",
       "17  {'criterion': 'mae', 'n_estimators': 100, 'max...               14"
      ]
     },
     "metadata": {},
     "output_type": "display_data"
    }
   ],
   "source": [
    "print('Scores of Parameters tested:\\n') \n",
    "\n",
    "# get scores of parameters tested and display as a dataframe\n",
    "scores_df = pd.DataFrame(cv_results_df[['params', 'rank_test_score']]) \n",
    "display(scores_df)"
   ]
  },
  {
   "cell_type": "code",
   "execution_count": 91,
   "metadata": {},
   "outputs": [
    {
     "name": "stdout",
     "output_type": "stream",
     "text": [
      "params             {'criterion': 'mse', 'n_estimators': 10, 'max_...\n",
      "rank_test_score                                                    2\n",
      "Name: 6, dtype: object\n"
     ]
    }
   ],
   "source": [
    "print(scores_df.loc[6])"
   ]
  },
  {
   "cell_type": "code",
   "execution_count": 92,
   "metadata": {
    "colab": {
     "base_uri": "https://localhost:8080/",
     "height": 123
    },
    "colab_type": "code",
    "id": "vXph8I_TYtmX",
    "outputId": "891c6c99-2ad5-49a9-cc8e-9fb3737c6561"
   },
   "outputs": [
    {
     "data": {
      "text/plain": [
       "RandomForestRegressor(bootstrap=True, criterion='mse', max_depth=None,\n",
       "           max_features='sqrt', max_leaf_nodes=None,\n",
       "           min_impurity_decrease=0.0, min_impurity_split=None,\n",
       "           min_samples_leaf=1, min_samples_split=2,\n",
       "           min_weight_fraction_leaf=0.0, n_estimators=10, n_jobs=None,\n",
       "           oob_score=False, random_state=None, verbose=0, warm_start=False)"
      ]
     },
     "execution_count": 92,
     "metadata": {},
     "output_type": "execute_result"
    }
   ],
   "source": [
    "# Get the estimator, predictions and metric score from best model\n",
    "best_model = grid_fit.best_estimator_\n",
    "best_model"
   ]
  },
  {
   "cell_type": "code",
   "execution_count": 93,
   "metadata": {
    "colab": {},
    "colab_type": "code",
    "id": "XTmuHfj3vFgy"
   },
   "outputs": [],
   "source": [
    "# get predictions using the new model\n",
    "predictions_best = best_model.predict(X_test)"
   ]
  },
  {
   "cell_type": "code",
   "execution_count": 94,
   "metadata": {
    "colab": {
     "base_uri": "https://localhost:8080/",
     "height": 35
    },
    "colab_type": "code",
    "id": "ZJo-prOXZgot",
    "outputId": "e49193dc-d857-41df-bf9b-8855f621a452"
   },
   "outputs": [
    {
     "name": "stdout",
     "output_type": "stream",
     "text": [
      "RMSE score for RandomForestRegressor is: 3428.12\n"
     ]
    }
   ],
   "source": [
    "# get a score by comparing our predict against actual\n",
    "score_cv = np.sqrt(metrics.mean_squared_error(y_test,predictions_best))\n",
    "\n",
    "# print out the score \n",
    "print('RMSE score for {} is:'.format(best_model.__class__.__name__),np.round((score_cv), decimals=2))"
   ]
  },
  {
   "cell_type": "markdown",
   "metadata": {
    "colab_type": "text",
    "id": "mSfIWon-SjtZ"
   },
   "source": [
    "**EXERCISE 4.1:**  Apply grid search to model you built at **3.3**, remembering to amend the dictionary to match the parameters taken by your model\n",
    "\n",
    "\n",
    "\n",
    "---\n",
    "\n",
    "\n",
    "\n",
    "**ANSWER:**\n",
    "*Use code cell below*\n"
   ]
  },
  {
   "cell_type": "markdown",
   "metadata": {
    "colab_type": "text",
    "id": "37i05OPxV9GL"
   },
   "source": [
    "#### 4.2 Cross-Validation using K-Fold "
   ]
  },
  {
   "cell_type": "markdown",
   "metadata": {
    "colab_type": "text",
    "id": "LZ0UOPesOh-m"
   },
   "source": [
    "**EXERCISE 4.2 (OPTIONAL):** Look up K-Fold Cross-Validation and implement it on our dataset and run the best performing model to see if the score is improved. Take a look at [this](https://sebastianraschka.com/blog/2016/model-evaluation-selection-part3.html) article for more information.\n",
    "\n",
    "---\n",
    "\n",
    "**ANSWER:**\n",
    "\n",
    "\n"
   ]
  },
  {
   "cell_type": "markdown",
   "metadata": {
    "colab": {},
    "colab_type": "code",
    "id": "uOvIY-rCV9da"
   },
   "source": [
    "#### Using Lasso model and Grid Search with K-Fold Cross-Validation"
   ]
  },
  {
   "cell_type": "code",
   "execution_count": 95,
   "metadata": {},
   "outputs": [
    {
     "data": {
      "text/plain": [
       "{'alpha': [0.1, 1, 10, 100], 'positive': [True, False]}"
      ]
     },
     "execution_count": 95,
     "metadata": {},
     "output_type": "execute_result"
    }
   ],
   "source": [
    "alpha = [0.1,1,10,100]\n",
    "pos = [True, False]\n",
    "\n",
    "params = dict(alpha = alpha , positive = pos)\n",
    "params"
   ]
  },
  {
   "cell_type": "code",
   "execution_count": 96,
   "metadata": {},
   "outputs": [],
   "source": [
    "# Using multiple metrics\n",
    "from sklearn.metrics import r2_score, mean_squared_error\n",
    "scoring = {'R2': make_scorer(r2_score), 'MSE': make_scorer(mean_squared_error)}\n",
    "gridsearchCV_lasso = GridSearchCV(Lasso(), param_grid = params, cv = 5, n_jobs=2, \n",
    "                                  scoring = scoring, pre_dispatch = '1*n_jobs', \n",
    "                                 refit = 'MSE', return_train_score = True)"
   ]
  },
  {
   "cell_type": "code",
   "execution_count": 97,
   "metadata": {},
   "outputs": [
    {
     "data": {
      "text/plain": [
       "GridSearchCV(cv=5, error_score='raise-deprecating',\n",
       "       estimator=Lasso(alpha=1.0, copy_X=True, fit_intercept=True, max_iter=1000,\n",
       "   normalize=False, positive=False, precompute=False, random_state=None,\n",
       "   selection='cyclic', tol=0.0001, warm_start=False),\n",
       "       fit_params=None, iid='warn', n_jobs=2,\n",
       "       param_grid={'positive': [True, False], 'alpha': [0.1, 1, 10, 100]},\n",
       "       pre_dispatch='1*n_jobs', refit='MSE', return_train_score=True,\n",
       "       scoring={'R2': make_scorer(r2_score), 'MSE': make_scorer(mean_squared_error)},\n",
       "       verbose=0)"
      ]
     },
     "execution_count": 97,
     "metadata": {},
     "output_type": "execute_result"
    }
   ],
   "source": [
    "gridsearchCV_lasso.fit(X_train, y_train)"
   ]
  },
  {
   "cell_type": "code",
   "execution_count": 98,
   "metadata": {},
   "outputs": [
    {
     "data": {
      "text/plain": [
       "Lasso(alpha=100, copy_X=True, fit_intercept=True, max_iter=1000,\n",
       "   normalize=False, positive=True, precompute=False, random_state=None,\n",
       "   selection='cyclic', tol=0.0001, warm_start=False)"
      ]
     },
     "execution_count": 98,
     "metadata": {},
     "output_type": "execute_result"
    }
   ],
   "source": [
    "gridsearchCV_lasso.best_estimator_"
   ]
  },
  {
   "cell_type": "code",
   "execution_count": 99,
   "metadata": {},
   "outputs": [
    {
     "data": {
      "text/plain": [
       "{'alpha': 100,\n",
       " 'copy_X': True,\n",
       " 'fit_intercept': True,\n",
       " 'max_iter': 1000,\n",
       " 'normalize': False,\n",
       " 'positive': True,\n",
       " 'precompute': False,\n",
       " 'random_state': None,\n",
       " 'selection': 'cyclic',\n",
       " 'tol': 0.0001,\n",
       " 'warm_start': False}"
      ]
     },
     "execution_count": 99,
     "metadata": {},
     "output_type": "execute_result"
    }
   ],
   "source": [
    "gridsearchCV_lasso.best_estimator_.get_params()"
   ]
  },
  {
   "cell_type": "code",
   "execution_count": 100,
   "metadata": {},
   "outputs": [
    {
     "data": {
      "text/plain": [
       "Index(['mean_fit_time', 'mean_score_time', 'mean_test_MSE', 'mean_test_R2',\n",
       "       'mean_train_MSE', 'mean_train_R2', 'param_alpha', 'param_positive',\n",
       "       'params', 'rank_test_MSE', 'rank_test_R2', 'split0_test_MSE',\n",
       "       'split0_test_R2', 'split0_train_MSE', 'split0_train_R2',\n",
       "       'split1_test_MSE', 'split1_test_R2', 'split1_train_MSE',\n",
       "       'split1_train_R2', 'split2_test_MSE', 'split2_test_R2',\n",
       "       'split2_train_MSE', 'split2_train_R2', 'split3_test_MSE',\n",
       "       'split3_test_R2', 'split3_train_MSE', 'split3_train_R2',\n",
       "       'split4_test_MSE', 'split4_test_R2', 'split4_train_MSE',\n",
       "       'split4_train_R2', 'std_fit_time', 'std_score_time', 'std_test_MSE',\n",
       "       'std_test_R2', 'std_train_MSE', 'std_train_R2'],\n",
       "      dtype='object')"
      ]
     },
     "execution_count": 100,
     "metadata": {},
     "output_type": "execute_result"
    }
   ],
   "source": [
    "gsCV_df = pd.DataFrame(gridsearchCV_lasso.cv_results_)\n",
    "gsCV_df.columns"
   ]
  },
  {
   "cell_type": "code",
   "execution_count": 101,
   "metadata": {},
   "outputs": [
    {
     "data": {
      "text/html": [
       "<div>\n",
       "<style scoped>\n",
       "    .dataframe tbody tr th:only-of-type {\n",
       "        vertical-align: middle;\n",
       "    }\n",
       "\n",
       "    .dataframe tbody tr th {\n",
       "        vertical-align: top;\n",
       "    }\n",
       "\n",
       "    .dataframe thead th {\n",
       "        text-align: right;\n",
       "    }\n",
       "</style>\n",
       "<table border=\"1\" class=\"dataframe\">\n",
       "  <thead>\n",
       "    <tr style=\"text-align: right;\">\n",
       "      <th></th>\n",
       "      <th>mean_fit_time</th>\n",
       "      <th>mean_score_time</th>\n",
       "      <th>mean_test_MSE</th>\n",
       "      <th>mean_test_R2</th>\n",
       "      <th>mean_train_MSE</th>\n",
       "      <th>mean_train_R2</th>\n",
       "      <th>param_alpha</th>\n",
       "      <th>param_positive</th>\n",
       "      <th>params</th>\n",
       "      <th>rank_test_MSE</th>\n",
       "      <th>...</th>\n",
       "      <th>split4_test_MSE</th>\n",
       "      <th>split4_test_R2</th>\n",
       "      <th>split4_train_MSE</th>\n",
       "      <th>split4_train_R2</th>\n",
       "      <th>std_fit_time</th>\n",
       "      <th>std_score_time</th>\n",
       "      <th>std_test_MSE</th>\n",
       "      <th>std_test_R2</th>\n",
       "      <th>std_train_MSE</th>\n",
       "      <th>std_train_R2</th>\n",
       "    </tr>\n",
       "  </thead>\n",
       "  <tbody>\n",
       "    <tr>\n",
       "      <th>0</th>\n",
       "      <td>0.118069</td>\n",
       "      <td>0.010227</td>\n",
       "      <td>2.298713e+07</td>\n",
       "      <td>0.089381</td>\n",
       "      <td>2.298647e+07</td>\n",
       "      <td>0.089410</td>\n",
       "      <td>0.1</td>\n",
       "      <td>True</td>\n",
       "      <td>{'positive': True, 'alpha': 0.1}</td>\n",
       "      <td>4</td>\n",
       "      <td>...</td>\n",
       "      <td>2.325503e+07</td>\n",
       "      <td>0.087623</td>\n",
       "      <td>2.291954e+07</td>\n",
       "      <td>0.089850</td>\n",
       "      <td>0.038790</td>\n",
       "      <td>0.001325</td>\n",
       "      <td>167551.317043</td>\n",
       "      <td>0.001049</td>\n",
       "      <td>41869.707822</td>\n",
       "      <td>0.000263</td>\n",
       "    </tr>\n",
       "    <tr>\n",
       "      <th>1</th>\n",
       "      <td>0.126568</td>\n",
       "      <td>0.009418</td>\n",
       "      <td>2.138113e+07</td>\n",
       "      <td>0.153006</td>\n",
       "      <td>2.138035e+07</td>\n",
       "      <td>0.153035</td>\n",
       "      <td>0.1</td>\n",
       "      <td>False</td>\n",
       "      <td>{'positive': False, 'alpha': 0.1}</td>\n",
       "      <td>8</td>\n",
       "      <td>...</td>\n",
       "      <td>2.165192e+07</td>\n",
       "      <td>0.150519</td>\n",
       "      <td>2.131268e+07</td>\n",
       "      <td>0.153659</td>\n",
       "      <td>0.008041</td>\n",
       "      <td>0.002180</td>\n",
       "      <td>175306.885879</td>\n",
       "      <td>0.001862</td>\n",
       "      <td>43829.226516</td>\n",
       "      <td>0.000467</td>\n",
       "    </tr>\n",
       "    <tr>\n",
       "      <th>2</th>\n",
       "      <td>0.109099</td>\n",
       "      <td>0.011783</td>\n",
       "      <td>2.298716e+07</td>\n",
       "      <td>0.089379</td>\n",
       "      <td>2.298650e+07</td>\n",
       "      <td>0.089409</td>\n",
       "      <td>1</td>\n",
       "      <td>True</td>\n",
       "      <td>{'positive': True, 'alpha': 1}</td>\n",
       "      <td>3</td>\n",
       "      <td>...</td>\n",
       "      <td>2.325516e+07</td>\n",
       "      <td>0.087618</td>\n",
       "      <td>2.291957e+07</td>\n",
       "      <td>0.089849</td>\n",
       "      <td>0.008082</td>\n",
       "      <td>0.003022</td>\n",
       "      <td>167602.556209</td>\n",
       "      <td>0.001049</td>\n",
       "      <td>41869.706085</td>\n",
       "      <td>0.000263</td>\n",
       "    </tr>\n",
       "    <tr>\n",
       "      <th>3</th>\n",
       "      <td>0.130284</td>\n",
       "      <td>0.010409</td>\n",
       "      <td>2.138118e+07</td>\n",
       "      <td>0.153004</td>\n",
       "      <td>2.138041e+07</td>\n",
       "      <td>0.153033</td>\n",
       "      <td>1</td>\n",
       "      <td>False</td>\n",
       "      <td>{'positive': False, 'alpha': 1}</td>\n",
       "      <td>7</td>\n",
       "      <td>...</td>\n",
       "      <td>2.165207e+07</td>\n",
       "      <td>0.150513</td>\n",
       "      <td>2.131273e+07</td>\n",
       "      <td>0.153657</td>\n",
       "      <td>0.014083</td>\n",
       "      <td>0.002800</td>\n",
       "      <td>175316.483625</td>\n",
       "      <td>0.001859</td>\n",
       "      <td>43829.224749</td>\n",
       "      <td>0.000467</td>\n",
       "    </tr>\n",
       "    <tr>\n",
       "      <th>4</th>\n",
       "      <td>0.097635</td>\n",
       "      <td>0.010068</td>\n",
       "      <td>2.299008e+07</td>\n",
       "      <td>0.089264</td>\n",
       "      <td>2.298944e+07</td>\n",
       "      <td>0.089292</td>\n",
       "      <td>10</td>\n",
       "      <td>True</td>\n",
       "      <td>{'positive': True, 'alpha': 10}</td>\n",
       "      <td>2</td>\n",
       "      <td>...</td>\n",
       "      <td>2.325903e+07</td>\n",
       "      <td>0.087466</td>\n",
       "      <td>2.292250e+07</td>\n",
       "      <td>0.089732</td>\n",
       "      <td>0.016814</td>\n",
       "      <td>0.002113</td>\n",
       "      <td>168098.199012</td>\n",
       "      <td>0.001052</td>\n",
       "      <td>41873.006749</td>\n",
       "      <td>0.000263</td>\n",
       "    </tr>\n",
       "    <tr>\n",
       "      <th>5</th>\n",
       "      <td>0.132812</td>\n",
       "      <td>0.011948</td>\n",
       "      <td>2.138628e+07</td>\n",
       "      <td>0.152802</td>\n",
       "      <td>2.138556e+07</td>\n",
       "      <td>0.152829</td>\n",
       "      <td>10</td>\n",
       "      <td>False</td>\n",
       "      <td>{'positive': False, 'alpha': 10}</td>\n",
       "      <td>6</td>\n",
       "      <td>...</td>\n",
       "      <td>2.165812e+07</td>\n",
       "      <td>0.150276</td>\n",
       "      <td>2.131790e+07</td>\n",
       "      <td>0.153452</td>\n",
       "      <td>0.011856</td>\n",
       "      <td>0.002805</td>\n",
       "      <td>175427.690283</td>\n",
       "      <td>0.001831</td>\n",
       "      <td>43810.929878</td>\n",
       "      <td>0.000465</td>\n",
       "    </tr>\n",
       "    <tr>\n",
       "      <th>6</th>\n",
       "      <td>0.084774</td>\n",
       "      <td>0.009071</td>\n",
       "      <td>2.315534e+07</td>\n",
       "      <td>0.082717</td>\n",
       "      <td>2.315500e+07</td>\n",
       "      <td>0.082734</td>\n",
       "      <td>100</td>\n",
       "      <td>True</td>\n",
       "      <td>{'positive': True, 'alpha': 100}</td>\n",
       "      <td>1</td>\n",
       "      <td>...</td>\n",
       "      <td>2.342539e+07</td>\n",
       "      <td>0.080939</td>\n",
       "      <td>2.308790e+07</td>\n",
       "      <td>0.083164</td>\n",
       "      <td>0.012462</td>\n",
       "      <td>0.002389</td>\n",
       "      <td>169172.200875</td>\n",
       "      <td>0.001002</td>\n",
       "      <td>41709.630907</td>\n",
       "      <td>0.000253</td>\n",
       "    </tr>\n",
       "    <tr>\n",
       "      <th>7</th>\n",
       "      <td>0.105808</td>\n",
       "      <td>0.009123</td>\n",
       "      <td>2.172224e+07</td>\n",
       "      <td>0.139492</td>\n",
       "      <td>2.172189e+07</td>\n",
       "      <td>0.139505</td>\n",
       "      <td>100</td>\n",
       "      <td>False</td>\n",
       "      <td>{'positive': False, 'alpha': 100}</td>\n",
       "      <td>5</td>\n",
       "      <td>...</td>\n",
       "      <td>2.199200e+07</td>\n",
       "      <td>0.137176</td>\n",
       "      <td>2.165198e+07</td>\n",
       "      <td>0.140185</td>\n",
       "      <td>0.022238</td>\n",
       "      <td>0.002259</td>\n",
       "      <td>172187.120652</td>\n",
       "      <td>0.001503</td>\n",
       "      <td>44911.730404</td>\n",
       "      <td>0.000505</td>\n",
       "    </tr>\n",
       "  </tbody>\n",
       "</table>\n",
       "<p>8 rows × 37 columns</p>\n",
       "</div>"
      ],
      "text/plain": [
       "   mean_fit_time  mean_score_time  mean_test_MSE  mean_test_R2  \\\n",
       "0       0.118069         0.010227   2.298713e+07      0.089381   \n",
       "1       0.126568         0.009418   2.138113e+07      0.153006   \n",
       "2       0.109099         0.011783   2.298716e+07      0.089379   \n",
       "3       0.130284         0.010409   2.138118e+07      0.153004   \n",
       "4       0.097635         0.010068   2.299008e+07      0.089264   \n",
       "5       0.132812         0.011948   2.138628e+07      0.152802   \n",
       "6       0.084774         0.009071   2.315534e+07      0.082717   \n",
       "7       0.105808         0.009123   2.172224e+07      0.139492   \n",
       "\n",
       "   mean_train_MSE  mean_train_R2 param_alpha param_positive  \\\n",
       "0    2.298647e+07       0.089410         0.1           True   \n",
       "1    2.138035e+07       0.153035         0.1          False   \n",
       "2    2.298650e+07       0.089409           1           True   \n",
       "3    2.138041e+07       0.153033           1          False   \n",
       "4    2.298944e+07       0.089292          10           True   \n",
       "5    2.138556e+07       0.152829          10          False   \n",
       "6    2.315500e+07       0.082734         100           True   \n",
       "7    2.172189e+07       0.139505         100          False   \n",
       "\n",
       "                              params  rank_test_MSE      ...       \\\n",
       "0   {'positive': True, 'alpha': 0.1}              4      ...        \n",
       "1  {'positive': False, 'alpha': 0.1}              8      ...        \n",
       "2     {'positive': True, 'alpha': 1}              3      ...        \n",
       "3    {'positive': False, 'alpha': 1}              7      ...        \n",
       "4    {'positive': True, 'alpha': 10}              2      ...        \n",
       "5   {'positive': False, 'alpha': 10}              6      ...        \n",
       "6   {'positive': True, 'alpha': 100}              1      ...        \n",
       "7  {'positive': False, 'alpha': 100}              5      ...        \n",
       "\n",
       "   split4_test_MSE  split4_test_R2  split4_train_MSE  split4_train_R2  \\\n",
       "0     2.325503e+07        0.087623      2.291954e+07         0.089850   \n",
       "1     2.165192e+07        0.150519      2.131268e+07         0.153659   \n",
       "2     2.325516e+07        0.087618      2.291957e+07         0.089849   \n",
       "3     2.165207e+07        0.150513      2.131273e+07         0.153657   \n",
       "4     2.325903e+07        0.087466      2.292250e+07         0.089732   \n",
       "5     2.165812e+07        0.150276      2.131790e+07         0.153452   \n",
       "6     2.342539e+07        0.080939      2.308790e+07         0.083164   \n",
       "7     2.199200e+07        0.137176      2.165198e+07         0.140185   \n",
       "\n",
       "   std_fit_time  std_score_time   std_test_MSE  std_test_R2  std_train_MSE  \\\n",
       "0      0.038790        0.001325  167551.317043     0.001049   41869.707822   \n",
       "1      0.008041        0.002180  175306.885879     0.001862   43829.226516   \n",
       "2      0.008082        0.003022  167602.556209     0.001049   41869.706085   \n",
       "3      0.014083        0.002800  175316.483625     0.001859   43829.224749   \n",
       "4      0.016814        0.002113  168098.199012     0.001052   41873.006749   \n",
       "5      0.011856        0.002805  175427.690283     0.001831   43810.929878   \n",
       "6      0.012462        0.002389  169172.200875     0.001002   41709.630907   \n",
       "7      0.022238        0.002259  172187.120652     0.001503   44911.730404   \n",
       "\n",
       "   std_train_R2  \n",
       "0      0.000263  \n",
       "1      0.000467  \n",
       "2      0.000263  \n",
       "3      0.000467  \n",
       "4      0.000263  \n",
       "5      0.000465  \n",
       "6      0.000253  \n",
       "7      0.000505  \n",
       "\n",
       "[8 rows x 37 columns]"
      ]
     },
     "execution_count": 101,
     "metadata": {},
     "output_type": "execute_result"
    }
   ],
   "source": [
    "gsCV_df"
   ]
  },
  {
   "cell_type": "code",
   "execution_count": 102,
   "metadata": {},
   "outputs": [
    {
     "data": {
      "text/html": [
       "<div>\n",
       "<style scoped>\n",
       "    .dataframe tbody tr th:only-of-type {\n",
       "        vertical-align: middle;\n",
       "    }\n",
       "\n",
       "    .dataframe tbody tr th {\n",
       "        vertical-align: top;\n",
       "    }\n",
       "\n",
       "    .dataframe thead th {\n",
       "        text-align: right;\n",
       "    }\n",
       "</style>\n",
       "<table border=\"1\" class=\"dataframe\">\n",
       "  <thead>\n",
       "    <tr style=\"text-align: right;\">\n",
       "      <th></th>\n",
       "      <th>params</th>\n",
       "      <th>rank_test_MSE</th>\n",
       "      <th>rank_test_R2</th>\n",
       "    </tr>\n",
       "  </thead>\n",
       "  <tbody>\n",
       "    <tr>\n",
       "      <th>0</th>\n",
       "      <td>{'positive': True, 'alpha': 0.1}</td>\n",
       "      <td>4</td>\n",
       "      <td>5</td>\n",
       "    </tr>\n",
       "    <tr>\n",
       "      <th>1</th>\n",
       "      <td>{'positive': False, 'alpha': 0.1}</td>\n",
       "      <td>8</td>\n",
       "      <td>1</td>\n",
       "    </tr>\n",
       "    <tr>\n",
       "      <th>2</th>\n",
       "      <td>{'positive': True, 'alpha': 1}</td>\n",
       "      <td>3</td>\n",
       "      <td>6</td>\n",
       "    </tr>\n",
       "    <tr>\n",
       "      <th>3</th>\n",
       "      <td>{'positive': False, 'alpha': 1}</td>\n",
       "      <td>7</td>\n",
       "      <td>2</td>\n",
       "    </tr>\n",
       "    <tr>\n",
       "      <th>4</th>\n",
       "      <td>{'positive': True, 'alpha': 10}</td>\n",
       "      <td>2</td>\n",
       "      <td>7</td>\n",
       "    </tr>\n",
       "    <tr>\n",
       "      <th>5</th>\n",
       "      <td>{'positive': False, 'alpha': 10}</td>\n",
       "      <td>6</td>\n",
       "      <td>3</td>\n",
       "    </tr>\n",
       "    <tr>\n",
       "      <th>6</th>\n",
       "      <td>{'positive': True, 'alpha': 100}</td>\n",
       "      <td>1</td>\n",
       "      <td>8</td>\n",
       "    </tr>\n",
       "    <tr>\n",
       "      <th>7</th>\n",
       "      <td>{'positive': False, 'alpha': 100}</td>\n",
       "      <td>5</td>\n",
       "      <td>4</td>\n",
       "    </tr>\n",
       "  </tbody>\n",
       "</table>\n",
       "</div>"
      ],
      "text/plain": [
       "                              params  rank_test_MSE  rank_test_R2\n",
       "0   {'positive': True, 'alpha': 0.1}              4             5\n",
       "1  {'positive': False, 'alpha': 0.1}              8             1\n",
       "2     {'positive': True, 'alpha': 1}              3             6\n",
       "3    {'positive': False, 'alpha': 1}              7             2\n",
       "4    {'positive': True, 'alpha': 10}              2             7\n",
       "5   {'positive': False, 'alpha': 10}              6             3\n",
       "6   {'positive': True, 'alpha': 100}              1             8\n",
       "7  {'positive': False, 'alpha': 100}              5             4"
      ]
     },
     "execution_count": 102,
     "metadata": {},
     "output_type": "execute_result"
    }
   ],
   "source": [
    "gsCV_df[['params', 'rank_test_MSE', 'rank_test_R2']]\n",
    "# This shows that a good R2 doesn't necessary mean a good fit. MSE is a better metric."
   ]
  },
  {
   "cell_type": "code",
   "execution_count": 103,
   "metadata": {},
   "outputs": [],
   "source": [
    "best_lasso = Lasso()"
   ]
  },
  {
   "cell_type": "code",
   "execution_count": 104,
   "metadata": {},
   "outputs": [
    {
     "data": {
      "text/plain": [
       "Lasso(alpha=100, copy_X=True, fit_intercept=True, max_iter=1000,\n",
       "   normalize=False, positive=True, precompute=False, random_state=None,\n",
       "   selection='cyclic', tol=0.0001, warm_start=False)"
      ]
     },
     "execution_count": 104,
     "metadata": {},
     "output_type": "execute_result"
    }
   ],
   "source": [
    "# Setting the best estimator parameters of Grid Search as the parameters of a new Lasso object\n",
    "best_lasso.set_params(**gridsearchCV_lasso.best_estimator_.get_params())"
   ]
  },
  {
   "cell_type": "code",
   "execution_count": 105,
   "metadata": {},
   "outputs": [
    {
     "data": {
      "text/plain": [
       "{'alpha': 100,\n",
       " 'copy_X': True,\n",
       " 'fit_intercept': True,\n",
       " 'max_iter': 1000,\n",
       " 'normalize': False,\n",
       " 'positive': True,\n",
       " 'precompute': False,\n",
       " 'random_state': None,\n",
       " 'selection': 'cyclic',\n",
       " 'tol': 0.0001,\n",
       " 'warm_start': False}"
      ]
     },
     "execution_count": 105,
     "metadata": {},
     "output_type": "execute_result"
    }
   ],
   "source": [
    "best_lasso.get_params()"
   ]
  },
  {
   "cell_type": "code",
   "execution_count": 106,
   "metadata": {},
   "outputs": [],
   "source": [
    "lasso_fit = best_lasso.fit(X_train, y_train)"
   ]
  },
  {
   "cell_type": "code",
   "execution_count": 107,
   "metadata": {},
   "outputs": [
    {
     "data": {
      "text/plain": [
       "0.0822817110313614"
      ]
     },
     "execution_count": 107,
     "metadata": {},
     "output_type": "execute_result"
    }
   ],
   "source": [
    "# R2 score on test data\n",
    "lasso_fit.score(X_test, y_test)"
   ]
  },
  {
   "cell_type": "code",
   "execution_count": 108,
   "metadata": {},
   "outputs": [
    {
     "data": {
      "text/plain": [
       "23128588.86966852"
      ]
     },
     "execution_count": 108,
     "metadata": {},
     "output_type": "execute_result"
    }
   ],
   "source": [
    "# MSE of test data\n",
    "# Obviously Lasso is not a good model\n",
    "mean_squared_error(y_test, lasso_fit.predict(X_test))"
   ]
  },
  {
   "cell_type": "code",
   "execution_count": 109,
   "metadata": {},
   "outputs": [
    {
     "data": {
      "text/plain": [
       "23155031.47475021"
      ]
     },
     "execution_count": 109,
     "metadata": {},
     "output_type": "execute_result"
    }
   ],
   "source": [
    "# MSE of training data\n",
    "mean_squared_error(y_train, lasso_fit.predict(X_train))"
   ]
  },
  {
   "cell_type": "markdown",
   "metadata": {},
   "source": [
    "##### Nested Cross-Validation can be used to compare between different ML algorithms"
   ]
  },
  {
   "cell_type": "code",
   "execution_count": 110,
   "metadata": {},
   "outputs": [],
   "source": [
    "from sklearn.model_selection import cross_val_score"
   ]
  },
  {
   "cell_type": "code",
   "execution_count": 111,
   "metadata": {},
   "outputs": [],
   "source": [
    "scoring = {'R2': make_scorer(r2_score), 'MSE': make_scorer(mean_squared_error)}\n",
    "nestedCV_lasso = GridSearchCV(Lasso(), param_grid = params, cv = 2, n_jobs=2, \n",
    "                                  scoring = scoring, pre_dispatch = '1*n_jobs', \n",
    "                                 refit = 'MSE', return_train_score = True)\n",
    "\n",
    "\n",
    "\n",
    "scores = cross_val_score(nestedCV_lasso, X_train, y_train, \n",
    "                         scoring = make_scorer(mean_squared_error), cv = 5, \n",
    "                        n_jobs=1, pre_dispatch = '1*n_jobs')"
   ]
  },
  {
   "cell_type": "code",
   "execution_count": 112,
   "metadata": {},
   "outputs": [
    {
     "data": {
      "text/plain": [
       "array([22930262.40035845, 23240711.21763403, 23133327.36426387,\n",
       "       23047006.92068644, 23425390.69091681])"
      ]
     },
     "execution_count": 112,
     "metadata": {},
     "output_type": "execute_result"
    }
   ],
   "source": [
    "scores"
   ]
  },
  {
   "cell_type": "code",
   "execution_count": 113,
   "metadata": {},
   "outputs": [
    {
     "data": {
      "text/plain": [
       "23155339.718771916"
      ]
     },
     "execution_count": 113,
     "metadata": {},
     "output_type": "execute_result"
    }
   ],
   "source": [
    "# Comparable to the above best score from GridSearch\n",
    "scores.mean()"
   ]
  },
  {
   "cell_type": "code",
   "execution_count": null,
   "metadata": {},
   "outputs": [],
   "source": []
  },
  {
   "cell_type": "markdown",
   "metadata": {
    "colab_type": "text",
    "id": "bjNlPfjSS6EE"
   },
   "source": [
    "### 5. Wrapping up\n",
    "* We have covered: \n",
    "  * What Machine Learning is\n",
    "  * What approach to take to solving machine learning problems\n",
    "  * Loading and processing data\n",
    "  * Splitting data into traing and testing sets\n",
    "* Ideas for additional exercises, *which we can cover via slack if there is demand*:\n",
    "    * Build a *pipeline* to manage all the steps outlined above\n",
    "    * Use *Ensemble* methods to combine different ML models \n",
    "    * Undertake *Exploratory Data Analysis* to understand the dataset better\n",
    "    * Use *Feature Engineering* to provide additional inputs in to the model"
   ]
  },
  {
   "cell_type": "code",
   "execution_count": null,
   "metadata": {},
   "outputs": [],
   "source": []
  },
  {
   "cell_type": "markdown",
   "metadata": {
    "colab_type": "text",
    "id": "3Cb9fVKITfyq"
   },
   "source": [
    "## Part 2: Deep Learning \n",
    "\n",
    "**Structure of Part 2**\n",
    "1. Introduction to Deep Learning and Keras\n",
    "2. Build DL model, train and evaluate the model \n",
    "3. Refine model "
   ]
  },
  {
   "cell_type": "markdown",
   "metadata": {
    "colab_type": "text",
    "id": "OeuN9HVtUhMB"
   },
   "source": [
    "### 1. Introduction to Deep Learning and Keras\n",
    "**AIM:** \n",
    "* To cover the *basics* of Deep Learning (notes largely taken from 'Deep Learning wtih Python' by Francois Chollet)\n",
    "* To suggest further reading to explore the topic further  \n",
    "* To introduce Keras \n",
    "\n",
    "---\n",
    "\n",
    "**Deep Learning** \n",
    "* Deep Learning is a mathematical framework for learning representations from data.\n",
    "* The *deep* refers to the number of layers within a model: the layers puts an emphasis on learning successive layers of increasingly meaningful representations from the data. \n",
    "\n",
    "![alt text](https://i.stack.imgur.com/iHW2o.jpg)"
   ]
  },
  {
   "cell_type": "markdown",
   "metadata": {
    "colab_type": "text",
    "id": "YekKM6aYGmP6"
   },
   "source": [
    "* A Deep Learning model will include the following aspects (which we can specify in order to find the optimal model):\n",
    "  \n",
    "  * *Number of layers:* The core building block of neural networks is the layer, a data-processing module that you can think of as a filter for data. Some data goes in, and it comes out in a more useful form. Specifically, layers extract representations out of the data fed into them. The specification of what a layer does to its input data is stored in the layer’s weights, which in essence are a bunch of numbers. In this context, learning means finding a set of values for the weights of all layers in a network, such that the network will correctly map example inputs to their associated targets.\n",
    "\n",
    "  * *The objective loss function:* How the network will be able to measure its performance on the training data - how far this output is from what you expected - and thus how it will be able to steer itself in the right direction.The loss function takes the predictions of the network and the true target and computes a distance score, capturing how well the network has done on this specific example. \n",
    "  \n",
    "  * *The type of optimizer:* The mechanism through which the network will update itself based on the data it sees and its loss function.An optimizer will adjust the value of the weights a little, in a direction that will lower the loss score for the current example, using the Backpropagation algorithm.\n",
    "  \n",
    "  * *How we train the model on the data:* Initially, the weights of the network are assigned random values, so the network merely implements a series of random transformations. Its output is far from what it should ideally be, and the loss score is accordingly very high. But with every example the network processes, the weights are adjusted a little in the correct direction, and the loss score decreases. This is the training loop, which, repeated a sufficient number of times (typically tens of iterations over thousands of examples), yields weight values that minimize the loss function. A network with a minimal loss is one for which the outputs are as close as they can be to the targets: a trained network. Once again, it’s a simple mechanism that, once scaled, ends up looking like magic.\n",
    "  \n",
    "  \n",
    "* In addition, we also need to think about the type of *activation functions* we use. These define the ouput of node within a layer of the model, and helps the Deep Learning model move from linear representation of the data to non-linearity. \n",
    "* It is considered an art to get the right model, something which requires experimentation with the elements of the model covered above.  \n",
    "* Deep Learning uses linear algebra (matrix multiplication) to model the inputs to the outputs, and caculus (back propogation) to determine the error and update the model during each round of training. This is not covered here.  A free online course in linear algebra for deep learning is [here](http://www.fast.ai/2017/07/17/num-lin-alg/) and for calculus is [here](http://explained.ai/matrix-calculus/index.html?utm_medium=email&utm_source=topic+optin&utm_campaign=awareness&utm_content=20180709+ai+nl&mkt_tok=eyJpIjoiT1RBeE5qTmpaREZtWWpreCIsInQiOiJ1dithMG5IcDBsa0p3YjRVWFVGenpmOG5iQ0syM0M0Q3hMT3d3TUdMWkMwME1odElRTUxoRldmem5rRlhyK2d1YUROeGU0M0VlQ1VyeVJyY2o5RDFyWWFDdGRSWDVCcVp4aTJ3ajM1eDUyVUY4ZVFvZFVvRVduYSs1NmladnRBZSJ9). \n",
    "* Many different types of deep learning models, e.g. convolutional neural networks, which have been shown to be better at computer vision tasks, and recurrent neural networks, which are used in NLP tasks. We will be building a feedforward deep learning model, which is basic but sufficient for the problem we are trying to solve. \n",
    "* See this series of [articles](https://medium.com/@ageitgey/machine-learning-is-fun-part-3-deep-learning-and-convolutional-neural-networks-f40359318721) and [videos](https://www.youtube.com/watch?v=aircAruvnKk) for a good introduction to Deep Learning (and Machine Learning more generally). The [fast.ai](http://course.fast.ai) Deep Learning Course would be a good next step for anyone interested in doing more deep learning, and this [book](http://www.deeplearningbook.org) is the reference book for the subject (and is free).\n",
    "\n",
    "\n",
    "**Keras**\n",
    "* There are a number of Deep Learning libraries available, such as `Tensorflow` and `PyTorch`. We will be using `Keras`, which is a high level Deep Learning library. `Keras` can use other Deep Learning libraries as its `backend`, meaning we can use the same `Keras` interface to access these different libraries. For this tutorial we will be using `Tensorflow` as the backend.\n",
    "* `Keras` makes it straightforward to build our model, and we will cover operations to add layers, specify our activation functions, optimizer, loss functions and metrics, tailor our training and add regularization to our models. \n",
    "* The best places to learn more about `Keras` include the [Keras Blog](https://blog.keras.io) and the book [Deep Learning with Python](https://www.amazon.co.uk/Deep-Learning-Python-Francois-Chollet/dp/1617294438/ref=sr_1_1?ie=UTF8&qid=1537089319&sr=8-1&keywords=deep+learning+with+python), written by the head of the `Keras` project.."
   ]
  },
  {
   "cell_type": "markdown",
   "metadata": {
    "colab_type": "text",
    "id": "oCpXk7q6CWsx"
   },
   "source": [
    "### 2. Build Model \n",
    "**AIM:**\n",
    "* To build our first Deep Learning Model and get a feel for `Keras` \n",
    "\n",
    "---\n",
    "\n",
    "* In order to build a model, we need to:\n",
    "  * Define the model (its layers, activation functions, and number of 'neurons')\n",
    "  * Compile the model, by specifying the loss, optimizer and metrics we will use to update the model during training \n",
    "  * Fit the model to the data, and specify how we will train it \n",
    "  "
   ]
  },
  {
   "cell_type": "markdown",
   "metadata": {
    "colab_type": "text",
    "id": "avn0sxbU7AsU"
   },
   "source": [
    "### 2.1 Define Model "
   ]
  },
  {
   "cell_type": "code",
   "execution_count": 114,
   "metadata": {
    "colab": {
     "base_uri": "https://localhost:8080/",
     "height": 35
    },
    "colab_type": "code",
    "id": "8SUB_Mo7crGX",
    "outputId": "f9c60e07-fc6e-4e5e-98a5-f4ffaf0e05b1"
   },
   "outputs": [
    {
     "name": "stderr",
     "output_type": "stream",
     "text": [
      "Using TensorFlow backend.\n"
     ]
    }
   ],
   "source": [
    "# import statements \n",
    "import tensorflow as tf\n",
    "from keras.models import Sequential\n",
    "from keras.layers import Dense\n",
    "from keras.layers import Dropout\n",
    "from keras.utils import np_utils"
   ]
  },
  {
   "cell_type": "markdown",
   "metadata": {
    "colab_type": "text",
    "id": "ENTYqw197aKo"
   },
   "source": [
    "**EXERCISE 2.1:**  \n",
    "a) Specify the input dimension for the first layer, and the output size for the final layer, then run the code to define the model and see the summary of the model\n",
    "\n",
    "b) Go through below and comment line by line what you think is happening. Look at the [documentation](https://keras.io/getting-started/sequential-model-guide/) to understand this better, and see what other parameters are available to us. See [this](https://stackoverflow.com/questions/44747343/keras-input-explanation-input-shape-units-batch-size-dim-etc) too for more information. \n",
    "\n",
    "---\n",
    "\n",
    "**ANSWER:**"
   ]
  },
  {
   "cell_type": "code",
   "execution_count": 115,
   "metadata": {
    "colab": {},
    "colab_type": "code",
    "id": "iaNF339At4e9"
   },
   "outputs": [],
   "source": [
    "# see Exercise 2.1: What input dimensions are required? \n",
    "input_dim = X_train.shape[1]\n",
    "# see Exercise 2.1: What output size do we need to specify? \n",
    "output_size = 1"
   ]
  },
  {
   "cell_type": "code",
   "execution_count": 116,
   "metadata": {
    "colab": {
     "base_uri": "https://localhost:8080/",
     "height": 247
    },
    "colab_type": "code",
    "id": "ijp6sa7iCapO",
    "outputId": "1238aefb-a535-488b-d2fe-2de922c6d4a0"
   },
   "outputs": [
    {
     "name": "stdout",
     "output_type": "stream",
     "text": [
      "_________________________________________________________________\n",
      "Layer (type)                 Output Shape              Param #   \n",
      "=================================================================\n",
      "dense_1 (Dense)              (None, 100)               1000      \n",
      "_________________________________________________________________\n",
      "dense_2 (Dense)              (None, 50)                5050      \n",
      "_________________________________________________________________\n",
      "dense_3 (Dense)              (None, 1)                 51        \n",
      "=================================================================\n",
      "Total params: 6,101\n",
      "Trainable params: 6,101\n",
      "Non-trainable params: 0\n",
      "_________________________________________________________________\n"
     ]
    }
   ],
   "source": [
    "# Define model\n",
    "# Sequential is a simple, linearly stacked model - see links for further information on this \n",
    "model = Sequential()\n",
    "# This is out first layer, and the only time we need to specify the input dimensions of a layer\n",
    "model.add(Dense(100, input_dim=input_dim, activation= \"relu\"))\n",
    "# This is our second, 'hidden' layer. What other parameters are available to use when adding layers?  \n",
    "model.add(Dense(50, activation= \"relu\"))\n",
    "# This is our output layer\n",
    "model.add(Dense(output_size))\n",
    "# We can print the model summary here \n",
    "model.summary() "
   ]
  },
  {
   "cell_type": "markdown",
   "metadata": {
    "colab_type": "text",
    "id": "c08KkJMS7IKo"
   },
   "source": [
    "#### 2.2 Compile and Fit Model"
   ]
  },
  {
   "cell_type": "code",
   "execution_count": 117,
   "metadata": {
    "colab": {},
    "colab_type": "code",
    "id": "Jo6yLJ7yChAI"
   },
   "outputs": [],
   "source": [
    "# Compile model\n",
    "# here we have a number of options for each parameter\n",
    "model.compile(loss= \"mean_squared_error\" , optimizer=\"adam\", metrics=[\"mean_squared_error\"])"
   ]
  },
  {
   "cell_type": "code",
   "execution_count": 118,
   "metadata": {
    "colab": {
     "base_uri": "https://localhost:8080/",
     "height": 52
    },
    "colab_type": "code",
    "id": "l23m9rIQYxgn",
    "outputId": "b31361c8-3a1c-4b81-cbd9-aa0e5c34d51c"
   },
   "outputs": [
    {
     "name": "stdout",
     "output_type": "stream",
     "text": [
      "(385047, 9)\n",
      "(385047,)\n"
     ]
    }
   ],
   "source": [
    "  ## before fitting the model, let's create a validation set\n",
    "\n",
    "# remind ourselves of the training set shape\n",
    "print(X_train.shape)\n",
    "print(y_train.shape)"
   ]
  },
  {
   "cell_type": "code",
   "execution_count": 119,
   "metadata": {
    "colab": {},
    "colab_type": "code",
    "id": "ZBJwNvEvZInT"
   },
   "outputs": [],
   "source": [
    "# partition off X_train in X_train and X_val\n",
    "X_train = X_train[:3000000]\n",
    "X_val = X_train[300000:]\n",
    "\n",
    "# and do the same for y_train \n",
    "y_train = y_train[:3000000]\n",
    "y_val = y_train[300000:]"
   ]
  },
  {
   "cell_type": "code",
   "execution_count": 120,
   "metadata": {},
   "outputs": [
    {
     "data": {
      "text/plain": [
       "85047"
      ]
     },
     "execution_count": 120,
     "metadata": {},
     "output_type": "execute_result"
    }
   ],
   "source": [
    "len(y_val)"
   ]
  },
  {
   "cell_type": "code",
   "execution_count": 121,
   "metadata": {},
   "outputs": [
    {
     "name": "stdout",
     "output_type": "stream",
     "text": [
      "Train on 385047 samples, validate on 85047 samples\n",
      "Epoch 1/1\n",
      "385047/385047 [==============================] - 12s 31us/step - loss: 24917018.9816 - mean_squared_error: 24917018.9816 - val_loss: 21093024.0888 - val_mean_squared_error: 21093024.0888\n"
     ]
    }
   ],
   "source": [
    "epochs = 1\n",
    "# each epoch takes around 1 minute. Run with 1 epoch to get a feel for what is happening, Evaluate Model (2.3) then increase to 5 to see how things change\n",
    "history = model.fit(X_train, y_train, epochs=epochs, validation_data=(X_val,y_val))"
   ]
  },
  {
   "cell_type": "code",
   "execution_count": 122,
   "metadata": {},
   "outputs": [
    {
     "name": "stdout",
     "output_type": "stream",
     "text": [
      "Train on 385047 samples, validate on 85047 samples\n",
      "Epoch 1/5\n",
      "385047/385047 [==============================] - 11s 29us/step - loss: 19516469.5159 - mean_squared_error: 19516469.5159 - val_loss: 18559020.1073 - val_mean_squared_error: 18559020.1073\n",
      "Epoch 2/5\n",
      "385047/385047 [==============================] - 11s 29us/step - loss: 17877157.0056 - mean_squared_error: 17877157.0056 - val_loss: 17852316.5996 - val_mean_squared_error: 17852316.5996\n",
      "Epoch 3/5\n",
      "385047/385047 [==============================] - 11s 29us/step - loss: 17716033.7287 - mean_squared_error: 17716033.7287 - val_loss: 17830091.4399 - val_mean_squared_error: 17830091.4399\n",
      "Epoch 4/5\n",
      "385047/385047 [==============================] - 11s 29us/step - loss: 17703073.7081 - mean_squared_error: 17703073.7081 - val_loss: 17827865.1956 - val_mean_squared_error: 17827865.1956\n",
      "Epoch 5/5\n",
      "385047/385047 [==============================] - 11s 29us/step - loss: 17701198.0922 - mean_squared_error: 17701198.0922 - val_loss: 17864291.5598 - val_mean_squared_error: 17864291.5598\n"
     ]
    }
   ],
   "source": [
    "epochs = 5\n",
    "# Evaluate Model (2.3) then increase to 5 to see how things change\n",
    "history = model.fit(X_train, y_train, epochs=epochs, validation_data=(X_val,y_val))"
   ]
  },
  {
   "cell_type": "markdown",
   "metadata": {},
   "source": [
    "#### The MSE leveled off after 3 epochs or iterations"
   ]
  },
  {
   "cell_type": "code",
   "execution_count": 123,
   "metadata": {
    "colab": {
     "base_uri": "https://localhost:8080/",
     "height": 408
    },
    "colab_type": "code",
    "id": "jMpWT_OyCpAR",
    "outputId": "16b8b1dc-9ca1-4eb3-a4d6-8fe329f91fb6"
   },
   "outputs": [],
   "source": [
    "# Fit Model\n",
    "# epochs defines how many times we will train the model on the data\n",
    "#epochs = 10\n",
    "# each epoch takes around 1 minute. Run with 1 epoch to get a feel for what is happening, Evaluate Model (2.3) then increase to 5 to see how things change\n",
    "#history = model.fit(X_train, y_train, epochs=epochs, validation_data=(X_val,y_val))"
   ]
  },
  {
   "cell_type": "code",
   "execution_count": 124,
   "metadata": {
    "colab": {
     "base_uri": "https://localhost:8080/",
     "height": 35
    },
    "colab_type": "code",
    "id": "M1GJ5j7NS-7I",
    "outputId": "0b9adef6-e7aa-4b7c-8060-789b62ffb9fe"
   },
   "outputs": [
    {
     "data": {
      "text/plain": [
       "dict_keys(['val_loss', 'mean_squared_error', 'val_mean_squared_error', 'loss'])"
      ]
     },
     "execution_count": 124,
     "metadata": {},
     "output_type": "execute_result"
    }
   ],
   "source": [
    "# model.fit returns a history object, which contains a history dictionary about everything that happened during training \n",
    "history_dict = history.history\n",
    "history_dict.keys()"
   ]
  },
  {
   "cell_type": "code",
   "execution_count": 125,
   "metadata": {
    "colab": {
     "base_uri": "https://localhost:8080/",
     "height": 194
    },
    "colab_type": "code",
    "id": "5aHGbIIXXV-9",
    "outputId": "b4a730e3-29d8-45da-d49c-0de7ed10ee56"
   },
   "outputs": [
    {
     "data": {
      "text/plain": [
       "[18559020.10725834,\n",
       " 17852316.599597868,\n",
       " 17830091.439933214,\n",
       " 17827865.195621245,\n",
       " 17864291.55977283]"
      ]
     },
     "execution_count": 125,
     "metadata": {},
     "output_type": "execute_result"
    }
   ],
   "source": [
    "# for example we can access the validation loss like this\n",
    "history_dict['val_loss']"
   ]
  },
  {
   "cell_type": "code",
   "execution_count": 126,
   "metadata": {},
   "outputs": [
    {
     "data": {
      "text/plain": [
       "{'loss': [19516469.515947405,\n",
       "  17877157.005552568,\n",
       "  17716033.72866689,\n",
       "  17703073.70813433,\n",
       "  17701198.092248477],\n",
       " 'mean_squared_error': [19516469.515947405,\n",
       "  17877157.005552568,\n",
       "  17716033.72866689,\n",
       "  17703073.70813433,\n",
       "  17701198.092248477],\n",
       " 'val_loss': [18559020.10725834,\n",
       "  17852316.599597868,\n",
       "  17830091.439933214,\n",
       "  17827865.195621245,\n",
       "  17864291.55977283],\n",
       " 'val_mean_squared_error': [18559020.10725834,\n",
       "  17852316.599597868,\n",
       "  17830091.439933214,\n",
       "  17827865.195621245,\n",
       "  17864291.55977283]}"
      ]
     },
     "execution_count": 126,
     "metadata": {},
     "output_type": "execute_result"
    }
   ],
   "source": [
    "history_dict"
   ]
  },
  {
   "cell_type": "code",
   "execution_count": 127,
   "metadata": {
    "colab": {
     "base_uri": "https://localhost:8080/",
     "height": 376
    },
    "colab_type": "code",
    "id": "2_PCBb_bSzEP",
    "outputId": "89964c48-aacd-48c9-9eb4-e71ed60e911e"
   },
   "outputs": [
    {
     "data": {
      "image/png": "[encoded data removed]",
      "text/plain": [
       "<Figure size 432x288 with 1 Axes>"
      ]
     },
     "metadata": {
      "needs_background": "light"
     },
     "output_type": "display_data"
    }
   ],
   "source": [
    "# and use it to plot out the training performance\n",
    "import matplotlib.pyplot as plt\n",
    "loss_values = history_dict['loss']\n",
    "val_loss_values = history_dict['val_loss']\n",
    "\n",
    "epochs = range(1, len(history_dict['mean_squared_error']) + 1)\n",
    "\n",
    "plt.plot(epochs, loss_values, 'bo', label='Training loss')           \n",
    "plt.plot(epochs, val_loss_values, 'b', label='Validation loss')      \n",
    "plt.title('Training and validation Loss')\n",
    "plt.xlabel('Epochs')\n",
    "plt.ylabel('Loss')\n",
    "plt.legend()\n",
    "\n",
    "plt.show()"
   ]
  },
  {
   "cell_type": "markdown",
   "metadata": {
    "colab_type": "text",
    "id": "vEc2op9YDkjD"
   },
   "source": [
    "#### 2.3 Evaluate Model"
   ]
  },
  {
   "cell_type": "code",
   "execution_count": 128,
   "metadata": {
    "colab": {
     "base_uri": "https://localhost:8080/",
     "height": 376
    },
    "colab_type": "code",
    "id": "xwlNhVMpWfLS",
    "outputId": "462bdae4-facd-40c5-a575-3d9161384978"
   },
   "outputs": [
    {
     "data": {
      "image/png": "[encoded data removed]",
      "text/plain": [
       "<Figure size 432x288 with 1 Axes>"
      ]
     },
     "metadata": {
      "needs_background": "light"
     },
     "output_type": "display_data"
    }
   ],
   "source": [
    "# and evaluate the model using the scores\n",
    "plt.clf()                                      \n",
    "mse_values = history_dict['mean_squared_error']\n",
    "val_mse_values = history_dict['val_mean_squared_error']\n",
    "\n",
    "plt.plot(epochs, mse_values, 'bo', label='Training MSE')\n",
    "plt.plot(epochs, val_mse_values, 'b', label='Validation MSE')\n",
    "plt.title('Training and validation Score')\n",
    "plt.xlabel('Epochs')\n",
    "plt.ylabel('Loss')\n",
    "plt.legend()\n",
    "\n",
    "plt.show()"
   ]
  },
  {
   "cell_type": "code",
   "execution_count": 129,
   "metadata": {
    "colab": {
     "base_uri": "https://localhost:8080/",
     "height": 35
    },
    "colab_type": "code",
    "id": "S-ihCa1nDnh2",
    "outputId": "fa4cf6f5-63ed-4a29-a9ef-ab328461f5e1"
   },
   "outputs": [
    {
     "name": "stdout",
     "output_type": "stream",
     "text": [
      "RMSE score for Sequential is: 4215.86\n"
     ]
    }
   ],
   "source": [
    "# we can evaluate in a similar way to the machine learning models \n",
    "from sklearn import metrics\n",
    "predict = model.predict(X_test)\n",
    "score_nn = np.sqrt(metrics.mean_squared_error(y_test,predict))\n",
    "\n",
    "print('RMSE score for {} is:'.format(model.__class__.__name__),np.round((score_nn), decimals=2))"
   ]
  },
  {
   "cell_type": "markdown",
   "metadata": {
    "colab_type": "text",
    "id": "yyqYWGfXOReU"
   },
   "source": [
    "**EXERCISE 2.3:**  What are the reasons that this model might not be as good as the machine learning models we used on Day 1?\n",
    "\n",
    "---\n",
    "\n",
    "**ANSWER:** The RMSE is higher compared to the ML models used earlier. \n",
    "\n",
    "\n"
   ]
  },
  {
   "cell_type": "markdown",
   "metadata": {
    "colab_type": "text",
    "id": "nOmUo0By8D_p"
   },
   "source": [
    "### 3. Refine Model\n",
    "**AIM:** \n",
    "To understand the options for building models and refining how compile and fit models. \n",
    "\n",
    "---\n",
    "**Defining Models**\n",
    "  * We can change the number of *'neurons'* that are used at each layer of the model. This will increase or decrease the number of parameters in the model, and may result in the model over- or under-fitting.  \n",
    "  * We can add or remove *layers* within the model. Again, this will increase or decrease the number of parameters in the model, and may result in the model over- or under-fitting.  \n",
    "  * We can change the *activation functions* at each layer of the model, including (where appropriate), the output layer. Some activation functions are more suited to certain problem types, and the ones specified here are appropriate for a regression problem. See the [documention](https://keras.io/activations/) for more information.\n",
    "  \n",
    "**Regularizing Models**\n",
    "* *Weight regularization* constrains the complexity by forcing a network's weights to take only small values, which makes the distribution of weight values more regular. It’s done by adding to the loss function of the network a cost associated with having large weights. This cost will force the optimizer function to update the weights in a direction that reduces the larger weights, and can be calculated by:\n",
    "   * L1 regularization— The cost added is proportional to the absolute value of the weight coefficients.\n",
    "   * L2 regularization— The cost added is proportional to the square of the value of the weight coefficients. See [here](https://keras.io/regularizers/) for more detail.\n",
    "* *Dropout* results in some neurons being omitted from each training epoch, so that the model doesn't become reliant on certain 'neural pathways.' For each training instance, a node has a user defined probabilty of not being activated. We can specify dropout when we build our model, see the documentation and feel free to incorporate it in *Exercise 3.1*. See [here](http://www.cs.toronto.edu/~rsalakhu/papers/srivastava14a.pdf) for more detail and [here](https://keras.io/layers/core/) for how to code it, as well as another example [here](https://machinelearningmastery.com/dropout-regularization-deep-learning-models-keras/).\n",
    "  \n",
    "**Compiling Models**\n",
    "  * We can choose a range of *Optimisation*, *Loss* and *Metric* functions when compiling our models. Like activation functions, some are more suited to certain types of problems than others. See the documentation for more on [Optimizers](https://keras.io/optimizers/), [Loss](https://keras.io/losses/), and [Metrics](https://keras.io/metrics/). \n",
    "  * We can do a `Grid Search` of hyperparameters as we did in Day 1, see [here](https://machinelearningmastery.com/grid-search-hyperparameters-deep-learning-models-python-keras/) for a guide.\n",
    "  \n",
    "  \n",
    "**Refine training/fitting**\n",
    "  * The `.fit()` function contains a number of parameters that can be used to modify how we train our models. See the [documentation](https://keras.io/models/sequential/) for more details.\n",
    "  * For example, it is possible at this stage to partition a validation dataset from the training data, and to evaluate the loss and model metric at each epoch on this validation set.\n",
    "  * We can amend the number of epochs we train the model on, and also specify the number of steps (batches) per epoch, with each batch leading to a gradient update.\n",
    "  * We can also specify [Callbacks](https://keras.io/callbacks/), which are used to provide more information about how the model is trained. See [here](https://machinelearningmastery.com/check-point-deep-learning-models-keras/) for a worked example"
   ]
  },
  {
   "cell_type": "markdown",
   "metadata": {
    "colab_type": "text",
    "id": "YnUne5B08agg"
   },
   "source": [
    "**EXERCISE 3.1:**  Develop a new model (you can use the previous model as a basis for your new one), using one or more of the \n",
    "\n",
    "---\n",
    "\n",
    "**ANSWER:** *Use code cell below*"
   ]
  },
  {
   "cell_type": "code",
   "execution_count": 130,
   "metadata": {
    "colab": {
     "base_uri": "https://localhost:8080/",
     "height": 318
    },
    "colab_type": "code",
    "id": "Ur2T-9DjnYlQ",
    "outputId": "8ceafa5b-f6ef-4426-9dc8-15e2119bdca7"
   },
   "outputs": [
    {
     "name": "stdout",
     "output_type": "stream",
     "text": [
      "_________________________________________________________________\n",
      "Layer (type)                 Output Shape              Param #   \n",
      "=================================================================\n",
      "dense_4 (Dense)              (None, 256)               2560      \n",
      "_________________________________________________________________\n",
      "dense_5 (Dense)              (None, 128)               32896     \n",
      "_________________________________________________________________\n",
      "dropout_1 (Dropout)          (None, 128)               0         \n",
      "_________________________________________________________________\n",
      "dense_6 (Dense)              (None, 64)                8256      \n",
      "_________________________________________________________________\n",
      "dense_7 (Dense)              (None, 1)                 65        \n",
      "=================================================================\n",
      "Total params: 43,777\n",
      "Trainable params: 43,777\n",
      "Non-trainable params: 0\n",
      "_________________________________________________________________\n"
     ]
    }
   ],
   "source": [
    "## TODO: Build new DL Model here\n",
    "model_1 = Sequential()\n",
    "model_1.add(Dense(256,input_dim=input_dim, activation='relu')) \n",
    "model_1.add(Dense(128,activation='relu'))\n",
    "model_1.add(Dropout(0.2))\n",
    "model_1.add(Dense(64,activation='relu'))\n",
    "model_1.add(Dense(output_size))\n",
    "model_1.summary()"
   ]
  },
  {
   "cell_type": "code",
   "execution_count": 131,
   "metadata": {
    "colab": {},
    "colab_type": "code",
    "id": "oZJhDiwx0ybq"
   },
   "outputs": [],
   "source": [
    "## TODO: Compile new model here \n",
    "# here we have a number of options for each parameter\n",
    "model_1.compile(loss= \"mean_squared_error\" , optimizer=\"adam\", metrics=[\"mean_squared_error\"])"
   ]
  },
  {
   "cell_type": "code",
   "execution_count": 132,
   "metadata": {
    "colab": {},
    "colab_type": "code",
    "id": "HXdxCMkrbafg"
   },
   "outputs": [],
   "source": [
    "# set-up a callback here if you wish\n",
    "# from keras.callbacks import TensorBoard. Doesnt work with jupyter notebooks"
   ]
  },
  {
   "cell_type": "code",
   "execution_count": 133,
   "metadata": {},
   "outputs": [],
   "source": [
    "from keras.callbacks import ReduceLROnPlateau"
   ]
  },
  {
   "cell_type": "code",
   "execution_count": 134,
   "metadata": {},
   "outputs": [],
   "source": [
    "callback = ReduceLROnPlateau(monitor='val_loss', factor = 0.1, patience = 5, \n",
    "                            verbose = 0, cooldown = 3)"
   ]
  },
  {
   "cell_type": "code",
   "execution_count": 135,
   "metadata": {
    "colab": {
     "base_uri": "https://localhost:8080/",
     "height": 231
    },
    "colab_type": "code",
    "id": "P31Ci6W-0tIQ",
    "outputId": "e7e81a02-b971-4836-fcce-2d670b5245f3"
   },
   "outputs": [
    {
     "name": "stdout",
     "output_type": "stream",
     "text": [
      "Train on 385047 samples, validate on 85047 samples\n",
      "Epoch 1/15\n",
      "385047/385047 [==============================] - 19s 49us/step - loss: 20240649.8990 - mean_squared_error: 20240649.8990 - val_loss: 17999665.9508 - val_mean_squared_error: 17999665.9508\n",
      "Epoch 2/15\n",
      "385047/385047 [==============================] - 18s 47us/step - loss: 18129427.2770 - mean_squared_error: 18129427.2770 - val_loss: 17884299.7063 - val_mean_squared_error: 17884299.7063\n",
      "Epoch 3/15\n",
      "385047/385047 [==============================] - 18s 47us/step - loss: 18024538.3204 - mean_squared_error: 18024538.3204 - val_loss: 17614045.2805 - val_mean_squared_error: 17614045.2805\n",
      "Epoch 4/15\n",
      "385047/385047 [==============================] - 18s 48us/step - loss: 17627780.0688 - mean_squared_error: 17627780.0688 - val_loss: 17080943.7153 - val_mean_squared_error: 17080943.7153\n",
      "Epoch 5/15\n",
      "385047/385047 [==============================] - 21s 56us/step - loss: 16763110.4381 - mean_squared_error: 16763110.4381 - val_loss: 15919803.6800 - val_mean_squared_error: 15919803.6800\n",
      "Epoch 6/15\n",
      "385047/385047 [==============================] - 20s 52us/step - loss: 15898802.2165 - mean_squared_error: 15898802.2165 - val_loss: 14937784.1544 - val_mean_squared_error: 14937784.1544\n",
      "Epoch 7/15\n",
      "385047/385047 [==============================] - 21s 54us/step - loss: 14210238.0921 - mean_squared_error: 14210238.0921 - val_loss: 12234888.7079 - val_mean_squared_error: 12234888.7079\n",
      "Epoch 8/15\n",
      "385047/385047 [==============================] - 22s 57us/step - loss: 12597527.0723 - mean_squared_error: 12597527.0723 - val_loss: 11823254.9726 - val_mean_squared_error: 11823254.9726\n",
      "Epoch 9/15\n",
      "385047/385047 [==============================] - 21s 56us/step - loss: 12026076.9911 - mean_squared_error: 12026076.9911 - val_loss: 11435465.5408 - val_mean_squared_error: 11435465.5408\n",
      "Epoch 10/15\n",
      "385047/385047 [==============================] - 24s 62us/step - loss: 11586926.4382 - mean_squared_error: 11586926.4382 - val_loss: 10371243.6046 - val_mean_squared_error: 10371243.6046\n",
      "Epoch 11/15\n",
      "385047/385047 [==============================] - 24s 61us/step - loss: 11204783.7099 - mean_squared_error: 11204783.7099 - val_loss: 10682551.1162 - val_mean_squared_error: 10682551.1162\n",
      "Epoch 12/15\n",
      "385047/385047 [==============================] - 19s 50us/step - loss: 10924224.7617 - mean_squared_error: 10924224.7617 - val_loss: 9783641.5367 - val_mean_squared_error: 9783641.5367\n",
      "Epoch 13/15\n",
      "385047/385047 [==============================] - 19s 49us/step - loss: 10681586.9059 - mean_squared_error: 10681586.9059 - val_loss: 10553915.3407 - val_mean_squared_error: 10553915.3407\n",
      "Epoch 14/15\n",
      "385047/385047 [==============================] - 18s 48us/step - loss: 10501433.4824 - mean_squared_error: 10501433.4824 - val_loss: 10632249.8870 - val_mean_squared_error: 10632249.8870\n",
      "Epoch 15/15\n",
      "385047/385047 [==============================] - 18s 48us/step - loss: 10348749.4969 - mean_squared_error: 10348749.4969 - val_loss: 10529027.1876 - val_mean_squared_error: 10529027.1876\n"
     ]
    }
   ],
   "source": [
    "## TODO: Train new Model here\n",
    "epochs = 15\n",
    "history_1 = model_1.fit(X_train, y_train, epochs=epochs,validation_data=(X_val,y_val), \n",
    "                        callbacks=[callback])   # delete callbacks argument if not used"
   ]
  },
  {
   "cell_type": "code",
   "execution_count": 136,
   "metadata": {
    "colab": {
     "base_uri": "https://localhost:8080/",
     "height": 376
    },
    "colab_type": "code",
    "id": "aaef2NMg-aX2",
    "outputId": "c8ec87f9-3bbd-4114-951e-26b8cee4f715"
   },
   "outputs": [
    {
     "data": {
      "image/png": "[encoded data removed]",
      "text/plain": [
       "<Figure size 432x288 with 1 Axes>"
      ]
     },
     "metadata": {
      "needs_background": "light"
     },
     "output_type": "display_data"
    }
   ],
   "source": [
    "# and use it to plot out the training performance\n",
    "history_dict_1 = history.history\n",
    "loss_values = history_dict_1['loss']\n",
    "val_loss_values = history_dict_1['val_loss']\n",
    "\n",
    "epochs = range(1, len(history_dict_1['mean_squared_error']) + 1)\n",
    "\n",
    "plt.plot(epochs, loss_values, 'bo', label='Training loss')           \n",
    "plt.plot(epochs, val_loss_values, 'b', label='Validation loss')      \n",
    "plt.title('Training and validation loss')\n",
    "plt.xlabel('Epochs')\n",
    "plt.ylabel('Loss')\n",
    "plt.legend()\n",
    "\n",
    "plt.show()"
   ]
  },
  {
   "cell_type": "code",
   "execution_count": 137,
   "metadata": {
    "colab": {
     "base_uri": "https://localhost:8080/",
     "height": 35
    },
    "colab_type": "code",
    "id": "yGQezHJf11sF",
    "outputId": "d7457289-2afe-4ff0-88bd-89a1a4ae4594"
   },
   "outputs": [
    {
     "name": "stdout",
     "output_type": "stream",
     "text": [
      "3260.905595857597\n"
     ]
    }
   ],
   "source": [
    "## TODO: Evaluate your model\n",
    "predict = model_1.predict(X_test)\n",
    "score = np.sqrt(metrics.mean_squared_error(y_test,predict))\n",
    "print (score)"
   ]
  },
  {
   "cell_type": "markdown",
   "metadata": {
    "colab_type": "text",
    "id": "NL2N1RQs97Yj"
   },
   "source": [
    "**EXERCISE 3.2:**  Choose one aspect of the training to train by researching the above points further then passing the compiled model from *3.2* to the \n",
    "\n",
    "---\n",
    "\n",
    "**ANSWER:** *Use code cell below*"
   ]
  },
  {
   "cell_type": "code",
   "execution_count": 138,
   "metadata": {},
   "outputs": [
    {
     "name": "stdout",
     "output_type": "stream",
     "text": [
      "_________________________________________________________________\n",
      "Layer (type)                 Output Shape              Param #   \n",
      "=================================================================\n",
      "dense_8 (Dense)              (None, 256)               2560      \n",
      "_________________________________________________________________\n",
      "dense_9 (Dense)              (None, 128)               32896     \n",
      "_________________________________________________________________\n",
      "dropout_2 (Dropout)          (None, 128)               0         \n",
      "_________________________________________________________________\n",
      "dense_10 (Dense)             (None, 64)                8256      \n",
      "_________________________________________________________________\n",
      "dense_11 (Dense)             (None, 1)                 65        \n",
      "=================================================================\n",
      "Total params: 43,777\n",
      "Trainable params: 43,777\n",
      "Non-trainable params: 0\n",
      "_________________________________________________________________\n"
     ]
    }
   ],
   "source": [
    "## TODO: Build new training approach\n",
    "\n",
    "# Using same parameters as model_1\n",
    "model_2 = Sequential()\n",
    "model_2.add(Dense(256,input_dim=input_dim, activation='relu')) \n",
    "model_2.add(Dense(128,activation='relu'))\n",
    "model_2.add(Dropout(0.2))\n",
    "model_2.add(Dense(64,activation='relu'))\n",
    "model_2.add(Dense(output_size))\n",
    "model_2.summary()"
   ]
  },
  {
   "cell_type": "code",
   "execution_count": 139,
   "metadata": {},
   "outputs": [],
   "source": [
    "# Compiling\n",
    "model_2.compile(loss= \"mean_squared_error\" , optimizer=\"adam\", metrics=[\"mean_squared_error\"])"
   ]
  },
  {
   "cell_type": "code",
   "execution_count": 140,
   "metadata": {
    "colab": {},
    "colab_type": "code",
    "id": "XqwxJddK-W-b"
   },
   "outputs": [
    {
     "name": "stdout",
     "output_type": "stream",
     "text": [
      "Train on 385047 samples, validate on 85047 samples\n",
      "Epoch 1/15\n",
      "385047/385047 [==============================] - 14s 35us/step - loss: 21856010.2366 - mean_squared_error: 21856010.2366 - val_loss: 17854392.8221 - val_mean_squared_error: 17854392.8221\n",
      "Epoch 2/15\n",
      "385047/385047 [==============================] - 13s 33us/step - loss: 18080294.3263 - mean_squared_error: 18080294.3263 - val_loss: 17859948.5813 - val_mean_squared_error: 17859948.5813\n",
      "Epoch 3/15\n",
      "385047/385047 [==============================] - 17s 43us/step - loss: 18077654.4117 - mean_squared_error: 18077654.4117 - val_loss: 17905193.9478 - val_mean_squared_error: 17905193.9478\n",
      "Epoch 4/15\n",
      "385047/385047 [==============================] - 15s 39us/step - loss: 18056771.7101 - mean_squared_error: 18056771.7101 - val_loss: 17770449.3358 - val_mean_squared_error: 17770449.3358\n",
      "Epoch 5/15\n",
      "385047/385047 [==============================] - 15s 40us/step - loss: 18009051.9770 - mean_squared_error: 18009051.9770 - val_loss: 17919963.5835 - val_mean_squared_error: 17919963.5835\n",
      "Epoch 6/15\n",
      "385047/385047 [==============================] - 13s 34us/step - loss: 17930985.5220 - mean_squared_error: 17930985.5220 - val_loss: 17713102.6256 - val_mean_squared_error: 17713102.6256\n",
      "Epoch 7/15\n",
      "385047/385047 [==============================] - 12s 31us/step - loss: 17853293.0477 - mean_squared_error: 17853293.0477 - val_loss: 17609941.3131 - val_mean_squared_error: 17609941.3131\n",
      "Epoch 8/15\n",
      "385047/385047 [==============================] - 13s 34us/step - loss: 17663632.6096 - mean_squared_error: 17663632.6096 - val_loss: 17490137.9943 - val_mean_squared_error: 17490137.9943\n",
      "Epoch 9/15\n",
      "385047/385047 [==============================] - 16s 41us/step - loss: 17291424.9092 - mean_squared_error: 17291424.9092 - val_loss: 16749006.5715 - val_mean_squared_error: 16749006.5715\n",
      "Epoch 10/15\n",
      "385047/385047 [==============================] - 12s 32us/step - loss: 16674133.8846 - mean_squared_error: 16674133.8846 - val_loss: 16133765.6480 - val_mean_squared_error: 16133765.6480\n",
      "Epoch 11/15\n",
      "385047/385047 [==============================] - 12s 32us/step - loss: 15869483.2434 - mean_squared_error: 15869483.2434 - val_loss: 15001699.5544 - val_mean_squared_error: 15001699.5544\n",
      "Epoch 12/15\n",
      "385047/385047 [==============================] - 16s 42us/step - loss: 14051252.8210 - mean_squared_error: 14051252.8210 - val_loss: 13079142.3180 - val_mean_squared_error: 13079142.3180\n",
      "Epoch 13/15\n",
      "385047/385047 [==============================] - 14s 37us/step - loss: 12704344.5313 - mean_squared_error: 12704344.5313 - val_loss: 11690767.6688 - val_mean_squared_error: 11690767.6688\n",
      "Epoch 14/15\n",
      "385047/385047 [==============================] - 13s 34us/step - loss: 12092031.3450 - mean_squared_error: 12092031.3450 - val_loss: 12226815.8278 - val_mean_squared_error: 12226815.8278\n",
      "Epoch 15/15\n",
      "385047/385047 [==============================] - 13s 33us/step - loss: 11513272.1188 - mean_squared_error: 11513272.1188 - val_loss: 10481708.8332 - val_mean_squared_error: 10481708.8332\n"
     ]
    }
   ],
   "source": [
    "# changing batch_size for updating the learning rate and also using the above defined callback\n",
    "epochs = 15\n",
    "history_2 = model_2.fit(X_train, y_train, batch_size=64, epochs=epochs,validation_data=(X_val,y_val), \n",
    "                        callbacks=[callback])"
   ]
  },
  {
   "cell_type": "code",
   "execution_count": 141,
   "metadata": {
    "colab": {},
    "colab_type": "code",
    "id": "HoVA8r7C2NFe"
   },
   "outputs": [
    {
     "name": "stdout",
     "output_type": "stream",
     "text": [
      "3258.4118060646797\n"
     ]
    }
   ],
   "source": [
    "## TODO: Evaluate your model\n",
    "\n",
    "predict = model_2.predict(X_test)\n",
    "score = np.sqrt(metrics.mean_squared_error(y_test,predict))\n",
    "print (score)"
   ]
  },
  {
   "cell_type": "markdown",
   "metadata": {},
   "source": [
    "#### Increasing the batch size only marginally increased the RMSE but was faster compared to model_1"
   ]
  },
  {
   "cell_type": "markdown",
   "metadata": {
    "colab_type": "text",
    "id": "CQmM5S-l1Yo1"
   },
   "source": [
    "### 4. Wrapping up\n",
    "* We have covered: \n",
    "  * What Deep Learning is\n",
    "  * Building, compiling and fitting a model\n",
    "  * Refining how we build model, regularize and train our model\n",
    "* Ideas for additional exercises, *which we can cover via slack if there is demand*:\n",
    "    * Adding additional regularization methods\n",
    "    * Experimenting with adding model layers, changing the number of neurons in the model \n",
    "    "
   ]
  }
 ],
 "metadata": {
  "colab": {
   "collapsed_sections": [],
   "name": "DSfIOT - Machine Learning End to End Tutorial - in class",
   "provenance": [],
   "version": "0.3.2"
  },
  "kernelspec": {
   "display_name": "Python [conda env:anaconda3]",
   "language": "python",
   "name": "conda-env-anaconda3-py"
  },
  "language_info": {
   "codemirror_mode": {
    "name": "ipython",
    "version": 3
   },
   "file_extension": ".py",
   "mimetype": "text/x-python",
   "name": "python",
   "nbconvert_exporter": "python",
   "pygments_lexer": "ipython3",
   "version": "3.5.6"
  },
  "widgets": {
   "state": {},
   "version": "1.1.2"
  }
 },
 "nbformat": 4,
 "nbformat_minor": 1
}
